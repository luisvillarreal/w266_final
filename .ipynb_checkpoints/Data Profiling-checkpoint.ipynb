{
 "cells": [
  {
   "cell_type": "markdown",
   "metadata": {},
   "source": [
    "# 0. Importing the Libraries"
   ]
  },
  {
   "cell_type": "code",
   "execution_count": 1,
   "metadata": {},
   "outputs": [],
   "source": [
    "import os\n",
    "import numpy as np\n",
    "import pandas as pd\n",
    "import matplotlib.pyplot as plt"
   ]
  },
  {
   "cell_type": "markdown",
   "metadata": {},
   "source": [
    "# 1. Getting Tickers and Tweets"
   ]
  },
  {
   "cell_type": "markdown",
   "metadata": {},
   "source": [
    "We have two different data folders ('data' and 'data2'). This is because we first got all the tweets that mentioned name of stock as per the convention $ (ticker). \n",
    "\n",
    "Afterwards we got tweets that include names of companies along with their ticker symbols in the tweets. For example, we gathered any tweet that mentioned Amazon, and any tweet that mention $ (AMZN). This substantially increased our tweet count.\n",
    "\n",
    "Our tweets dataset consist of tweets pertaining to S&P500 Top 50 companies only."
   ]
  },
  {
   "cell_type": "code",
   "execution_count": 2,
   "metadata": {},
   "outputs": [],
   "source": [
    "# getting all the files in folder 'data'\n",
    "files = []\n",
    "for file in os.listdir('data'):\n",
    "    if file.endswith('.csv'):\n",
    "        files.append(os.path.join('data', file))"
   ]
  },
  {
   "cell_type": "code",
   "execution_count": 3,
   "metadata": {},
   "outputs": [],
   "source": [
    "# creating dataframe from files in 'data' folder\n",
    "\n",
    "data = []\n",
    "\n",
    "for filename in files:\n",
    "    with open(filename, 'r') as file:\n",
    "        ticker = filename.split('_')[-1][:-4]\n",
    "        line = file.readline()\n",
    "        line = file.readline()\n",
    "        while(line):\n",
    "            ts =line.split(';\"')[0][1:].split(';')[0]\n",
    "            tweet = line.split(';\"')[1].split('\";')[0]\n",
    "            line=file.readline()\n",
    "            data.append([ticker,ts,tweet])\n",
    "        \n",
    "df = pd.DataFrame(data, columns=['ticker','timestamp','tweet'])\n",
    "#df"
   ]
  },
  {
   "cell_type": "code",
   "execution_count": 4,
   "metadata": {},
   "outputs": [],
   "source": [
    "# getting all the files in 'data2' folder\n",
    "files1 = []\n",
    "for file in os.listdir('data2'):\n",
    "    if file.endswith('.csv'):\n",
    "        files1.append(os.path.join('data2', file))"
   ]
  },
  {
   "cell_type": "code",
   "execution_count": 5,
   "metadata": {},
   "outputs": [],
   "source": [
    "# creating dataframe for files in 'data2' folder\n",
    "data1 = []\n",
    "\n",
    "for filename in files1:\n",
    "    with open(filename, 'r') as file:\n",
    "        ticker = filename.split('_')[-1][:-4]\n",
    "        line = file.readline()\n",
    "        line = file.readline()\n",
    "        while(line):\n",
    "            ts =line.split(';\"')[0][1:].split(';')[0]\n",
    "            tweet = line.split(';\"')[1].split('\";')[0]\n",
    "            line=file.readline()\n",
    "            data1.append([ticker,ts,tweet])\n",
    "        \n",
    "df2 = pd.DataFrame(data1, columns=['ticker','timestamp','tweet'])\n",
    "#df"
   ]
  },
  {
   "cell_type": "code",
   "execution_count": 6,
   "metadata": {},
   "outputs": [],
   "source": [
    "# append the second dataframe to first\n",
    "combined_df = df.append(df2)"
   ]
  },
  {
   "cell_type": "markdown",
   "metadata": {},
   "source": [
    "As can be seen from shapes of dataframes below, our first dataframe has considerably less tweets than the second one."
   ]
  },
  {
   "cell_type": "code",
   "execution_count": 7,
   "metadata": {},
   "outputs": [
    {
     "name": "stdout",
     "output_type": "stream",
     "text": [
      "(155011, 3)\n",
      "(2989666, 3)\n"
     ]
    }
   ],
   "source": [
    "print(df.shape)\n",
    "print(df2.shape)"
   ]
  },
  {
   "cell_type": "code",
   "execution_count": 8,
   "metadata": {},
   "outputs": [
    {
     "data": {
      "text/html": [
       "<div>\n",
       "<style scoped>\n",
       "    .dataframe tbody tr th:only-of-type {\n",
       "        vertical-align: middle;\n",
       "    }\n",
       "\n",
       "    .dataframe tbody tr th {\n",
       "        vertical-align: top;\n",
       "    }\n",
       "\n",
       "    .dataframe thead th {\n",
       "        text-align: right;\n",
       "    }\n",
       "</style>\n",
       "<table border=\"1\" class=\"dataframe\">\n",
       "  <thead>\n",
       "    <tr style=\"text-align: right;\">\n",
       "      <th></th>\n",
       "      <th>ticker</th>\n",
       "      <th>timestamp</th>\n",
       "      <th>tweet</th>\n",
       "    </tr>\n",
       "  </thead>\n",
       "  <tbody>\n",
       "    <tr>\n",
       "      <th>0</th>\n",
       "      <td>INTC</td>\n",
       "      <td>2019-03-21 23:29</td>\n",
       "      <td>$ AAPL $ TRV $ MSFT $ HD $ DWDP $ INTC $ NKE $...</td>\n",
       "    </tr>\n",
       "    <tr>\n",
       "      <th>1</th>\n",
       "      <td>INTC</td>\n",
       "      <td>2019-03-21 23:25</td>\n",
       "      <td>$ INTC Intel - Q3 2019 Intel Corporation Earni...</td>\n",
       "    </tr>\n",
       "    <tr>\n",
       "      <th>2</th>\n",
       "      <td>INTC</td>\n",
       "      <td>2019-03-21 23:25</td>\n",
       "      <td>$ INTC # Intel # Intelligence # ImplementingCl...</td>\n",
       "    </tr>\n",
       "    <tr>\n",
       "      <th>3</th>\n",
       "      <td>INTC</td>\n",
       "      <td>2019-03-21 23:25</td>\n",
       "      <td>$ INTC Intel - Q2 2019 Intel Corporation Earni...</td>\n",
       "    </tr>\n",
       "    <tr>\n",
       "      <th>4</th>\n",
       "      <td>INTC</td>\n",
       "      <td>2019-03-21 23:24</td>\n",
       "      <td>$ INTC Intel - Q1 2019 Intel Corporation Earni...</td>\n",
       "    </tr>\n",
       "  </tbody>\n",
       "</table>\n",
       "</div>"
      ],
      "text/plain": [
       "  ticker         timestamp                                              tweet\n",
       "0   INTC  2019-03-21 23:29  $ AAPL $ TRV $ MSFT $ HD $ DWDP $ INTC $ NKE $...\n",
       "1   INTC  2019-03-21 23:25  $ INTC Intel - Q3 2019 Intel Corporation Earni...\n",
       "2   INTC  2019-03-21 23:25  $ INTC # Intel # Intelligence # ImplementingCl...\n",
       "3   INTC  2019-03-21 23:25  $ INTC Intel - Q2 2019 Intel Corporation Earni...\n",
       "4   INTC  2019-03-21 23:24  $ INTC Intel - Q1 2019 Intel Corporation Earni..."
      ]
     },
     "execution_count": 8,
     "metadata": {},
     "output_type": "execute_result"
    }
   ],
   "source": [
    "combined_df.head()"
   ]
  },
  {
   "cell_type": "code",
   "execution_count": 9,
   "metadata": {},
   "outputs": [],
   "source": [
    "# getting the timestamp column in proper format\n",
    "combined_df['timestamp'] = pd.to_datetime(combined_df['timestamp'], infer_datetime_format=True)"
   ]
  },
  {
   "cell_type": "code",
   "execution_count": 10,
   "metadata": {},
   "outputs": [],
   "source": [
    "# extracting date from timestamp\n",
    "combined_df['date'] = combined_df['timestamp'].map(lambda x:x.date())"
   ]
  },
  {
   "cell_type": "markdown",
   "metadata": {},
   "source": [
    "We only want data from 1st March, 2019 onwards. This is the period we have chosen to explore."
   ]
  },
  {
   "cell_type": "code",
   "execution_count": 11,
   "metadata": {},
   "outputs": [],
   "source": [
    "combined_df = combined_df[combined_df['date'] >= pd.to_datetime('2019-03-01').date()]"
   ]
  },
  {
   "cell_type": "code",
   "execution_count": 12,
   "metadata": {},
   "outputs": [
    {
     "data": {
      "text/html": [
       "<div>\n",
       "<style scoped>\n",
       "    .dataframe tbody tr th:only-of-type {\n",
       "        vertical-align: middle;\n",
       "    }\n",
       "\n",
       "    .dataframe tbody tr th {\n",
       "        vertical-align: top;\n",
       "    }\n",
       "\n",
       "    .dataframe thead th {\n",
       "        text-align: right;\n",
       "    }\n",
       "</style>\n",
       "<table border=\"1\" class=\"dataframe\">\n",
       "  <thead>\n",
       "    <tr style=\"text-align: right;\">\n",
       "      <th></th>\n",
       "      <th>ticker</th>\n",
       "      <th>timestamp</th>\n",
       "      <th>tweet</th>\n",
       "      <th>date</th>\n",
       "    </tr>\n",
       "  </thead>\n",
       "  <tbody>\n",
       "    <tr>\n",
       "      <th>0</th>\n",
       "      <td>INTC</td>\n",
       "      <td>2019-03-21 23:29:00</td>\n",
       "      <td>$ AAPL $ TRV $ MSFT $ HD $ DWDP $ INTC $ NKE $...</td>\n",
       "      <td>2019-03-21</td>\n",
       "    </tr>\n",
       "    <tr>\n",
       "      <th>1</th>\n",
       "      <td>INTC</td>\n",
       "      <td>2019-03-21 23:25:00</td>\n",
       "      <td>$ INTC Intel - Q3 2019 Intel Corporation Earni...</td>\n",
       "      <td>2019-03-21</td>\n",
       "    </tr>\n",
       "    <tr>\n",
       "      <th>2</th>\n",
       "      <td>INTC</td>\n",
       "      <td>2019-03-21 23:25:00</td>\n",
       "      <td>$ INTC # Intel # Intelligence # ImplementingCl...</td>\n",
       "      <td>2019-03-21</td>\n",
       "    </tr>\n",
       "    <tr>\n",
       "      <th>3</th>\n",
       "      <td>INTC</td>\n",
       "      <td>2019-03-21 23:25:00</td>\n",
       "      <td>$ INTC Intel - Q2 2019 Intel Corporation Earni...</td>\n",
       "      <td>2019-03-21</td>\n",
       "    </tr>\n",
       "    <tr>\n",
       "      <th>4</th>\n",
       "      <td>INTC</td>\n",
       "      <td>2019-03-21 23:24:00</td>\n",
       "      <td>$ INTC Intel - Q1 2019 Intel Corporation Earni...</td>\n",
       "      <td>2019-03-21</td>\n",
       "    </tr>\n",
       "  </tbody>\n",
       "</table>\n",
       "</div>"
      ],
      "text/plain": [
       "  ticker           timestamp  \\\n",
       "0   INTC 2019-03-21 23:29:00   \n",
       "1   INTC 2019-03-21 23:25:00   \n",
       "2   INTC 2019-03-21 23:25:00   \n",
       "3   INTC 2019-03-21 23:25:00   \n",
       "4   INTC 2019-03-21 23:24:00   \n",
       "\n",
       "                                               tweet        date  \n",
       "0  $ AAPL $ TRV $ MSFT $ HD $ DWDP $ INTC $ NKE $...  2019-03-21  \n",
       "1  $ INTC Intel - Q3 2019 Intel Corporation Earni...  2019-03-21  \n",
       "2  $ INTC # Intel # Intelligence # ImplementingCl...  2019-03-21  \n",
       "3  $ INTC Intel - Q2 2019 Intel Corporation Earni...  2019-03-21  \n",
       "4  $ INTC Intel - Q1 2019 Intel Corporation Earni...  2019-03-21  "
      ]
     },
     "execution_count": 12,
     "metadata": {},
     "output_type": "execute_result"
    }
   ],
   "source": [
    "combined_df.head()"
   ]
  },
  {
   "cell_type": "code",
   "execution_count": 13,
   "metadata": {},
   "outputs": [
    {
     "data": {
      "text/plain": [
       "(3141107, 4)"
      ]
     },
     "execution_count": 13,
     "metadata": {},
     "output_type": "execute_result"
    }
   ],
   "source": [
    "combined_df.shape"
   ]
  },
  {
   "cell_type": "code",
   "execution_count": 14,
   "metadata": {},
   "outputs": [],
   "source": [
    "# removing all the duplicate tweets\n",
    "combined_df.drop_duplicates(inplace=True)"
   ]
  },
  {
   "cell_type": "code",
   "execution_count": 15,
   "metadata": {},
   "outputs": [
    {
     "data": {
      "text/plain": [
       "(2946046, 4)"
      ]
     },
     "execution_count": 15,
     "metadata": {},
     "output_type": "execute_result"
    }
   ],
   "source": [
    "combined_df.shape"
   ]
  },
  {
   "cell_type": "markdown",
   "metadata": {},
   "source": [
    "# 2. Adding Sentiment Score to Each Tweet"
   ]
  },
  {
   "cell_type": "markdown",
   "metadata": {},
   "source": [
    "For the sentiment score for our tweets, we decided to use 'vaderSentimentAnalyzer'. As per the definition from the creators:\n",
    "\n",
    "**VADER (Valence Aware Dictionary and sEntiment Reasoner) is a lexicon and rule-based sentiment analysis tool that is specifically attuned to sentiments expressed in social media, and works well on texts from other domains.**\n",
    "\n",
    "Since we are exclusively dealing with sentimenn analysis of social media messages (tweets, in our case), VADER seemed the appropriate choice. "
   ]
  },
  {
   "cell_type": "code",
   "execution_count": 16,
   "metadata": {},
   "outputs": [],
   "source": [
    "from vaderSentiment.vaderSentiment import SentimentIntensityAnalyzer"
   ]
  },
  {
   "cell_type": "code",
   "execution_count": 17,
   "metadata": {},
   "outputs": [],
   "source": [
    "# extracting sentiment score for each tweet\n",
    "# we are interested in only the compound polarity score\n",
    "# details about this number can be found in paper accompanying this notebook\n",
    "\n",
    "analyzer = SentimentIntensityAnalyzer()\n",
    "combined_df['compound'] = combined_df['tweet'].map(\n",
    "    lambda x: list(analyzer.polarity_scores(x).values())[3])"
   ]
  },
  {
   "cell_type": "code",
   "execution_count": 18,
   "metadata": {},
   "outputs": [],
   "source": [
    "# # extracting day_name, day, and day_of_week in case we need it for analysis\n",
    "# combined_df['day_name'] = combined_df['timestamp'].map(lambda x: x.day_name())\n",
    "# combined_df['day'] = combined_df['timestamp'].map(lambda x: x.day)\n",
    "# combined_df['day_of_week'] = combined_df['timestamp'].map(lambda x: x.dayofweek)"
   ]
  },
  {
   "cell_type": "code",
   "execution_count": 19,
   "metadata": {},
   "outputs": [],
   "source": [
    "#combined_df.to_csv('tweets_with_sentiment.csv')\n",
    "#combined_df = pd.read_csv('tweets_with_sentiment.csv', index_col=False)"
   ]
  },
  {
   "cell_type": "code",
   "execution_count": 25,
   "metadata": {},
   "outputs": [
    {
     "data": {
      "text/html": [
       "<div>\n",
       "<style scoped>\n",
       "    .dataframe tbody tr th:only-of-type {\n",
       "        vertical-align: middle;\n",
       "    }\n",
       "\n",
       "    .dataframe tbody tr th {\n",
       "        vertical-align: top;\n",
       "    }\n",
       "\n",
       "    .dataframe thead th {\n",
       "        text-align: right;\n",
       "    }\n",
       "</style>\n",
       "<table border=\"1\" class=\"dataframe\">\n",
       "  <thead>\n",
       "    <tr style=\"text-align: right;\">\n",
       "      <th></th>\n",
       "      <th>ticker</th>\n",
       "      <th>timestamp</th>\n",
       "      <th>tweet</th>\n",
       "      <th>date</th>\n",
       "      <th>compound</th>\n",
       "    </tr>\n",
       "  </thead>\n",
       "  <tbody>\n",
       "    <tr>\n",
       "      <th>2760040</th>\n",
       "      <td>McDonald</td>\n",
       "      <td>2019-03-28 00:43:00</td>\n",
       "      <td>Seth Rich Seth Rich Seth Rich Seth Rich Seth R...</td>\n",
       "      <td>2019-03-28</td>\n",
       "      <td>0.9972</td>\n",
       "    </tr>\n",
       "    <tr>\n",
       "      <th>1877115</th>\n",
       "      <td>Microsoft</td>\n",
       "      <td>2019-03-21 21:06:00</td>\n",
       "      <td>Pagar entre 100 y 180 euros al año por un serv...</td>\n",
       "      <td>2019-03-21</td>\n",
       "      <td>0.9944</td>\n",
       "    </tr>\n",
       "    <tr>\n",
       "      <th>1301128</th>\n",
       "      <td>Netflix</td>\n",
       "      <td>2019-03-26 23:12:00</td>\n",
       "      <td>When you driiiiinkin, but need to smoke! • # t...</td>\n",
       "      <td>2019-03-26</td>\n",
       "      <td>0.9943</td>\n",
       "    </tr>\n",
       "    <tr>\n",
       "      <th>1543605</th>\n",
       "      <td>Netflix</td>\n",
       "      <td>2019-03-23 16:05:00</td>\n",
       "      <td>I'm so sorry to hear this but totally understa...</td>\n",
       "      <td>2019-03-23</td>\n",
       "      <td>0.9939</td>\n",
       "    </tr>\n",
       "    <tr>\n",
       "      <th>569209</th>\n",
       "      <td>Boeing</td>\n",
       "      <td>2019-03-13 23:43:00</td>\n",
       "      <td># Boeing : \"DON'T GROUND US WE ARE PERFECTLY S...</td>\n",
       "      <td>2019-03-13</td>\n",
       "      <td>0.9938</td>\n",
       "    </tr>\n",
       "  </tbody>\n",
       "</table>\n",
       "</div>"
      ],
      "text/plain": [
       "            ticker           timestamp  \\\n",
       "2760040   McDonald 2019-03-28 00:43:00   \n",
       "1877115  Microsoft 2019-03-21 21:06:00   \n",
       "1301128    Netflix 2019-03-26 23:12:00   \n",
       "1543605    Netflix 2019-03-23 16:05:00   \n",
       "569209      Boeing 2019-03-13 23:43:00   \n",
       "\n",
       "                                                     tweet        date  \\\n",
       "2760040  Seth Rich Seth Rich Seth Rich Seth Rich Seth R...  2019-03-28   \n",
       "1877115  Pagar entre 100 y 180 euros al año por un serv...  2019-03-21   \n",
       "1301128  When you driiiiinkin, but need to smoke! • # t...  2019-03-26   \n",
       "1543605  I'm so sorry to hear this but totally understa...  2019-03-23   \n",
       "569209   # Boeing : \"DON'T GROUND US WE ARE PERFECTLY S...  2019-03-13   \n",
       "\n",
       "         compound  \n",
       "2760040    0.9972  \n",
       "1877115    0.9944  \n",
       "1301128    0.9943  \n",
       "1543605    0.9939  \n",
       "569209     0.9938  "
      ]
     },
     "execution_count": 25,
     "metadata": {},
     "output_type": "execute_result"
    }
   ],
   "source": [
    "combined_df.head()"
   ]
  },
  {
   "cell_type": "code",
   "execution_count": 123,
   "metadata": {},
   "outputs": [],
   "source": [
    "combined_df.sort_values(by = 'compound', ascending=False, inplace=True)"
   ]
  },
  {
   "cell_type": "code",
   "execution_count": 124,
   "metadata": {},
   "outputs": [
    {
     "data": {
      "text/html": [
       "<div>\n",
       "<style scoped>\n",
       "    .dataframe tbody tr th:only-of-type {\n",
       "        vertical-align: middle;\n",
       "    }\n",
       "\n",
       "    .dataframe tbody tr th {\n",
       "        vertical-align: top;\n",
       "    }\n",
       "\n",
       "    .dataframe thead th {\n",
       "        text-align: right;\n",
       "    }\n",
       "</style>\n",
       "<table border=\"1\" class=\"dataframe\">\n",
       "  <thead>\n",
       "    <tr style=\"text-align: right;\">\n",
       "      <th></th>\n",
       "      <th>ticker</th>\n",
       "      <th>timestamp</th>\n",
       "      <th>tweet</th>\n",
       "      <th>date</th>\n",
       "      <th>compound</th>\n",
       "      <th>pos/neg</th>\n",
       "    </tr>\n",
       "  </thead>\n",
       "  <tbody>\n",
       "    <tr>\n",
       "      <th>2760040</th>\n",
       "      <td>McDonald</td>\n",
       "      <td>2019-03-28 00:43:00</td>\n",
       "      <td>Seth Rich Seth Rich Seth Rich Seth Rich Seth R...</td>\n",
       "      <td>2019-03-28</td>\n",
       "      <td>0.9972</td>\n",
       "      <td>1</td>\n",
       "    </tr>\n",
       "    <tr>\n",
       "      <th>1877115</th>\n",
       "      <td>Microsoft</td>\n",
       "      <td>2019-03-21 21:06:00</td>\n",
       "      <td>Pagar entre 100 y 180 euros al año por un serv...</td>\n",
       "      <td>2019-03-21</td>\n",
       "      <td>0.9944</td>\n",
       "      <td>1</td>\n",
       "    </tr>\n",
       "    <tr>\n",
       "      <th>1301128</th>\n",
       "      <td>Netflix</td>\n",
       "      <td>2019-03-26 23:12:00</td>\n",
       "      <td>When you driiiiinkin, but need to smoke! • # t...</td>\n",
       "      <td>2019-03-26</td>\n",
       "      <td>0.9943</td>\n",
       "      <td>1</td>\n",
       "    </tr>\n",
       "    <tr>\n",
       "      <th>1543605</th>\n",
       "      <td>Netflix</td>\n",
       "      <td>2019-03-23 16:05:00</td>\n",
       "      <td>I'm so sorry to hear this but totally understa...</td>\n",
       "      <td>2019-03-23</td>\n",
       "      <td>0.9939</td>\n",
       "      <td>1</td>\n",
       "    </tr>\n",
       "    <tr>\n",
       "      <th>569209</th>\n",
       "      <td>Boeing</td>\n",
       "      <td>2019-03-13 23:43:00</td>\n",
       "      <td># Boeing : \"DON'T GROUND US WE ARE PERFECTLY S...</td>\n",
       "      <td>2019-03-13</td>\n",
       "      <td>0.9938</td>\n",
       "      <td>1</td>\n",
       "    </tr>\n",
       "  </tbody>\n",
       "</table>\n",
       "</div>"
      ],
      "text/plain": [
       "            ticker           timestamp  \\\n",
       "2760040   McDonald 2019-03-28 00:43:00   \n",
       "1877115  Microsoft 2019-03-21 21:06:00   \n",
       "1301128    Netflix 2019-03-26 23:12:00   \n",
       "1543605    Netflix 2019-03-23 16:05:00   \n",
       "569209      Boeing 2019-03-13 23:43:00   \n",
       "\n",
       "                                                     tweet        date  \\\n",
       "2760040  Seth Rich Seth Rich Seth Rich Seth Rich Seth R...  2019-03-28   \n",
       "1877115  Pagar entre 100 y 180 euros al año por un serv...  2019-03-21   \n",
       "1301128  When you driiiiinkin, but need to smoke! • # t...  2019-03-26   \n",
       "1543605  I'm so sorry to hear this but totally understa...  2019-03-23   \n",
       "569209   # Boeing : \"DON'T GROUND US WE ARE PERFECTLY S...  2019-03-13   \n",
       "\n",
       "         compound  pos/neg  \n",
       "2760040    0.9972        1  \n",
       "1877115    0.9944        1  \n",
       "1301128    0.9943        1  \n",
       "1543605    0.9939        1  \n",
       "569209     0.9938        1  "
      ]
     },
     "execution_count": 124,
     "metadata": {},
     "output_type": "execute_result"
    }
   ],
   "source": [
    "combined_df.head()"
   ]
  },
  {
   "cell_type": "markdown",
   "metadata": {},
   "source": [
    "## 2.1 Sample Tweets to Manually Ascertain Polarity Score Quality"
   ]
  },
  {
   "cell_type": "markdown",
   "metadata": {},
   "source": [
    "This portion is aimed at looking at few samples of tweets and manually see if the polarity scores sit well with the content of the tweet.\n",
    "We will look at all three cases: positive, neutral and negative example tweets."
   ]
  },
  {
   "cell_type": "markdown",
   "metadata": {},
   "source": [
    "#### 2.1.1 Positive Tweets"
   ]
  },
  {
   "cell_type": "code",
   "execution_count": 128,
   "metadata": {},
   "outputs": [
    {
     "name": "stdout",
     "output_type": "stream",
     "text": [
      "I know I don't have many followers that follow Starcraft but spoiler free: Absolutely incredible win for the champion of the Intel Extreme Masters! Fantastic games, sensational energy and effort. The whole tournament was the best of the best. Mad love. # SC2 # IEM\n",
      "\n",
      "\n",
      "I have just come to the shocking conclusion that Windows 7 is actually Windows 10! Win 1.0 = 1 Win 2.0 = 2 Win 3.0 = 3 Win 95 = 4 Win 98 = 5 Win ME = 6 Win 2000 = 7 Win XP = 8 Win Vista = 9 Win 7 = 10! Between this and the Xbox \"One\", I am convinced @ Microsoft can't count. :-P\n",
      "\n",
      "\n",
      "I see futures have nice macd golden cross on hour chart but wait to see if they will continue nice when open at 8:30 am in central zone $ XLF pop up nice $ XLK nice $ XLV nice $ XLI fair $ NFLX nice $ AMZN nice $ BABA nice $ TSLA nice $ BA nice golden cross $ SPY nice golden cross\n",
      "\n",
      "\n",
      "i literally just said out loud to my self “i... fucking love this look” @ iamstephbeatz you look STUNNING. THE HAIR. YES. THE ‘FIT. YES. THE SHOES. YES. THE MAKEUP. YES. YOU ARE SO BEAUTIFUL. you’re a beautiful, diverse, valid, accepted disney princess looking woman. i love u. pic.twitter.com/qhVbrHhiNY\n",
      "\n",
      "\n",
      "I see futures have nice macd golden cross on hour chart but wait to see if they will continue nice when open at 8:30 am in central zone $ XLF pop up nice $ XLK nice $ XLV nice $ XLI fair $ NFLX nice $ AMZN nice $ BABA nice $ TSLA nice $ BA nice golden cross $ SPY nice golden cross\n",
      "\n",
      "\n",
      "I see futures have nice macd golden cross on hour chart but wait to see if they will continue nice when open at 8:30 am in central zone $ XLF pop up nice $ XLK nice $ XLV nice $ XLI fair $ NFLX nice $ AMZN nice $ BABA nice $ TSLA nice $ BA nice golden cross $ SPY nice golden cross\n",
      "\n",
      "\n",
      "7/4: NAK NETFLIX GIFT CARD! NAK NETFLIX GIFT CARD! NAK NETFLIX GIFT CARD! NAK NETFLIX GIFT CARD! NAK NETFLIX GIFT CARD! NAK NETFLIX GIFT CARD! NAK NETFLIX GIFT CARD! NAK NETFLIX GIFT CARD! NAK NETFLIX GIFT CARD! NAK NETFLIX GIFT CARD! NAK NETFLIX GIFT CARD!\n",
      "\n",
      "\n",
      "Apex legends is in apex and they have to be at least one for a while but I wanna is it gonna was gonna a great time of year to join our clan join join me join join my clan clan today join us join me join us join clan join join me for join me in my clan clan please thank youu I\n",
      "\n",
      "\n",
      "Can't believe I haven't tweeted about this before but - where are my Dragon Prince fans at?! It is utterly WONDERFUL. Funny (I've laughed out loud so much), heartwarming, beautiful, well written, moving (I've even cried) & with diverse, interesting characters. LOVE. IT. SO. MUCH. pic.twitter.com/JfpBlybVvh\n",
      "\n",
      "\n",
      "In 2019, I hope you get RICH, Rich in knowledge, Rich in health, Rich in love, Rich in adventure, Rich in laughter, Rich in family https://askwarrenhq.blogspot.com/2019/03/in-2019-i-hope-you-get-rich-rich-in.html … The Best Stock Investment For 2019 https://askwarrenhq.blogspot.com/p/14-reasons-why-progressive-care-rxmd-is.html … $ DSGT $ FDFT $ FLSR $ ANDI $ RNVA $ BVTK $ PFWI $ MSPC $ NHPI $ BAC $ AAPL\n",
      "\n",
      "\n",
      "In 2019, I hope you get RICH, Rich in knowledge, Rich in health, Rich in love, Rich in adventure, Rich in laughter, Rich in family https://askwarrenhq.blogspot.com/2019/03/in-2019-i-hope-you-get-rich-rich-in.html … The Best Stock Investment For 2019 https://askwarrenhq.blogspot.com/p/14-reasons-why-progressive-care-rxmd-is.html … $ DSGT $ FDFT $ FLSR $ ANDI $ RNVA $ BVTK $ PFWI $ MSPC $ NHPI $ BAC $ AAPL\n",
      "\n",
      "\n",
      "charlize sky love I love you my life sky I do not stop you from thinking love please my life I ask you with love heaven help me with the visa to be able to see the united states I love you I want to be with you love heaven please my name is jose luis noboa giler sky https://twitter.com/jlng1007/status/946403292355186689 …\n",
      "\n",
      "\n",
      "charlize sky love I love you my life sky I do not stop you from thinking love please my life I ask you with love heaven help me with the visa to be able to see the united states I love you I want to be with you love heaven please my name is jose luis noboa giler https://twitter.com/jlng1007/status/946403292355186689 …\n",
      "\n",
      "\n",
      "You are so precious Jungkook. I love you so much.. I like to see you smile, it’s so sweet and when I look at you I can’t help but smile too. You are a really talented person and your personality is so kind and beautiful. And your voice, it’s so peaceful and amazing. pic.twitter.com/Lpha1qZXDe\n",
      "\n",
      "\n",
      "Happy birthday, beautiful Lalisa, I wish you the best of this world for this beautiful girl who has won all my heart, is the most beautiful, talented, adorable, fun and beautiful. I already said beautiful? Att: another fan who loves you madly # AceLalisaDay @ ygofficialblink cepic.twitter.com/D118c1oYzw\n",
      "\n",
      "\n",
      "Love for people enshrines Divinely bliss. Translated from Arabic by Microsoft extend your hands to the people, with goodness, with sympathy, with love, the hand of God extends to you with subtle kindness, doubly good, with divine Mercy, with the purest and greatest love. ❥˓٭˛\n",
      "\n",
      "\n",
      "# Boeing : \"DON'T GROUND US WE ARE PERFECTLY SAFE! DON'T GROUND US WE ARE PERFECTLY SAFE! DON'T GROUND US WE ARE PERFECTLY SAFE! DON'T GROUND US WE ARE PERFECTLY SAFE! DON'T GROUND US WE ARE PERFECTLY SAFE!...\" \"OK, its probably best if we are grounded.\" https://twitter.com/CometsMum/status/1105977033862066177 …\n",
      "\n",
      "\n",
      "I'm so sorry to hear this but totally understand. I am a huge, huge fan! I've seen every show twice and could watch 100 more times! Thank goodness for Netflix! I truly love you guys. Thank you for such a great show all these years. We will miss you and wish you the best!\n",
      "\n",
      "\n",
      "When you driiiiinkin, but need to smoke! • # twitter # SMOKE # BONG # MARIJUANA # CANNABIS # STONER # TV # MARYJANE # LIQUOR # FUN # NETFLIX # CANADA # SMILE # DAB # STONED # BUD # HAPPY # BEST # PHOTOOFTHEDAY # PHOTO # AWESOME # GREAT # MMMP #420 # SUPER # TV # TELEVISION … https://ift.tt/2TBmd7x pic.twitter.com/nqg2oWvLHv\n",
      "\n",
      "\n",
      "Pagar entre 100 y 180 euros al año por un servicio de retro-compatibilidad que debería de ser gratuito (microsoft/nintendo) y encima va como la mierda xd xd xd xd xd xd xd xd xd xd xd xd xd pic.twitter.com/7ND9rpNV92\n",
      "\n",
      "\n",
      "Seth Rich Seth Rich Seth Rich Seth Rich Seth Rich Seth Rich Seth Rich Seth Rich Seth Rich Seth Rich Seth Rich Seth Rich Seth Rich Seth Rich Seth Rich Seth Rich Seth Rich Seth Rich Seth Rich Seth Rich\n",
      "\n",
      "\n"
     ]
    }
   ],
   "source": [
    "for row in combined_df.loc[combined_df['compound'] > 0.05]['tweet'][20::-1]:\n",
    "    print(row)\n",
    "    print('\\n')"
   ]
  },
  {
   "cell_type": "markdown",
   "metadata": {},
   "source": [
    "#### 2.1.2 Negative Tweets"
   ]
  },
  {
   "cell_type": "code",
   "execution_count": 129,
   "metadata": {},
   "outputs": [
    {
     "name": "stdout",
     "output_type": "stream",
     "text": [
      "Why would I want to pay 10$ a month for @ AppleNews plus? regular apple news isn't all that great, and what's up with all these monthly $$$$$...enough...let's just enjoy @ netflix & @ PrimeVideo\n",
      "\n",
      "\n",
      "Don't have to worry about this at X-Tek. We are in the business of prevention. Give us a call for details. Office Depot pays $35 million over claims it lied to customers about malware infections https://www.theverge.com/2019/3/28/18285727/office-depot-ftc-fine-repairs-fake-malware-reports …pic.twitter.com/njMJS2TL3E\n",
      "\n",
      "\n",
      "Our very own Max Vetter was at @ CSE_Global today talking about Threat Intel and Criminal Innovation. Missed his talk? Don't worry, you'll get a chance to meet Max tomorrow at his talk on making the life of a new CISO easier. 1:10pm in the Cyber Innovations & GRC Theatre # CCSE19pic.twitter.com/0dEmkJf61u\n",
      "\n",
      "\n",
      "Not at all. Great news for blockchain and digital assets. The internet of value will happen\n",
      "\n",
      "\n",
      "You live in one of the most militarized areas of the world. Between military bases, firing ranges, DoE nuclear sites + defense contractors (Boeing, Amazon, Microsoft), you need not worry what a post-nuclear war world would look like. Oh, and they are a MAJOR part of our economy.\n",
      "\n",
      "\n",
      "We KNOW Russia interfered in OUR election 4 Trump. We KNOW everyone surrounding Trump met w/Russians & lied about it. We KNOW Trump took Putin's word over American Intel. We DO NOT KNOW why this president would do nothing about attacks on our nation by a foreign power?\n",
      "\n",
      "\n",
      "Upset that you went back to Disney without me :(\n",
      "\n",
      "\n",
      "See guys you don't have to worry about me losing control. # Randumb # Pun # Sony # Nintendo # Microsoft (Nearby) # ThirdParty https://www.instagram.com/p/BvauXwrB8QY/?utm_source=ig_twitter_share&igshid=1k0lphumbdg77 …\n",
      "\n",
      "\n",
      "netflix has never had such a great selection of movies i'm impressed\n",
      "\n",
      "\n",
      "After Life in Netflix is the British Louie, but more depressing, which I like.\n",
      "\n",
      "\n",
      "@ bevopart6 is a huge supporter of the concept of \"reciprocity,\" doing for folks who have done for you. We all should be. He and I talked about that this week, and it's been percolating with me every since. Walk with me on this: Don't be great at asking and sorry at answering.\n",
      "\n",
      "\n",
      "Low Key. Because I don't need to convince anyone and I don't need anyone's approval that I am doing something at my best.\n",
      "\n",
      "\n",
      "Dunno; but antitrust fears probably caused IBM not to demand exclusivity on Microsoft’s original OS for PC’s\n",
      "\n",
      "\n",
      "Boeing sold a wrong product. This got exposed. Safety was compromised. Now Trump will bail out Boeing, selling faulty products. Here, humans lives don't matter, profitability most important. It is like Trump estate.\n",
      "\n",
      "\n",
      "And it is so easy to solve. If Nigerians can do drop box at DHL for US & UK visas with no trouble, why not the same for passport renewals? In fact,renewals should follow the same process. Period.\n",
      "\n",
      "\n",
      "@ Boeing # 737MAX8 the software on your planes is flawed. Putting warning lights in the cockpit is not a fix. I don't care what it costs, withdraw the plane permanently\n",
      "\n",
      "\n",
      "Not kidding at all it would play so much on Disney back then and we would all sing along. I went to listen to it because of your tweet and I'm shocked to see it has over 200 million streams on Spotify\n",
      "\n",
      "\n",
      "She’s not strong. She’s scared and that’s how all animals behave when they are backed into a corner\n",
      "\n",
      "\n",
      "@ Boeing sold # B737Max that it knew didn't have necessary safety features because # Boeing made Safety Feature Add-ons to get more money - https://www.nytimes.com/2019/03/21/business/boeing-safety-features-charge.html?smtyp=cur&smid=tw-nytimes … Imagine selling # cars w/out brakes because you made brakes Add-on so buyers can pay more. # ET302, # JT610, # Planecrash\n",
      "\n",
      "\n",
      "Just saw FAA grounded after actual review. Good, glad they did review not knee jerk but also not to give positives to Boeing.\n",
      "\n",
      "\n"
     ]
    }
   ],
   "source": [
    "for row in combined_df.loc[combined_df['compound'] <= -0.05]['tweet'][0:20]:\n",
    "    print(row)\n",
    "    print('\\n')"
   ]
  },
  {
   "cell_type": "markdown",
   "metadata": {},
   "source": [
    "#### 2.1.3 Neutral Tweets"
   ]
  },
  {
   "cell_type": "code",
   "execution_count": 130,
   "metadata": {},
   "outputs": [
    {
     "name": "stdout",
     "output_type": "stream",
     "text": [
      "I fully agree with you. At the moment, the plane is not safe to fly on. Canada just grounded the max. But I know that in the future, when the fix is put out for the system bug that MAY be causing these crashes, I will fly on the plane. Let’s remeber that the predecessor to this—\n",
      "\n",
      "\n",
      "You did know she was poisoned by a water bottle and that is why she had to have that kidney procedure, right? She is more of a target than Trump b/c she speaks five languages and is very valuable to the Intel team.\n",
      "\n",
      "\n",
      "\"Why worry? If you've done the very best you can, worrying won't make it any better.\" - Walt Disney\n",
      "\n",
      "\n",
      "Very intelligent response Clover, oops I mean Clova, you spelled Clover wrong, see you at the door as I’m walking into Walmart.\n",
      "\n",
      "\n",
      "I recommend Microsoft to abandon its stupid WinNT kernel and switch to the Linux kernel, because much more perfect and practical.On Linux-based operating systems, I will not look at the blue screen asking \"Wait, I'll update everything, sit and pick your nose.\" Think about it\n",
      "\n",
      "\n",
      "The older I get, the more I want to work for Microsoft ... nah, just hang out in their Nap-Rooms really\n",
      "\n",
      "\n",
      "hoe netflix dead inside britpop is gay ,, classical rock shut up matt i wish kurt cobain shot me instead weezer blue album more like critically acclaimed cuomo art\n",
      "\n",
      "\n",
      "One of my clients is a 65 year old woman with a boyfriend in his late 70s with early dimentia and the man is STILL trying to be a player, doesn’t want to fully commit and is stingy. At nearly 80. With health issues.\n",
      "\n",
      "\n",
      "I’m really hoping they’ll patch in some kind of tracker for ruins and intel collectibles\n",
      "\n",
      "\n",
      "That is a failure to RTFM. Microsoft makes it very clear to be careful with that switch.\n",
      "\n",
      "\n",
      "It was an analogy that Bitcoin would become more valuable in an economic collapse, as would gold. What do you not understand about that?\n",
      "\n",
      "\n",
      "It’s hard I really want Pepsi\n",
      "\n",
      "\n",
      "Could you really trust a company who employs Jamie diamond who say blockchain & btc is shit then goes buy $650 million of btc there coin is digital not crypto big difference there coin is fiat dressed up as crypto & inflationary stop the banks ruling out government & our live\n",
      "\n",
      "\n",
      "[IG Name]: og_trillsmith [Type of Post]: For Sale [Size]: 12 [Price]: $2,000 obo [Description]: Nike Yeezy 1 Tan kept up very well condition 9/10 [Trades Accepted]: No [Email]:… https://www.instagram.com/p/Bvkxefjn2Lb/?utm_source=ig_twitter_share&igshid=t7guhp6dedzr …\n",
      "\n",
      "\n",
      "i’m currently at home sick and i sound like a man and it’s really funny to me. i haven’t been able to stop repeating “i am batman” over and over\n",
      "\n",
      "\n",
      "Leftests must be waiting for intel on what to be offended about. My timeline is soooo much more mature and all the liberal tears have vanished..lol\n",
      "\n",
      "\n",
      "I am sure US had prior info about India launching ASAT msls. The only time they failed was when India exploded a Nuc devise. I am not aware of the date when the visa application was submitted. However, the requirement of processing time, US is very flexible when needed. https://twitter.com/marykaycarlson/status/1111048720081141761 …\n",
      "\n",
      "\n",
      "Dems are conducting a fishing expedition. Schiff, the chairman of the House Intel Committee, is famous for quoting tales from the fraudulent Steele dossier as if he believed them. Subpoena power is bound to make Schiff and other Dems more effective. Fishing expeditions often work\n",
      "\n",
      "\n",
      "I'm hopelessly obsessed with 'Hi Score Girl' on Netflix. How fucking charming.\n",
      "\n",
      "\n",
      "To me one of the most interesting things is Intel's control over the supply chain that will now evaporate to some extent as they are struggling with supply and AMD is rolling out new products.\n",
      "\n",
      "\n"
     ]
    }
   ],
   "source": [
    "for row in combined_df.loc[(combined_df['compound'] > -0.05) & (combined_df['compound'] < 0.05)]\\\n",
    "['tweet'][0:20]:\n",
    "    print(row)\n",
    "    print('\\n')"
   ]
  },
  {
   "cell_type": "markdown",
   "metadata": {},
   "source": [
    "## 2.2 Data Exploration with Aggregate Sentiment"
   ]
  },
  {
   "cell_type": "code",
   "execution_count": 28,
   "metadata": {},
   "outputs": [],
   "source": [
    "# get counts of positive, neutral and negative tweets\n",
    "def count_sentiments(sentiment):\n",
    "\n",
    "    if sentiment >= 0.05:\n",
    "        return 1\n",
    "    elif (sentiment > -0.05) and (sentiment < 0.05):\n",
    "        return 0\n",
    "    else:\n",
    "        return -1"
   ]
  },
  {
   "cell_type": "code",
   "execution_count": 29,
   "metadata": {},
   "outputs": [],
   "source": [
    "# new column to determine if tweet is positive or negative\n",
    "combined_df['pos/neg'] = combined_df['compound'].map(count_sentiments)"
   ]
  },
  {
   "cell_type": "code",
   "execution_count": 30,
   "metadata": {},
   "outputs": [],
   "source": [
    "# new dataframe to count individual sentiment tweets per day\n",
    "sentiment_counts = pd.DataFrame(combined_df.groupby(['date', 'pos/neg'])['tweet'].agg('count'))"
   ]
  },
  {
   "cell_type": "code",
   "execution_count": 31,
   "metadata": {},
   "outputs": [
    {
     "data": {
      "text/html": [
       "<div>\n",
       "<style scoped>\n",
       "    .dataframe tbody tr th:only-of-type {\n",
       "        vertical-align: middle;\n",
       "    }\n",
       "\n",
       "    .dataframe tbody tr th {\n",
       "        vertical-align: top;\n",
       "    }\n",
       "\n",
       "    .dataframe thead th {\n",
       "        text-align: right;\n",
       "    }\n",
       "</style>\n",
       "<table border=\"1\" class=\"dataframe\">\n",
       "  <thead>\n",
       "    <tr style=\"text-align: right;\">\n",
       "      <th></th>\n",
       "      <th></th>\n",
       "      <th>tweet</th>\n",
       "    </tr>\n",
       "    <tr>\n",
       "      <th>date</th>\n",
       "      <th>pos/neg</th>\n",
       "      <th></th>\n",
       "    </tr>\n",
       "  </thead>\n",
       "  <tbody>\n",
       "    <tr>\n",
       "      <th rowspan=\"3\" valign=\"top\">2019-03-01</th>\n",
       "      <th>-1</th>\n",
       "      <td>2</td>\n",
       "    </tr>\n",
       "    <tr>\n",
       "      <th>0</th>\n",
       "      <td>2</td>\n",
       "    </tr>\n",
       "    <tr>\n",
       "      <th>1</th>\n",
       "      <td>3</td>\n",
       "    </tr>\n",
       "    <tr>\n",
       "      <th rowspan=\"2\" valign=\"top\">2019-03-02</th>\n",
       "      <th>-1</th>\n",
       "      <td>2</td>\n",
       "    </tr>\n",
       "    <tr>\n",
       "      <th>0</th>\n",
       "      <td>11</td>\n",
       "    </tr>\n",
       "  </tbody>\n",
       "</table>\n",
       "</div>"
      ],
      "text/plain": [
       "                    tweet\n",
       "date       pos/neg       \n",
       "2019-03-01 -1           2\n",
       "            0           2\n",
       "            1           3\n",
       "2019-03-02 -1           2\n",
       "            0          11"
      ]
     },
     "execution_count": 31,
     "metadata": {},
     "output_type": "execute_result"
    }
   ],
   "source": [
    "sentiment_counts.head()"
   ]
  },
  {
   "cell_type": "code",
   "execution_count": 32,
   "metadata": {},
   "outputs": [],
   "source": [
    "# groupby dates to get counts of tweets by day\n",
    "sent_agg_by_day = pd.DataFrame(combined_df.groupby('date')['compound'].agg('count'))"
   ]
  },
  {
   "cell_type": "code",
   "execution_count": 33,
   "metadata": {},
   "outputs": [
    {
     "data": {
      "text/html": [
       "<div>\n",
       "<style scoped>\n",
       "    .dataframe tbody tr th:only-of-type {\n",
       "        vertical-align: middle;\n",
       "    }\n",
       "\n",
       "    .dataframe tbody tr th {\n",
       "        vertical-align: top;\n",
       "    }\n",
       "\n",
       "    .dataframe thead th {\n",
       "        text-align: right;\n",
       "    }\n",
       "</style>\n",
       "<table border=\"1\" class=\"dataframe\">\n",
       "  <thead>\n",
       "    <tr style=\"text-align: right;\">\n",
       "      <th></th>\n",
       "      <th>compound</th>\n",
       "    </tr>\n",
       "    <tr>\n",
       "      <th>date</th>\n",
       "      <th></th>\n",
       "    </tr>\n",
       "  </thead>\n",
       "  <tbody>\n",
       "    <tr>\n",
       "      <th>2019-03-01</th>\n",
       "      <td>7</td>\n",
       "    </tr>\n",
       "    <tr>\n",
       "      <th>2019-03-02</th>\n",
       "      <td>15</td>\n",
       "    </tr>\n",
       "    <tr>\n",
       "      <th>2019-03-03</th>\n",
       "      <td>37</td>\n",
       "    </tr>\n",
       "    <tr>\n",
       "      <th>2019-03-04</th>\n",
       "      <td>34697</td>\n",
       "    </tr>\n",
       "    <tr>\n",
       "      <th>2019-03-05</th>\n",
       "      <td>38736</td>\n",
       "    </tr>\n",
       "  </tbody>\n",
       "</table>\n",
       "</div>"
      ],
      "text/plain": [
       "            compound\n",
       "date                \n",
       "2019-03-01         7\n",
       "2019-03-02        15\n",
       "2019-03-03        37\n",
       "2019-03-04     34697\n",
       "2019-03-05     38736"
      ]
     },
     "execution_count": 33,
     "metadata": {},
     "output_type": "execute_result"
    }
   ],
   "source": [
    "sent_agg_by_day.head()"
   ]
  },
  {
   "cell_type": "code",
   "execution_count": 34,
   "metadata": {},
   "outputs": [],
   "source": [
    "# merging datasets to get counts of positive, negative and neutral tweets daily\n",
    "merged_dataset = sentiment_counts.merge(sent_agg_by_day, left_index=True, right_index=True)"
   ]
  },
  {
   "cell_type": "code",
   "execution_count": 35,
   "metadata": {},
   "outputs": [],
   "source": [
    "merged_dataset = merged_dataset.reset_index()"
   ]
  },
  {
   "cell_type": "code",
   "execution_count": 36,
   "metadata": {},
   "outputs": [
    {
     "data": {
      "text/html": [
       "<div>\n",
       "<style scoped>\n",
       "    .dataframe tbody tr th:only-of-type {\n",
       "        vertical-align: middle;\n",
       "    }\n",
       "\n",
       "    .dataframe tbody tr th {\n",
       "        vertical-align: top;\n",
       "    }\n",
       "\n",
       "    .dataframe thead th {\n",
       "        text-align: right;\n",
       "    }\n",
       "</style>\n",
       "<table border=\"1\" class=\"dataframe\">\n",
       "  <thead>\n",
       "    <tr style=\"text-align: right;\">\n",
       "      <th></th>\n",
       "      <th>date</th>\n",
       "      <th>pos/neg</th>\n",
       "      <th>tweet</th>\n",
       "      <th>compound</th>\n",
       "    </tr>\n",
       "  </thead>\n",
       "  <tbody>\n",
       "    <tr>\n",
       "      <th>0</th>\n",
       "      <td>2019-03-01</td>\n",
       "      <td>-1</td>\n",
       "      <td>2</td>\n",
       "      <td>7</td>\n",
       "    </tr>\n",
       "    <tr>\n",
       "      <th>1</th>\n",
       "      <td>2019-03-01</td>\n",
       "      <td>0</td>\n",
       "      <td>2</td>\n",
       "      <td>7</td>\n",
       "    </tr>\n",
       "    <tr>\n",
       "      <th>2</th>\n",
       "      <td>2019-03-01</td>\n",
       "      <td>1</td>\n",
       "      <td>3</td>\n",
       "      <td>7</td>\n",
       "    </tr>\n",
       "    <tr>\n",
       "      <th>3</th>\n",
       "      <td>2019-03-02</td>\n",
       "      <td>-1</td>\n",
       "      <td>2</td>\n",
       "      <td>15</td>\n",
       "    </tr>\n",
       "    <tr>\n",
       "      <th>4</th>\n",
       "      <td>2019-03-02</td>\n",
       "      <td>0</td>\n",
       "      <td>11</td>\n",
       "      <td>15</td>\n",
       "    </tr>\n",
       "  </tbody>\n",
       "</table>\n",
       "</div>"
      ],
      "text/plain": [
       "         date  pos/neg  tweet  compound\n",
       "0  2019-03-01       -1      2         7\n",
       "1  2019-03-01        0      2         7\n",
       "2  2019-03-01        1      3         7\n",
       "3  2019-03-02       -1      2        15\n",
       "4  2019-03-02        0     11        15"
      ]
     },
     "execution_count": 36,
     "metadata": {},
     "output_type": "execute_result"
    }
   ],
   "source": [
    "merged_dataset.head()"
   ]
  },
  {
   "cell_type": "code",
   "execution_count": 37,
   "metadata": {},
   "outputs": [],
   "source": [
    "#merged_dataset = merged_dataset.unstack()\n",
    "merged_dataset = merged_dataset.pivot_table(index='date', values='tweet', columns='pos/neg')"
   ]
  },
  {
   "cell_type": "code",
   "execution_count": 38,
   "metadata": {},
   "outputs": [],
   "source": [
    "merged_dataset.rename(columns={-1: 'neg', 0:'neutral', 1:'pos'}, inplace=True)"
   ]
  },
  {
   "cell_type": "code",
   "execution_count": 39,
   "metadata": {},
   "outputs": [
    {
     "data": {
      "text/html": [
       "<div>\n",
       "<style scoped>\n",
       "    .dataframe tbody tr th:only-of-type {\n",
       "        vertical-align: middle;\n",
       "    }\n",
       "\n",
       "    .dataframe tbody tr th {\n",
       "        vertical-align: top;\n",
       "    }\n",
       "\n",
       "    .dataframe thead th {\n",
       "        text-align: right;\n",
       "    }\n",
       "</style>\n",
       "<table border=\"1\" class=\"dataframe\">\n",
       "  <thead>\n",
       "    <tr style=\"text-align: right;\">\n",
       "      <th>pos/neg</th>\n",
       "      <th>neg</th>\n",
       "      <th>neutral</th>\n",
       "      <th>pos</th>\n",
       "    </tr>\n",
       "    <tr>\n",
       "      <th>date</th>\n",
       "      <th></th>\n",
       "      <th></th>\n",
       "      <th></th>\n",
       "    </tr>\n",
       "  </thead>\n",
       "  <tbody>\n",
       "    <tr>\n",
       "      <th>2019-03-01</th>\n",
       "      <td>2</td>\n",
       "      <td>2</td>\n",
       "      <td>3</td>\n",
       "    </tr>\n",
       "    <tr>\n",
       "      <th>2019-03-02</th>\n",
       "      <td>2</td>\n",
       "      <td>11</td>\n",
       "      <td>2</td>\n",
       "    </tr>\n",
       "    <tr>\n",
       "      <th>2019-03-03</th>\n",
       "      <td>5</td>\n",
       "      <td>26</td>\n",
       "      <td>6</td>\n",
       "    </tr>\n",
       "    <tr>\n",
       "      <th>2019-03-04</th>\n",
       "      <td>5970</td>\n",
       "      <td>14727</td>\n",
       "      <td>14000</td>\n",
       "    </tr>\n",
       "    <tr>\n",
       "      <th>2019-03-05</th>\n",
       "      <td>6811</td>\n",
       "      <td>16115</td>\n",
       "      <td>15810</td>\n",
       "    </tr>\n",
       "    <tr>\n",
       "      <th>2019-03-06</th>\n",
       "      <td>7452</td>\n",
       "      <td>17841</td>\n",
       "      <td>17015</td>\n",
       "    </tr>\n",
       "    <tr>\n",
       "      <th>2019-03-07</th>\n",
       "      <td>6847</td>\n",
       "      <td>16893</td>\n",
       "      <td>16929</td>\n",
       "    </tr>\n",
       "    <tr>\n",
       "      <th>2019-03-08</th>\n",
       "      <td>5759</td>\n",
       "      <td>15008</td>\n",
       "      <td>15602</td>\n",
       "    </tr>\n",
       "    <tr>\n",
       "      <th>2019-03-09</th>\n",
       "      <td>3563</td>\n",
       "      <td>8773</td>\n",
       "      <td>9478</td>\n",
       "    </tr>\n",
       "    <tr>\n",
       "      <th>2019-03-10</th>\n",
       "      <td>3992</td>\n",
       "      <td>8905</td>\n",
       "      <td>9421</td>\n",
       "    </tr>\n",
       "    <tr>\n",
       "      <th>2019-03-11</th>\n",
       "      <td>7120</td>\n",
       "      <td>17727</td>\n",
       "      <td>15318</td>\n",
       "    </tr>\n",
       "    <tr>\n",
       "      <th>2019-03-12</th>\n",
       "      <td>8763</td>\n",
       "      <td>20575</td>\n",
       "      <td>18939</td>\n",
       "    </tr>\n",
       "    <tr>\n",
       "      <th>2019-03-13</th>\n",
       "      <td>28519</td>\n",
       "      <td>45845</td>\n",
       "      <td>31100</td>\n",
       "    </tr>\n",
       "    <tr>\n",
       "      <th>2019-03-14</th>\n",
       "      <td>20862</td>\n",
       "      <td>39805</td>\n",
       "      <td>24249</td>\n",
       "    </tr>\n",
       "    <tr>\n",
       "      <th>2019-03-15</th>\n",
       "      <td>13387</td>\n",
       "      <td>25701</td>\n",
       "      <td>19584</td>\n",
       "    </tr>\n",
       "    <tr>\n",
       "      <th>2019-03-16</th>\n",
       "      <td>6615</td>\n",
       "      <td>12862</td>\n",
       "      <td>9579</td>\n",
       "    </tr>\n",
       "    <tr>\n",
       "      <th>2019-03-17</th>\n",
       "      <td>9161</td>\n",
       "      <td>16089</td>\n",
       "      <td>11825</td>\n",
       "    </tr>\n",
       "    <tr>\n",
       "      <th>2019-03-18</th>\n",
       "      <td>13473</td>\n",
       "      <td>26610</td>\n",
       "      <td>21282</td>\n",
       "    </tr>\n",
       "    <tr>\n",
       "      <th>2019-03-19</th>\n",
       "      <td>13852</td>\n",
       "      <td>32399</td>\n",
       "      <td>26029</td>\n",
       "    </tr>\n",
       "    <tr>\n",
       "      <th>2019-03-20</th>\n",
       "      <td>15848</td>\n",
       "      <td>31096</td>\n",
       "      <td>26564</td>\n",
       "    </tr>\n",
       "    <tr>\n",
       "      <th>2019-03-21</th>\n",
       "      <td>17892</td>\n",
       "      <td>32539</td>\n",
       "      <td>29261</td>\n",
       "    </tr>\n",
       "    <tr>\n",
       "      <th>2019-03-22</th>\n",
       "      <td>14730</td>\n",
       "      <td>26139</td>\n",
       "      <td>20828</td>\n",
       "    </tr>\n",
       "    <tr>\n",
       "      <th>2019-03-23</th>\n",
       "      <td>25565</td>\n",
       "      <td>65325</td>\n",
       "      <td>41161</td>\n",
       "    </tr>\n",
       "    <tr>\n",
       "      <th>2019-03-24</th>\n",
       "      <td>33041</td>\n",
       "      <td>83551</td>\n",
       "      <td>53564</td>\n",
       "    </tr>\n",
       "    <tr>\n",
       "      <th>2019-03-25</th>\n",
       "      <td>51765</td>\n",
       "      <td>145737</td>\n",
       "      <td>90017</td>\n",
       "    </tr>\n",
       "    <tr>\n",
       "      <th>2019-03-26</th>\n",
       "      <td>53757</td>\n",
       "      <td>150400</td>\n",
       "      <td>91827</td>\n",
       "    </tr>\n",
       "    <tr>\n",
       "      <th>2019-03-27</th>\n",
       "      <td>51101</td>\n",
       "      <td>145911</td>\n",
       "      <td>88818</td>\n",
       "    </tr>\n",
       "    <tr>\n",
       "      <th>2019-03-28</th>\n",
       "      <td>52953</td>\n",
       "      <td>151692</td>\n",
       "      <td>92373</td>\n",
       "    </tr>\n",
       "    <tr>\n",
       "      <th>2019-03-29</th>\n",
       "      <td>113175</td>\n",
       "      <td>197636</td>\n",
       "      <td>177540</td>\n",
       "    </tr>\n",
       "  </tbody>\n",
       "</table>\n",
       "</div>"
      ],
      "text/plain": [
       "pos/neg        neg  neutral     pos\n",
       "date                               \n",
       "2019-03-01       2        2       3\n",
       "2019-03-02       2       11       2\n",
       "2019-03-03       5       26       6\n",
       "2019-03-04    5970    14727   14000\n",
       "2019-03-05    6811    16115   15810\n",
       "2019-03-06    7452    17841   17015\n",
       "2019-03-07    6847    16893   16929\n",
       "2019-03-08    5759    15008   15602\n",
       "2019-03-09    3563     8773    9478\n",
       "2019-03-10    3992     8905    9421\n",
       "2019-03-11    7120    17727   15318\n",
       "2019-03-12    8763    20575   18939\n",
       "2019-03-13   28519    45845   31100\n",
       "2019-03-14   20862    39805   24249\n",
       "2019-03-15   13387    25701   19584\n",
       "2019-03-16    6615    12862    9579\n",
       "2019-03-17    9161    16089   11825\n",
       "2019-03-18   13473    26610   21282\n",
       "2019-03-19   13852    32399   26029\n",
       "2019-03-20   15848    31096   26564\n",
       "2019-03-21   17892    32539   29261\n",
       "2019-03-22   14730    26139   20828\n",
       "2019-03-23   25565    65325   41161\n",
       "2019-03-24   33041    83551   53564\n",
       "2019-03-25   51765   145737   90017\n",
       "2019-03-26   53757   150400   91827\n",
       "2019-03-27   51101   145911   88818\n",
       "2019-03-28   52953   151692   92373\n",
       "2019-03-29  113175   197636  177540"
      ]
     },
     "execution_count": 39,
     "metadata": {},
     "output_type": "execute_result"
    }
   ],
   "source": [
    "merged_dataset"
   ]
  },
  {
   "cell_type": "code",
   "execution_count": 40,
   "metadata": {},
   "outputs": [],
   "source": [
    "merged_dataset['abs_sentiment'] = merged_dataset['pos']-merged_dataset['neg']\n",
    "merged_dataset['rel_sentiment'] = (merged_dataset['pos']-merged_dataset['neg'])/(merged_dataset['pos']+merged_dataset['neg'])"
   ]
  },
  {
   "cell_type": "code",
   "execution_count": 41,
   "metadata": {},
   "outputs": [
    {
     "data": {
      "text/html": [
       "<div>\n",
       "<style scoped>\n",
       "    .dataframe tbody tr th:only-of-type {\n",
       "        vertical-align: middle;\n",
       "    }\n",
       "\n",
       "    .dataframe tbody tr th {\n",
       "        vertical-align: top;\n",
       "    }\n",
       "\n",
       "    .dataframe thead th {\n",
       "        text-align: right;\n",
       "    }\n",
       "</style>\n",
       "<table border=\"1\" class=\"dataframe\">\n",
       "  <thead>\n",
       "    <tr style=\"text-align: right;\">\n",
       "      <th>pos/neg</th>\n",
       "      <th>neg</th>\n",
       "      <th>neutral</th>\n",
       "      <th>pos</th>\n",
       "      <th>abs_sentiment</th>\n",
       "      <th>rel_sentiment</th>\n",
       "    </tr>\n",
       "    <tr>\n",
       "      <th>date</th>\n",
       "      <th></th>\n",
       "      <th></th>\n",
       "      <th></th>\n",
       "      <th></th>\n",
       "      <th></th>\n",
       "    </tr>\n",
       "  </thead>\n",
       "  <tbody>\n",
       "    <tr>\n",
       "      <th>2019-03-01</th>\n",
       "      <td>2</td>\n",
       "      <td>2</td>\n",
       "      <td>3</td>\n",
       "      <td>1</td>\n",
       "      <td>0.200000</td>\n",
       "    </tr>\n",
       "    <tr>\n",
       "      <th>2019-03-02</th>\n",
       "      <td>2</td>\n",
       "      <td>11</td>\n",
       "      <td>2</td>\n",
       "      <td>0</td>\n",
       "      <td>0.000000</td>\n",
       "    </tr>\n",
       "    <tr>\n",
       "      <th>2019-03-03</th>\n",
       "      <td>5</td>\n",
       "      <td>26</td>\n",
       "      <td>6</td>\n",
       "      <td>1</td>\n",
       "      <td>0.090909</td>\n",
       "    </tr>\n",
       "    <tr>\n",
       "      <th>2019-03-04</th>\n",
       "      <td>5970</td>\n",
       "      <td>14727</td>\n",
       "      <td>14000</td>\n",
       "      <td>8030</td>\n",
       "      <td>0.402103</td>\n",
       "    </tr>\n",
       "    <tr>\n",
       "      <th>2019-03-05</th>\n",
       "      <td>6811</td>\n",
       "      <td>16115</td>\n",
       "      <td>15810</td>\n",
       "      <td>8999</td>\n",
       "      <td>0.397816</td>\n",
       "    </tr>\n",
       "  </tbody>\n",
       "</table>\n",
       "</div>"
      ],
      "text/plain": [
       "pos/neg      neg  neutral    pos  abs_sentiment  rel_sentiment\n",
       "date                                                          \n",
       "2019-03-01     2        2      3              1       0.200000\n",
       "2019-03-02     2       11      2              0       0.000000\n",
       "2019-03-03     5       26      6              1       0.090909\n",
       "2019-03-04  5970    14727  14000           8030       0.402103\n",
       "2019-03-05  6811    16115  15810           8999       0.397816"
      ]
     },
     "execution_count": 41,
     "metadata": {},
     "output_type": "execute_result"
    }
   ],
   "source": [
    "merged_dataset.head()"
   ]
  },
  {
   "cell_type": "code",
   "execution_count": 42,
   "metadata": {},
   "outputs": [],
   "source": [
    "avg_sent_by_day = combined_df.groupby('date')['compound'].agg('mean')"
   ]
  },
  {
   "cell_type": "code",
   "execution_count": 65,
   "metadata": {},
   "outputs": [
    {
     "data": {
      "image/png": "[encoded data removed]",
      "text/plain": [
       "<Figure size 2160x720 with 1 Axes>"
      ]
     },
     "metadata": {},
     "output_type": "display_data"
    }
   ],
   "source": [
    "plt.figure(figsize=(30,10))\n",
    "plt.ylim(0,0.3)\n",
    "plt.plot(avg_sent_by_day);"
   ]
  },
  {
   "cell_type": "code",
   "execution_count": 133,
   "metadata": {},
   "outputs": [],
   "source": [
    "pos_individual_sent_by_day = merged_dataset['pos']\n",
    "neg_individual_sent_by_day = merged_dataset['neg']\n",
    "neutral_individual_sent_by_day = merged_dataset['neutral']"
   ]
  },
  {
   "cell_type": "code",
   "execution_count": 134,
   "metadata": {},
   "outputs": [
    {
     "data": {
      "image/png": "[encoded data removed]",
      "text/plain": [
       "<Figure size 2160x720 with 1 Axes>"
      ]
     },
     "metadata": {},
     "output_type": "display_data"
    }
   ],
   "source": [
    "plt.figure(figsize=(30,10))\n",
    "plt.legend(labels = ['pos', 'neg', 'neutral'])\n",
    "plt.plot(pos_individual_sent_by_day);\n",
    "plt.plot(neg_individual_sent_by_day);\n",
    "plt.plot(neutral_individual_sent_by_day);"
   ]
  },
  {
   "cell_type": "code",
   "execution_count": 155,
   "metadata": {},
   "outputs": [
    {
     "data": {
      "image/png": "[encoded data removed]",
      "text/plain": [
       "<Figure size 1800x576 with 1 Axes>"
      ]
     },
     "metadata": {},
     "output_type": "display_data"
    }
   ],
   "source": [
    "fig, ax = plt.subplots(figsize=(25,8));\n",
    "ax.plot(pos_individual_sent_by_day, label='positive')\n",
    "ax.plot(neg_individual_sent_by_day, label='negative');\n",
    "ax.plot(neutral_individual_sent_by_day, label='neutral');\n",
    "leg = ax.legend();"
   ]
  },
  {
   "cell_type": "code",
   "execution_count": 156,
   "metadata": {},
   "outputs": [
    {
     "data": {
      "text/plain": [
       "['neg', 'pos', 'neutral']"
      ]
     },
     "execution_count": 156,
     "metadata": {},
     "output_type": "execute_result"
    }
   ],
   "source": [
    "df_for_barplot = merged_dataset[['neg', 'pos', 'neutral']]\n",
    "df_bar_plot_v = df_for_barplot.sum()\n",
    "list(df_bar_plot_v.index)"
   ]
  },
  {
   "cell_type": "code",
   "execution_count": 157,
   "metadata": {},
   "outputs": [
    {
     "data": {
      "image/png": "[encoded data removed]",
      "text/plain": [
       "<Figure size 1440x576 with 1 Axes>"
      ]
     },
     "metadata": {},
     "output_type": "display_data"
    }
   ],
   "source": [
    "plt.figure(figsize=(20,8))\n",
    "plt.ylabel('Number of Tweets')\n",
    "plt.xlabel('Category of Tweets')\n",
    "plt.bar(list(df_bar_plot_v.index), list(df_bar_plot_v.values));"
   ]
  },
  {
   "cell_type": "markdown",
   "metadata": {},
   "source": [
    "# 3. Stock Data"
   ]
  },
  {
   "cell_type": "markdown",
   "metadata": {},
   "source": [
    "## 3.1 Aggregate Stock Data (S&P500 Top 500 and S&P500 top 50)"
   ]
  },
  {
   "cell_type": "markdown",
   "metadata": {},
   "source": [
    "We downloaded two different forms of datasets for stocks.\n",
    "\n",
    "1) S&P500 Complete Index\n",
    "\n",
    "2) S&P500 Top 50 Stocks index (the companies we gathered the tweets for)"
   ]
  },
  {
   "cell_type": "code",
   "execution_count": 66,
   "metadata": {},
   "outputs": [],
   "source": [
    "# data for complete S&P500 index (gathered for analysis)\n",
    "agg_sp500 = pd.read_csv('^GSPC.csv')"
   ]
  },
  {
   "cell_type": "code",
   "execution_count": 67,
   "metadata": {},
   "outputs": [],
   "source": [
    "agg_sp500.set_index('Date', inplace=True)"
   ]
  },
  {
   "cell_type": "code",
   "execution_count": 68,
   "metadata": {},
   "outputs": [
    {
     "data": {
      "text/html": [
       "<div>\n",
       "<style scoped>\n",
       "    .dataframe tbody tr th:only-of-type {\n",
       "        vertical-align: middle;\n",
       "    }\n",
       "\n",
       "    .dataframe tbody tr th {\n",
       "        vertical-align: top;\n",
       "    }\n",
       "\n",
       "    .dataframe thead th {\n",
       "        text-align: right;\n",
       "    }\n",
       "</style>\n",
       "<table border=\"1\" class=\"dataframe\">\n",
       "  <thead>\n",
       "    <tr style=\"text-align: right;\">\n",
       "      <th></th>\n",
       "      <th>Open</th>\n",
       "      <th>High</th>\n",
       "      <th>Low</th>\n",
       "      <th>Close</th>\n",
       "      <th>Adj Close</th>\n",
       "      <th>Volume</th>\n",
       "    </tr>\n",
       "    <tr>\n",
       "      <th>Date</th>\n",
       "      <th></th>\n",
       "      <th></th>\n",
       "      <th></th>\n",
       "      <th></th>\n",
       "      <th></th>\n",
       "      <th></th>\n",
       "    </tr>\n",
       "  </thead>\n",
       "  <tbody>\n",
       "    <tr>\n",
       "      <th>2018-12-28</th>\n",
       "      <td>2498.770020</td>\n",
       "      <td>2520.270020</td>\n",
       "      <td>2472.889893</td>\n",
       "      <td>2485.739990</td>\n",
       "      <td>2485.739990</td>\n",
       "      <td>3702620000</td>\n",
       "    </tr>\n",
       "    <tr>\n",
       "      <th>2018-12-31</th>\n",
       "      <td>2498.939941</td>\n",
       "      <td>2509.239990</td>\n",
       "      <td>2482.820068</td>\n",
       "      <td>2506.850098</td>\n",
       "      <td>2506.850098</td>\n",
       "      <td>3442870000</td>\n",
       "    </tr>\n",
       "    <tr>\n",
       "      <th>2019-01-02</th>\n",
       "      <td>2476.959961</td>\n",
       "      <td>2519.489990</td>\n",
       "      <td>2467.469971</td>\n",
       "      <td>2510.030029</td>\n",
       "      <td>2510.030029</td>\n",
       "      <td>3733160000</td>\n",
       "    </tr>\n",
       "    <tr>\n",
       "      <th>2019-01-03</th>\n",
       "      <td>2491.919922</td>\n",
       "      <td>2493.139893</td>\n",
       "      <td>2443.959961</td>\n",
       "      <td>2447.889893</td>\n",
       "      <td>2447.889893</td>\n",
       "      <td>3822860000</td>\n",
       "    </tr>\n",
       "    <tr>\n",
       "      <th>2019-01-04</th>\n",
       "      <td>2474.330078</td>\n",
       "      <td>2538.070068</td>\n",
       "      <td>2474.330078</td>\n",
       "      <td>2531.939941</td>\n",
       "      <td>2531.939941</td>\n",
       "      <td>4213410000</td>\n",
       "    </tr>\n",
       "  </tbody>\n",
       "</table>\n",
       "</div>"
      ],
      "text/plain": [
       "                   Open         High          Low        Close    Adj Close  \\\n",
       "Date                                                                          \n",
       "2018-12-28  2498.770020  2520.270020  2472.889893  2485.739990  2485.739990   \n",
       "2018-12-31  2498.939941  2509.239990  2482.820068  2506.850098  2506.850098   \n",
       "2019-01-02  2476.959961  2519.489990  2467.469971  2510.030029  2510.030029   \n",
       "2019-01-03  2491.919922  2493.139893  2443.959961  2447.889893  2447.889893   \n",
       "2019-01-04  2474.330078  2538.070068  2474.330078  2531.939941  2531.939941   \n",
       "\n",
       "                Volume  \n",
       "Date                    \n",
       "2018-12-28  3702620000  \n",
       "2018-12-31  3442870000  \n",
       "2019-01-02  3733160000  \n",
       "2019-01-03  3822860000  \n",
       "2019-01-04  4213410000  "
      ]
     },
     "execution_count": 68,
     "metadata": {},
     "output_type": "execute_result"
    }
   ],
   "source": [
    "agg_sp500.head()"
   ]
  },
  {
   "cell_type": "code",
   "execution_count": 69,
   "metadata": {},
   "outputs": [],
   "source": [
    "agg_sp50 = pd.read_excel('S&PTop50 Aggregate Data-.xls')"
   ]
  },
  {
   "cell_type": "code",
   "execution_count": 70,
   "metadata": {},
   "outputs": [],
   "source": [
    "agg_sp50.rename(columns={'Effective date ':'date'}, inplace=True)"
   ]
  },
  {
   "cell_type": "code",
   "execution_count": 71,
   "metadata": {},
   "outputs": [],
   "source": [
    "agg_sp50.set_index('date', inplace=True)"
   ]
  },
  {
   "cell_type": "code",
   "execution_count": 72,
   "metadata": {},
   "outputs": [],
   "source": [
    "agg_sp50 = pd.DataFrame(agg_sp50['S&P 500 Top 50'])"
   ]
  },
  {
   "cell_type": "code",
   "execution_count": 73,
   "metadata": {},
   "outputs": [
    {
     "data": {
      "text/html": [
       "<div>\n",
       "<style scoped>\n",
       "    .dataframe tbody tr th:only-of-type {\n",
       "        vertical-align: middle;\n",
       "    }\n",
       "\n",
       "    .dataframe tbody tr th {\n",
       "        vertical-align: top;\n",
       "    }\n",
       "\n",
       "    .dataframe thead th {\n",
       "        text-align: right;\n",
       "    }\n",
       "</style>\n",
       "<table border=\"1\" class=\"dataframe\">\n",
       "  <thead>\n",
       "    <tr style=\"text-align: right;\">\n",
       "      <th></th>\n",
       "      <th>S&amp;P 500 Top 50</th>\n",
       "    </tr>\n",
       "    <tr>\n",
       "      <th>date</th>\n",
       "      <th></th>\n",
       "    </tr>\n",
       "  </thead>\n",
       "  <tbody>\n",
       "    <tr>\n",
       "      <th>2018-12-31</th>\n",
       "      <td>1999.51</td>\n",
       "    </tr>\n",
       "    <tr>\n",
       "      <th>2019-01-02</th>\n",
       "      <td>2008.08</td>\n",
       "    </tr>\n",
       "    <tr>\n",
       "      <th>2019-01-03</th>\n",
       "      <td>1947.96</td>\n",
       "    </tr>\n",
       "    <tr>\n",
       "      <th>2019-01-04</th>\n",
       "      <td>2019.01</td>\n",
       "    </tr>\n",
       "    <tr>\n",
       "      <th>2019-01-07</th>\n",
       "      <td>2029.65</td>\n",
       "    </tr>\n",
       "  </tbody>\n",
       "</table>\n",
       "</div>"
      ],
      "text/plain": [
       "            S&P 500 Top 50\n",
       "date                      \n",
       "2018-12-31         1999.51\n",
       "2019-01-02         2008.08\n",
       "2019-01-03         1947.96\n",
       "2019-01-04         2019.01\n",
       "2019-01-07         2029.65"
      ]
     },
     "execution_count": 73,
     "metadata": {},
     "output_type": "execute_result"
    }
   ],
   "source": [
    "agg_sp50.head()"
   ]
  },
  {
   "cell_type": "markdown",
   "metadata": {},
   "source": [
    "## 3.2 Analyzing Stock Market Behaviour"
   ]
  },
  {
   "cell_type": "code",
   "execution_count": 159,
   "metadata": {},
   "outputs": [],
   "source": [
    "# dataframe constructed that will eventually be used for causality analysis\n",
    "df_for_causality = merged_dataset.merge(agg_sp50, left_index=True, right_index=True)"
   ]
  },
  {
   "cell_type": "code",
   "execution_count": 158,
   "metadata": {},
   "outputs": [
    {
     "data": {
      "text/html": [
       "<div>\n",
       "<style scoped>\n",
       "    .dataframe tbody tr th:only-of-type {\n",
       "        vertical-align: middle;\n",
       "    }\n",
       "\n",
       "    .dataframe tbody tr th {\n",
       "        vertical-align: top;\n",
       "    }\n",
       "\n",
       "    .dataframe thead th {\n",
       "        text-align: right;\n",
       "    }\n",
       "</style>\n",
       "<table border=\"1\" class=\"dataframe\">\n",
       "  <thead>\n",
       "    <tr style=\"text-align: right;\">\n",
       "      <th></th>\n",
       "      <th>neg</th>\n",
       "      <th>neutral</th>\n",
       "      <th>pos</th>\n",
       "      <th>abs_sentiment</th>\n",
       "      <th>rel_sentiment</th>\n",
       "      <th>S&amp;P 500 Top 50</th>\n",
       "      <th>pct_change</th>\n",
       "      <th>log_ret</th>\n",
       "    </tr>\n",
       "    <tr>\n",
       "      <th>date</th>\n",
       "      <th></th>\n",
       "      <th></th>\n",
       "      <th></th>\n",
       "      <th></th>\n",
       "      <th></th>\n",
       "      <th></th>\n",
       "      <th></th>\n",
       "      <th></th>\n",
       "    </tr>\n",
       "  </thead>\n",
       "  <tbody>\n",
       "    <tr>\n",
       "      <th>2019-03-01</th>\n",
       "      <td>2</td>\n",
       "      <td>2</td>\n",
       "      <td>3</td>\n",
       "      <td>1</td>\n",
       "      <td>0.200000</td>\n",
       "      <td>2211.81</td>\n",
       "      <td>0.000000</td>\n",
       "      <td>0.000000</td>\n",
       "    </tr>\n",
       "    <tr>\n",
       "      <th>2019-03-04</th>\n",
       "      <td>5970</td>\n",
       "      <td>14727</td>\n",
       "      <td>14000</td>\n",
       "      <td>8030</td>\n",
       "      <td>0.402103</td>\n",
       "      <td>2208.68</td>\n",
       "      <td>-0.001415</td>\n",
       "      <td>-0.001416</td>\n",
       "    </tr>\n",
       "    <tr>\n",
       "      <th>2019-03-05</th>\n",
       "      <td>6811</td>\n",
       "      <td>16115</td>\n",
       "      <td>15810</td>\n",
       "      <td>8999</td>\n",
       "      <td>0.397816</td>\n",
       "      <td>2210.25</td>\n",
       "      <td>0.000711</td>\n",
       "      <td>0.000711</td>\n",
       "    </tr>\n",
       "    <tr>\n",
       "      <th>2019-03-06</th>\n",
       "      <td>7452</td>\n",
       "      <td>17841</td>\n",
       "      <td>17015</td>\n",
       "      <td>9563</td>\n",
       "      <td>0.390853</td>\n",
       "      <td>2199.74</td>\n",
       "      <td>-0.004755</td>\n",
       "      <td>-0.004766</td>\n",
       "    </tr>\n",
       "    <tr>\n",
       "      <th>2019-03-07</th>\n",
       "      <td>6847</td>\n",
       "      <td>16893</td>\n",
       "      <td>16929</td>\n",
       "      <td>10082</td>\n",
       "      <td>0.424041</td>\n",
       "      <td>2180.94</td>\n",
       "      <td>-0.008546</td>\n",
       "      <td>-0.008583</td>\n",
       "    </tr>\n",
       "  </tbody>\n",
       "</table>\n",
       "</div>"
      ],
      "text/plain": [
       "             neg  neutral    pos  abs_sentiment  rel_sentiment  \\\n",
       "date                                                             \n",
       "2019-03-01     2        2      3              1       0.200000   \n",
       "2019-03-04  5970    14727  14000           8030       0.402103   \n",
       "2019-03-05  6811    16115  15810           8999       0.397816   \n",
       "2019-03-06  7452    17841  17015           9563       0.390853   \n",
       "2019-03-07  6847    16893  16929          10082       0.424041   \n",
       "\n",
       "            S&P 500 Top 50  pct_change   log_ret  \n",
       "date                                              \n",
       "2019-03-01         2211.81    0.000000  0.000000  \n",
       "2019-03-04         2208.68   -0.001415 -0.001416  \n",
       "2019-03-05         2210.25    0.000711  0.000711  \n",
       "2019-03-06         2199.74   -0.004755 -0.004766  \n",
       "2019-03-07         2180.94   -0.008546 -0.008583  "
      ]
     },
     "execution_count": 158,
     "metadata": {},
     "output_type": "execute_result"
    }
   ],
   "source": [
    "df_for_causality.head()"
   ]
  },
  {
   "cell_type": "markdown",
   "metadata": {},
   "source": [
    "### 3.2.1 With Absolute Closing Price Values"
   ]
  },
  {
   "cell_type": "code",
   "execution_count": 77,
   "metadata": {},
   "outputs": [],
   "source": [
    "stocks = df_for_causality['S&P 500 Top 50']"
   ]
  },
  {
   "cell_type": "code",
   "execution_count": 82,
   "metadata": {},
   "outputs": [
    {
     "data": {
      "image/png": "[encoded data removed]",
      "text/plain": [
       "<Figure size 1296x432 with 1 Axes>"
      ]
     },
     "metadata": {},
     "output_type": "display_data"
    }
   ],
   "source": [
    "plt.figure(figsize=(18,6))\n",
    "plt.plot(stocks)\n",
    "plt.show();"
   ]
  },
  {
   "cell_type": "code",
   "execution_count": 92,
   "metadata": {},
   "outputs": [
    {
     "data": {
      "image/png": "[encoded data removed]",
      "text/plain": [
       "<Figure size 432x288 with 1 Axes>"
      ]
     },
     "metadata": {},
     "output_type": "display_data"
    }
   ],
   "source": [
    "# Creating Autocorrelation plot\n",
    "from pandas.plotting import lag_plot\n",
    "lag_plot(stocks)\n",
    "plt.show();"
   ]
  },
  {
   "cell_type": "code",
   "execution_count": 93,
   "metadata": {},
   "outputs": [
    {
     "name": "stdout",
     "output_type": "stream",
     "text": [
      "          t-1       t+1\n",
      "t-1  1.000000  0.809222\n",
      "t+1  0.809222  1.000000\n"
     ]
    }
   ],
   "source": [
    "# getting correlation matrix for lagged values\n",
    "values = pd.DataFrame(stocks.values)\n",
    "dataframe = pd.concat([values.shift(1), values], axis=1)\n",
    "dataframe.columns = ['t-1', 't+1']\n",
    "result = dataframe.corr()\n",
    "print(result)"
   ]
  },
  {
   "cell_type": "markdown",
   "metadata": {},
   "source": [
    "We can clearly see that there is a definite relationship between lagged values of stock price and stock price on certain day."
   ]
  },
  {
   "cell_type": "code",
   "execution_count": 91,
   "metadata": {},
   "outputs": [
    {
     "name": "stdout",
     "output_type": "stream",
     "text": [
      "Lag: 8\n",
      "Coefficients: [ 2.11829496e+03  1.16468320e-01 -1.14031186e-01  2.68134923e-01\n",
      " -4.14424963e-02 -4.99201497e-02  3.61543049e-01 -4.63503508e-01\n",
      " -2.11739659e-02]\n"
     ]
    }
   ],
   "source": [
    "from statsmodels.tsa.ar_model import AR\n",
    "from sklearn.metrics import mean_squared_error\n",
    "# split dataset\n",
    "X = stocks.values\n",
    "# train autoregression\n",
    "model = AR(X)\n",
    "model_fit = model.fit()\n",
    "print('Lag: %s' % model_fit.k_ar)\n",
    "print('Coefficients: %s' % model_fit.params)\n",
    "\n",
    "model_fit.summary()"
   ]
  },
  {
   "cell_type": "markdown",
   "metadata": {},
   "source": [
    "### 3.2.2 Using Log-Return values"
   ]
  },
  {
   "cell_type": "code",
   "execution_count": 96,
   "metadata": {},
   "outputs": [],
   "source": [
    "stocks = pd.DataFrame(stocks)"
   ]
  },
  {
   "cell_type": "code",
   "execution_count": 98,
   "metadata": {},
   "outputs": [],
   "source": [
    "stocks['pct_change'] = stocks['S&P 500 Top 50'].pct_change()\n",
    "stocks['log_ret'] = np.log(stocks['S&P 500 Top 50'])\\\n",
    "- np.log(stocks['S&P 500 Top 50'].shift(1))"
   ]
  },
  {
   "cell_type": "code",
   "execution_count": 101,
   "metadata": {},
   "outputs": [],
   "source": [
    "stocks.fillna(0, inplace=True)"
   ]
  },
  {
   "cell_type": "code",
   "execution_count": 102,
   "metadata": {},
   "outputs": [],
   "source": [
    "log_return = stocks['log_ret']"
   ]
  },
  {
   "cell_type": "code",
   "execution_count": 104,
   "metadata": {},
   "outputs": [
    {
     "data": {
      "image/png": "[encoded data removed]",
      "text/plain": [
       "<Figure size 1296x432 with 1 Axes>"
      ]
     },
     "metadata": {},
     "output_type": "display_data"
    }
   ],
   "source": [
    "plt.figure(figsize=(18,6))\n",
    "plt.plot(log_return)\n",
    "plt.show();"
   ]
  },
  {
   "cell_type": "code",
   "execution_count": 105,
   "metadata": {},
   "outputs": [
    {
     "data": {
      "image/png": "[encoded data removed]",
      "text/plain": [
       "<Figure size 432x288 with 1 Axes>"
      ]
     },
     "metadata": {},
     "output_type": "display_data"
    }
   ],
   "source": [
    "# Creating Autocorrelation plot\n",
    "from pandas.plotting import lag_plot\n",
    "lag_plot(log_return)\n",
    "plt.show();"
   ]
  },
  {
   "cell_type": "code",
   "execution_count": 106,
   "metadata": {},
   "outputs": [
    {
     "name": "stdout",
     "output_type": "stream",
     "text": [
      "          t-1       t+1\n",
      "t-1  1.000000 -0.109493\n",
      "t+1 -0.109493  1.000000\n"
     ]
    }
   ],
   "source": [
    "# getting correlation matrix for lagged values\n",
    "values = pd.DataFrame(log_return.values)\n",
    "dataframe = pd.concat([values.shift(1), values], axis=1)\n",
    "dataframe.columns = ['t-1', 't+1']\n",
    "result = dataframe.corr()\n",
    "print(result)"
   ]
  },
  {
   "cell_type": "code",
   "execution_count": 107,
   "metadata": {},
   "outputs": [
    {
     "name": "stdout",
     "output_type": "stream",
     "text": [
      "Lag: 8\n",
      "Coefficients: [ 0.00136848 -0.22934598 -0.0799624   0.22297626 -0.07206673 -0.15264631\n",
      "  0.16932466 -0.43644293  0.17847997]\n"
     ]
    }
   ],
   "source": [
    "from statsmodels.tsa.ar_model import AR\n",
    "from sklearn.metrics import mean_squared_error\n",
    "# split dataset\n",
    "X = log_return.values\n",
    "# train autoregression\n",
    "model = AR(X)\n",
    "model_fit = model.fit()\n",
    "print('Lag: %s' % model_fit.k_ar)\n",
    "print('Coefficients: %s' % model_fit.params)\n",
    "\n",
    "model_fit.summary()"
   ]
  },
  {
   "cell_type": "markdown",
   "metadata": {},
   "source": [
    "# 4. Causality Analysis"
   ]
  },
  {
   "cell_type": "code",
   "execution_count": 169,
   "metadata": {},
   "outputs": [],
   "source": [
    "df_for_causality['pct_change'] = df_for_causality['S&P 500 Top 50'].pct_change()\n",
    "df_for_causality['log_ret'] = np.log(df_for_causality['S&P 500 Top 50'])\\\n",
    "- np.log(df_for_causality['S&P 500 Top 50'].shift(1))"
   ]
  },
  {
   "cell_type": "code",
   "execution_count": 170,
   "metadata": {},
   "outputs": [],
   "source": [
    "df_for_causality.fillna(value=0, inplace=True)"
   ]
  },
  {
   "cell_type": "code",
   "execution_count": 171,
   "metadata": {},
   "outputs": [
    {
     "data": {
      "text/html": [
       "<div>\n",
       "<style scoped>\n",
       "    .dataframe tbody tr th:only-of-type {\n",
       "        vertical-align: middle;\n",
       "    }\n",
       "\n",
       "    .dataframe tbody tr th {\n",
       "        vertical-align: top;\n",
       "    }\n",
       "\n",
       "    .dataframe thead th {\n",
       "        text-align: right;\n",
       "    }\n",
       "</style>\n",
       "<table border=\"1\" class=\"dataframe\">\n",
       "  <thead>\n",
       "    <tr style=\"text-align: right;\">\n",
       "      <th></th>\n",
       "      <th>neg</th>\n",
       "      <th>neutral</th>\n",
       "      <th>pos</th>\n",
       "      <th>abs_sentiment</th>\n",
       "      <th>rel_sentiment</th>\n",
       "      <th>S&amp;P 500 Top 50</th>\n",
       "      <th>pct_change</th>\n",
       "      <th>log_ret</th>\n",
       "    </tr>\n",
       "    <tr>\n",
       "      <th>date</th>\n",
       "      <th></th>\n",
       "      <th></th>\n",
       "      <th></th>\n",
       "      <th></th>\n",
       "      <th></th>\n",
       "      <th></th>\n",
       "      <th></th>\n",
       "      <th></th>\n",
       "    </tr>\n",
       "  </thead>\n",
       "  <tbody>\n",
       "    <tr>\n",
       "      <th>2019-03-01</th>\n",
       "      <td>2</td>\n",
       "      <td>2</td>\n",
       "      <td>3</td>\n",
       "      <td>1</td>\n",
       "      <td>0.200000</td>\n",
       "      <td>2211.81</td>\n",
       "      <td>0.000000</td>\n",
       "      <td>0.000000</td>\n",
       "    </tr>\n",
       "    <tr>\n",
       "      <th>2019-03-04</th>\n",
       "      <td>5970</td>\n",
       "      <td>14727</td>\n",
       "      <td>14000</td>\n",
       "      <td>8030</td>\n",
       "      <td>0.402103</td>\n",
       "      <td>2208.68</td>\n",
       "      <td>-0.001415</td>\n",
       "      <td>-0.001416</td>\n",
       "    </tr>\n",
       "    <tr>\n",
       "      <th>2019-03-05</th>\n",
       "      <td>6811</td>\n",
       "      <td>16115</td>\n",
       "      <td>15810</td>\n",
       "      <td>8999</td>\n",
       "      <td>0.397816</td>\n",
       "      <td>2210.25</td>\n",
       "      <td>0.000711</td>\n",
       "      <td>0.000711</td>\n",
       "    </tr>\n",
       "    <tr>\n",
       "      <th>2019-03-06</th>\n",
       "      <td>7452</td>\n",
       "      <td>17841</td>\n",
       "      <td>17015</td>\n",
       "      <td>9563</td>\n",
       "      <td>0.390853</td>\n",
       "      <td>2199.74</td>\n",
       "      <td>-0.004755</td>\n",
       "      <td>-0.004766</td>\n",
       "    </tr>\n",
       "    <tr>\n",
       "      <th>2019-03-07</th>\n",
       "      <td>6847</td>\n",
       "      <td>16893</td>\n",
       "      <td>16929</td>\n",
       "      <td>10082</td>\n",
       "      <td>0.424041</td>\n",
       "      <td>2180.94</td>\n",
       "      <td>-0.008546</td>\n",
       "      <td>-0.008583</td>\n",
       "    </tr>\n",
       "    <tr>\n",
       "      <th>2019-03-08</th>\n",
       "      <td>5759</td>\n",
       "      <td>15008</td>\n",
       "      <td>15602</td>\n",
       "      <td>9843</td>\n",
       "      <td>0.460793</td>\n",
       "      <td>2177.70</td>\n",
       "      <td>-0.001486</td>\n",
       "      <td>-0.001487</td>\n",
       "    </tr>\n",
       "    <tr>\n",
       "      <th>2019-03-11</th>\n",
       "      <td>7120</td>\n",
       "      <td>17727</td>\n",
       "      <td>15318</td>\n",
       "      <td>8198</td>\n",
       "      <td>0.365362</td>\n",
       "      <td>2214.70</td>\n",
       "      <td>0.016990</td>\n",
       "      <td>0.016848</td>\n",
       "    </tr>\n",
       "    <tr>\n",
       "      <th>2019-03-12</th>\n",
       "      <td>8763</td>\n",
       "      <td>20575</td>\n",
       "      <td>18939</td>\n",
       "      <td>10176</td>\n",
       "      <td>0.367338</td>\n",
       "      <td>2221.30</td>\n",
       "      <td>0.002980</td>\n",
       "      <td>0.002976</td>\n",
       "    </tr>\n",
       "    <tr>\n",
       "      <th>2019-03-13</th>\n",
       "      <td>28519</td>\n",
       "      <td>45845</td>\n",
       "      <td>31100</td>\n",
       "      <td>2581</td>\n",
       "      <td>0.043292</td>\n",
       "      <td>2235.87</td>\n",
       "      <td>0.006559</td>\n",
       "      <td>0.006538</td>\n",
       "    </tr>\n",
       "    <tr>\n",
       "      <th>2019-03-14</th>\n",
       "      <td>20862</td>\n",
       "      <td>39805</td>\n",
       "      <td>24249</td>\n",
       "      <td>3387</td>\n",
       "      <td>0.075081</td>\n",
       "      <td>2234.24</td>\n",
       "      <td>-0.000729</td>\n",
       "      <td>-0.000729</td>\n",
       "    </tr>\n",
       "    <tr>\n",
       "      <th>2019-03-15</th>\n",
       "      <td>13387</td>\n",
       "      <td>25701</td>\n",
       "      <td>19584</td>\n",
       "      <td>6197</td>\n",
       "      <td>0.187953</td>\n",
       "      <td>2246.94</td>\n",
       "      <td>0.005684</td>\n",
       "      <td>0.005668</td>\n",
       "    </tr>\n",
       "    <tr>\n",
       "      <th>2019-03-18</th>\n",
       "      <td>13473</td>\n",
       "      <td>26610</td>\n",
       "      <td>21282</td>\n",
       "      <td>7809</td>\n",
       "      <td>0.224687</td>\n",
       "      <td>2255.37</td>\n",
       "      <td>0.003752</td>\n",
       "      <td>0.003745</td>\n",
       "    </tr>\n",
       "    <tr>\n",
       "      <th>2019-03-19</th>\n",
       "      <td>13852</td>\n",
       "      <td>32399</td>\n",
       "      <td>26029</td>\n",
       "      <td>12177</td>\n",
       "      <td>0.305333</td>\n",
       "      <td>2257.21</td>\n",
       "      <td>0.000816</td>\n",
       "      <td>0.000815</td>\n",
       "    </tr>\n",
       "    <tr>\n",
       "      <th>2019-03-20</th>\n",
       "      <td>15848</td>\n",
       "      <td>31096</td>\n",
       "      <td>26564</td>\n",
       "      <td>10716</td>\n",
       "      <td>0.252664</td>\n",
       "      <td>2257.56</td>\n",
       "      <td>0.000155</td>\n",
       "      <td>0.000155</td>\n",
       "    </tr>\n",
       "    <tr>\n",
       "      <th>2019-03-21</th>\n",
       "      <td>17892</td>\n",
       "      <td>32539</td>\n",
       "      <td>29261</td>\n",
       "      <td>11369</td>\n",
       "      <td>0.241109</td>\n",
       "      <td>2282.01</td>\n",
       "      <td>0.010830</td>\n",
       "      <td>0.010772</td>\n",
       "    </tr>\n",
       "    <tr>\n",
       "      <th>2019-03-22</th>\n",
       "      <td>14730</td>\n",
       "      <td>26139</td>\n",
       "      <td>20828</td>\n",
       "      <td>6098</td>\n",
       "      <td>0.171494</td>\n",
       "      <td>2239.18</td>\n",
       "      <td>-0.018769</td>\n",
       "      <td>-0.018947</td>\n",
       "    </tr>\n",
       "    <tr>\n",
       "      <th>2019-03-25</th>\n",
       "      <td>51765</td>\n",
       "      <td>145737</td>\n",
       "      <td>90017</td>\n",
       "      <td>38252</td>\n",
       "      <td>0.269794</td>\n",
       "      <td>2235.45</td>\n",
       "      <td>-0.001666</td>\n",
       "      <td>-0.001667</td>\n",
       "    </tr>\n",
       "    <tr>\n",
       "      <th>2019-03-26</th>\n",
       "      <td>53757</td>\n",
       "      <td>150400</td>\n",
       "      <td>91827</td>\n",
       "      <td>38070</td>\n",
       "      <td>0.261499</td>\n",
       "      <td>2249.39</td>\n",
       "      <td>0.006236</td>\n",
       "      <td>0.006217</td>\n",
       "    </tr>\n",
       "    <tr>\n",
       "      <th>2019-03-27</th>\n",
       "      <td>51101</td>\n",
       "      <td>145911</td>\n",
       "      <td>88818</td>\n",
       "      <td>37717</td>\n",
       "      <td>0.269563</td>\n",
       "      <td>2238.73</td>\n",
       "      <td>-0.004739</td>\n",
       "      <td>-0.004750</td>\n",
       "    </tr>\n",
       "    <tr>\n",
       "      <th>2019-03-28</th>\n",
       "      <td>52953</td>\n",
       "      <td>151692</td>\n",
       "      <td>92373</td>\n",
       "      <td>39420</td>\n",
       "      <td>0.271252</td>\n",
       "      <td>2244.34</td>\n",
       "      <td>0.002506</td>\n",
       "      <td>0.002503</td>\n",
       "    </tr>\n",
       "    <tr>\n",
       "      <th>2019-03-29</th>\n",
       "      <td>113175</td>\n",
       "      <td>197636</td>\n",
       "      <td>177540</td>\n",
       "      <td>64365</td>\n",
       "      <td>0.221402</td>\n",
       "      <td>2258.25</td>\n",
       "      <td>0.006198</td>\n",
       "      <td>0.006179</td>\n",
       "    </tr>\n",
       "  </tbody>\n",
       "</table>\n",
       "</div>"
      ],
      "text/plain": [
       "               neg  neutral     pos  abs_sentiment  rel_sentiment  \\\n",
       "date                                                                \n",
       "2019-03-01       2        2       3              1       0.200000   \n",
       "2019-03-04    5970    14727   14000           8030       0.402103   \n",
       "2019-03-05    6811    16115   15810           8999       0.397816   \n",
       "2019-03-06    7452    17841   17015           9563       0.390853   \n",
       "2019-03-07    6847    16893   16929          10082       0.424041   \n",
       "2019-03-08    5759    15008   15602           9843       0.460793   \n",
       "2019-03-11    7120    17727   15318           8198       0.365362   \n",
       "2019-03-12    8763    20575   18939          10176       0.367338   \n",
       "2019-03-13   28519    45845   31100           2581       0.043292   \n",
       "2019-03-14   20862    39805   24249           3387       0.075081   \n",
       "2019-03-15   13387    25701   19584           6197       0.187953   \n",
       "2019-03-18   13473    26610   21282           7809       0.224687   \n",
       "2019-03-19   13852    32399   26029          12177       0.305333   \n",
       "2019-03-20   15848    31096   26564          10716       0.252664   \n",
       "2019-03-21   17892    32539   29261          11369       0.241109   \n",
       "2019-03-22   14730    26139   20828           6098       0.171494   \n",
       "2019-03-25   51765   145737   90017          38252       0.269794   \n",
       "2019-03-26   53757   150400   91827          38070       0.261499   \n",
       "2019-03-27   51101   145911   88818          37717       0.269563   \n",
       "2019-03-28   52953   151692   92373          39420       0.271252   \n",
       "2019-03-29  113175   197636  177540          64365       0.221402   \n",
       "\n",
       "            S&P 500 Top 50  pct_change   log_ret  \n",
       "date                                              \n",
       "2019-03-01         2211.81    0.000000  0.000000  \n",
       "2019-03-04         2208.68   -0.001415 -0.001416  \n",
       "2019-03-05         2210.25    0.000711  0.000711  \n",
       "2019-03-06         2199.74   -0.004755 -0.004766  \n",
       "2019-03-07         2180.94   -0.008546 -0.008583  \n",
       "2019-03-08         2177.70   -0.001486 -0.001487  \n",
       "2019-03-11         2214.70    0.016990  0.016848  \n",
       "2019-03-12         2221.30    0.002980  0.002976  \n",
       "2019-03-13         2235.87    0.006559  0.006538  \n",
       "2019-03-14         2234.24   -0.000729 -0.000729  \n",
       "2019-03-15         2246.94    0.005684  0.005668  \n",
       "2019-03-18         2255.37    0.003752  0.003745  \n",
       "2019-03-19         2257.21    0.000816  0.000815  \n",
       "2019-03-20         2257.56    0.000155  0.000155  \n",
       "2019-03-21         2282.01    0.010830  0.010772  \n",
       "2019-03-22         2239.18   -0.018769 -0.018947  \n",
       "2019-03-25         2235.45   -0.001666 -0.001667  \n",
       "2019-03-26         2249.39    0.006236  0.006217  \n",
       "2019-03-27         2238.73   -0.004739 -0.004750  \n",
       "2019-03-28         2244.34    0.002506  0.002503  \n",
       "2019-03-29         2258.25    0.006198  0.006179  "
      ]
     },
     "execution_count": 171,
     "metadata": {},
     "output_type": "execute_result"
    }
   ],
   "source": [
    "df_for_causality"
   ]
  },
  {
   "cell_type": "markdown",
   "metadata": {},
   "source": [
    "#### Check if our relevant time series are stationary"
   ]
  },
  {
   "cell_type": "markdown",
   "metadata": {},
   "source": [
    "We test if our time series are stationary. For this purpose we utilise the ADF test, applied to a single series at a time (univariate time series). We utilised the python implementation available via statsmodel."
   ]
  },
  {
   "cell_type": "code",
   "execution_count": 172,
   "metadata": {},
   "outputs": [],
   "source": [
    "# ADF (Augmented Dickey Fuller) Test\n",
    "#define function for ADF test\n",
    "from statsmodels.tsa.stattools import adfuller\n",
    "def adf_test(timeseries):\n",
    "    #Perform Dickey-Fuller test:\n",
    "    print('Results of Dickey-Fuller Test:')\n",
    "    dftest = adfuller(timeseries, autolag='AIC')\n",
    "    dfoutput = pd.Series(dftest[0:4], index=['Test Statistic',\n",
    "                                             'p-value','#Lags Used',\n",
    "                                             'Number of Observations Used'])\n",
    "    for key,value in dftest[4].items():\n",
    "        dfoutput['Critical Value (%s)'%key] = value\n",
    "    print(dfoutput)"
   ]
  },
  {
   "cell_type": "code",
   "execution_count": 173,
   "metadata": {},
   "outputs": [],
   "source": [
    "#define function for kpss test\n",
    "from statsmodels.tsa.stattools import kpss\n",
    "#define KPSS\n",
    "def kpss_test(timeseries):\n",
    "    print ('Results of KPSS Test:')\n",
    "    kpsstest = kpss(timeseries, regression='c')\n",
    "    kpss_output = pd.Series(kpsstest[0:3], index=['Test Statistic','p-value','Lags Used'])\n",
    "    for key,value in kpsstest[3].items():\n",
    "        kpss_output['Critical Value (%s)'%key] = value\n",
    "    print (kpss_output)"
   ]
  },
  {
   "cell_type": "code",
   "execution_count": 174,
   "metadata": {},
   "outputs": [
    {
     "name": "stdout",
     "output_type": "stream",
     "text": [
      "Results of Dickey-Fuller Test:\n",
      "Test Statistic                 -0.000000\n",
      "p-value                         0.958532\n",
      "#Lags Used                      9.000000\n",
      "Number of Observations Used    11.000000\n",
      "Critical Value (1%)            -4.223238\n",
      "Critical Value (5%)            -3.189369\n",
      "Critical Value (10%)           -2.729839\n",
      "dtype: float64\n"
     ]
    },
    {
     "name": "stderr",
     "output_type": "stream",
     "text": [
      "/home/s_hamdani/anaconda3/lib/python3.6/site-packages/statsmodels/regression/linear_model.py:1510: RuntimeWarning: divide by zero encountered in double_scalars\n",
      "  return np.dot(wresid, wresid) / self.df_resid\n"
     ]
    }
   ],
   "source": [
    "adf_test(df_for_causality['S&P 500 Top 50'])"
   ]
  },
  {
   "cell_type": "code",
   "execution_count": 175,
   "metadata": {},
   "outputs": [
    {
     "name": "stdout",
     "output_type": "stream",
     "text": [
      "Results of Dickey-Fuller Test:\n",
      "Test Statistic                 -0.000000\n",
      "p-value                         0.958532\n",
      "#Lags Used                      9.000000\n",
      "Number of Observations Used    11.000000\n",
      "Critical Value (1%)            -4.223238\n",
      "Critical Value (5%)            -3.189369\n",
      "Critical Value (10%)           -2.729839\n",
      "dtype: float64\n"
     ]
    },
    {
     "name": "stderr",
     "output_type": "stream",
     "text": [
      "/home/s_hamdani/anaconda3/lib/python3.6/site-packages/statsmodels/regression/linear_model.py:1510: RuntimeWarning: divide by zero encountered in double_scalars\n",
      "  return np.dot(wresid, wresid) / self.df_resid\n"
     ]
    }
   ],
   "source": [
    "adf_test(df_for_causality['log_ret'])"
   ]
  },
  {
   "cell_type": "code",
   "execution_count": 104,
   "metadata": {},
   "outputs": [
    {
     "name": "stdout",
     "output_type": "stream",
     "text": [
      "Results of KPSS Test:\n",
      "Test Statistic           0.319036\n",
      "p-value                  0.100000\n",
      "Lags Used                9.000000\n",
      "Critical Value (10%)     0.347000\n",
      "Critical Value (5%)      0.463000\n",
      "Critical Value (2.5%)    0.574000\n",
      "Critical Value (1%)      0.739000\n",
      "dtype: float64\n"
     ]
    },
    {
     "name": "stderr",
     "output_type": "stream",
     "text": [
      "/home/s_hamdani/anaconda3/lib/python3.6/site-packages/statsmodels/tsa/stattools.py:1278: InterpolationWarning: p-value is greater than the indicated p-value\n",
      "  warn(\"p-value is greater than the indicated p-value\", InterpolationWarning)\n"
     ]
    }
   ],
   "source": [
    "kpss_test(df_for_causality['S&P 500 Top 50'])"
   ]
  },
  {
   "cell_type": "code",
   "execution_count": 64,
   "metadata": {},
   "outputs": [
    {
     "name": "stdout",
     "output_type": "stream",
     "text": [
      "Results of Dickey-Fuller Test:\n",
      "Test Statistic                  0.000000\n",
      "p-value                         0.958532\n",
      "#Lags Used                      9.000000\n",
      "Number of Observations Used    10.000000\n",
      "Critical Value (1%)            -4.331573\n",
      "Critical Value (5%)            -3.232950\n",
      "Critical Value (10%)           -2.748700\n",
      "dtype: float64\n"
     ]
    },
    {
     "name": "stderr",
     "output_type": "stream",
     "text": [
      "/home/s_hamdani/anaconda3/lib/python3.6/site-packages/statsmodels/regression/linear_model.py:1510: RuntimeWarning: divide by zero encountered in double_scalars\n",
      "  return np.dot(wresid, wresid) / self.df_resid\n"
     ]
    }
   ],
   "source": [
    "adf_test(df_for_causality['rel_sentiment'])"
   ]
  },
  {
   "cell_type": "code",
   "execution_count": 65,
   "metadata": {},
   "outputs": [
    {
     "name": "stdout",
     "output_type": "stream",
     "text": [
      "Results of Dickey-Fuller Test:\n",
      "Test Statistic                 -0.000000\n",
      "p-value                         0.958532\n",
      "#Lags Used                      9.000000\n",
      "Number of Observations Used    10.000000\n",
      "Critical Value (1%)            -4.331573\n",
      "Critical Value (5%)            -3.232950\n",
      "Critical Value (10%)           -2.748700\n",
      "dtype: float64\n"
     ]
    },
    {
     "name": "stderr",
     "output_type": "stream",
     "text": [
      "/home/s_hamdani/anaconda3/lib/python3.6/site-packages/statsmodels/regression/linear_model.py:1510: RuntimeWarning: divide by zero encountered in double_scalars\n",
      "  return np.dot(wresid, wresid) / self.df_resid\n"
     ]
    }
   ],
   "source": [
    "adf_test(df_for_causality['abs_sentiment'])"
   ]
  },
  {
   "cell_type": "code",
   "execution_count": 176,
   "metadata": {},
   "outputs": [
    {
     "name": "stdout",
     "output_type": "stream",
     "text": [
      "Results of Dickey-Fuller Test:\n",
      "Test Statistic                  0.000000\n",
      "p-value                         0.958532\n",
      "#Lags Used                      9.000000\n",
      "Number of Observations Used    11.000000\n",
      "Critical Value (1%)            -4.223238\n",
      "Critical Value (5%)            -3.189369\n",
      "Critical Value (10%)           -2.729839\n",
      "dtype: float64\n"
     ]
    },
    {
     "name": "stderr",
     "output_type": "stream",
     "text": [
      "/home/s_hamdani/anaconda3/lib/python3.6/site-packages/statsmodels/regression/linear_model.py:1510: RuntimeWarning: divide by zero encountered in double_scalars\n",
      "  return np.dot(wresid, wresid) / self.df_resid\n"
     ]
    }
   ],
   "source": [
    "adf_test(df_for_causality['pos'])"
   ]
  },
  {
   "cell_type": "code",
   "execution_count": 67,
   "metadata": {},
   "outputs": [
    {
     "name": "stdout",
     "output_type": "stream",
     "text": [
      "Results of Dickey-Fuller Test:\n",
      "Test Statistic                 -0.000000\n",
      "p-value                         0.958532\n",
      "#Lags Used                      9.000000\n",
      "Number of Observations Used    10.000000\n",
      "Critical Value (1%)            -4.331573\n",
      "Critical Value (5%)            -3.232950\n",
      "Critical Value (10%)           -2.748700\n",
      "dtype: float64\n"
     ]
    },
    {
     "name": "stderr",
     "output_type": "stream",
     "text": [
      "/home/s_hamdani/anaconda3/lib/python3.6/site-packages/statsmodels/regression/linear_model.py:1510: RuntimeWarning: divide by zero encountered in double_scalars\n",
      "  return np.dot(wresid, wresid) / self.df_resid\n"
     ]
    }
   ],
   "source": [
    "adf_test(df_for_causality['neg'])"
   ]
  },
  {
   "cell_type": "code",
   "execution_count": 79,
   "metadata": {},
   "outputs": [],
   "source": [
    "# we remove the variable that is causing collinearity\n",
    "# we use only rel_sentiment\n",
    "temp_df = df_for_causality[['S&P 500 Top 50', 'rel_sentiment']]"
   ]
  },
  {
   "cell_type": "code",
   "execution_count": 80,
   "metadata": {},
   "outputs": [
    {
     "data": {
      "text/plain": [
       "array([0.21261305, 0.02694354])"
      ]
     },
     "execution_count": 80,
     "metadata": {},
     "output_type": "execute_result"
    }
   ],
   "source": [
    "from statsmodels.tsa.vector_ar.vecm import coint_johansen\n",
    "coint_johansen(temp_df,-1,1).eig"
   ]
  },
  {
   "cell_type": "markdown",
   "metadata": {},
   "source": [
    "#### Granger-Causality of Stock Price with different sentiment variables"
   ]
  },
  {
   "cell_type": "code",
   "execution_count": 68,
   "metadata": {},
   "outputs": [],
   "source": [
    "from statsmodels.tsa.stattools import grangercausalitytests"
   ]
  },
  {
   "cell_type": "code",
   "execution_count": 69,
   "metadata": {},
   "outputs": [
    {
     "name": "stdout",
     "output_type": "stream",
     "text": [
      "\n",
      "Granger Causality\n",
      "number of lags (no zero) 1\n",
      "ssr based F test:         F=0.4289  , p=0.5218  , df_denom=16, df_num=1\n",
      "ssr based chi2 test:   chi2=0.5093  , p=0.4754  , df=1\n",
      "likelihood ratio test: chi2=0.5026  , p=0.4783  , df=1\n",
      "parameter F test:         F=0.4289  , p=0.5218  , df_denom=16, df_num=1\n"
     ]
    }
   ],
   "source": [
    "granger_test_result = grangercausalitytests(\n",
    "    df_for_causality[['S&P 500 Top 50','rel_sentiment']].values,maxlag=1)"
   ]
  },
  {
   "cell_type": "code",
   "execution_count": 70,
   "metadata": {},
   "outputs": [
    {
     "name": "stdout",
     "output_type": "stream",
     "text": [
      "\n",
      "Granger Causality\n",
      "number of lags (no zero) 1\n",
      "ssr based F test:         F=0.3668  , p=0.5533  , df_denom=16, df_num=1\n",
      "ssr based chi2 test:   chi2=0.4355  , p=0.5093  , df=1\n",
      "likelihood ratio test: chi2=0.4306  , p=0.5117  , df=1\n",
      "parameter F test:         F=0.3668  , p=0.5533  , df_denom=16, df_num=1\n"
     ]
    }
   ],
   "source": [
    "granger_test_result = grangercausalitytests(\n",
    "    df_for_causality[['S&P 500 Top 50','abs_sentiment']].values,maxlag=1)"
   ]
  },
  {
   "cell_type": "code",
   "execution_count": 71,
   "metadata": {},
   "outputs": [
    {
     "name": "stdout",
     "output_type": "stream",
     "text": [
      "\n",
      "Granger Causality\n",
      "number of lags (no zero) 1\n",
      "ssr based F test:         F=0.1087  , p=0.7460  , df_denom=16, df_num=1\n",
      "ssr based chi2 test:   chi2=0.1290  , p=0.7194  , df=1\n",
      "likelihood ratio test: chi2=0.1286  , p=0.7199  , df=1\n",
      "parameter F test:         F=0.1087  , p=0.7460  , df_denom=16, df_num=1\n"
     ]
    }
   ],
   "source": [
    "granger_test_result = grangercausalitytests(\n",
    "    df_for_causality[['log_ret','rel_sentiment']].values,maxlag=1)"
   ]
  },
  {
   "cell_type": "code",
   "execution_count": 72,
   "metadata": {},
   "outputs": [
    {
     "name": "stdout",
     "output_type": "stream",
     "text": [
      "\n",
      "Granger Causality\n",
      "number of lags (no zero) 1\n",
      "ssr based F test:         F=0.0885  , p=0.7700  , df_denom=16, df_num=1\n",
      "ssr based chi2 test:   chi2=0.1050  , p=0.7459  , df=1\n",
      "likelihood ratio test: chi2=0.1048  , p=0.7462  , df=1\n",
      "parameter F test:         F=0.0885  , p=0.7700  , df_denom=16, df_num=1\n"
     ]
    }
   ],
   "source": [
    "granger_test_result = grangercausalitytests(\n",
    "    df_for_causality[['log_ret','abs_sentiment']].values,maxlag=1)"
   ]
  },
  {
   "cell_type": "code",
   "execution_count": 73,
   "metadata": {},
   "outputs": [
    {
     "name": "stdout",
     "output_type": "stream",
     "text": [
      "\n",
      "Granger Causality\n",
      "number of lags (no zero) 1\n",
      "ssr based F test:         F=0.0467  , p=0.8316  , df_denom=16, df_num=1\n",
      "ssr based chi2 test:   chi2=0.0555  , p=0.8138  , df=1\n",
      "likelihood ratio test: chi2=0.0554  , p=0.8139  , df=1\n",
      "parameter F test:         F=0.0467  , p=0.8316  , df_denom=16, df_num=1\n"
     ]
    }
   ],
   "source": [
    "granger_test_result = grangercausalitytests(\n",
    "    df_for_causality[['log_ret','pos']].values,maxlag=1)"
   ]
  },
  {
   "cell_type": "code",
   "execution_count": 74,
   "metadata": {},
   "outputs": [
    {
     "name": "stdout",
     "output_type": "stream",
     "text": [
      "\n",
      "Granger Causality\n",
      "number of lags (no zero) 1\n",
      "ssr based F test:         F=0.0223  , p=0.8832  , df_denom=16, df_num=1\n",
      "ssr based chi2 test:   chi2=0.0265  , p=0.8708  , df=1\n",
      "likelihood ratio test: chi2=0.0264  , p=0.8708  , df=1\n",
      "parameter F test:         F=0.0223  , p=0.8832  , df_denom=16, df_num=1\n"
     ]
    }
   ],
   "source": [
    "granger_test_result = grangercausalitytests(\n",
    "    df_for_causality[['log_ret','neg']].values,maxlag=1)"
   ]
  },
  {
   "cell_type": "markdown",
   "metadata": {},
   "source": [
    "#### Vector Autoregressive (VAR) model for Multivariate Timeseries"
   ]
  },
  {
   "cell_type": "code",
   "execution_count": 99,
   "metadata": {},
   "outputs": [],
   "source": [
    "var_model = df_for_causality[['log_ret', 'rel_sentiment', 'pos', 'neg']]"
   ]
  },
  {
   "cell_type": "code",
   "execution_count": 100,
   "metadata": {},
   "outputs": [],
   "source": [
    "from statsmodels.tsa.vector_ar.var_model import VAR\n",
    "\n",
    "model = VAR(endog=var_model, freq='B')\n",
    "model_fit = model.fit()"
   ]
  },
  {
   "cell_type": "code",
   "execution_count": 101,
   "metadata": {},
   "outputs": [
    {
     "data": {
      "text/plain": [
       "  Summary of Regression Results   \n",
       "==================================\n",
       "Model:                         VAR\n",
       "Method:                        OLS\n",
       "Date:           Thu, 04, Apr, 2019\n",
       "Time:                     14:18:20\n",
       "--------------------------------------------------------------------\n",
       "No. of Equations:         4.00000    BIC:                    22.0045\n",
       "Nobs:                     19.0000    HQIC:                   21.1786\n",
       "Log likelihood:          -287.437    FPE:                1.40185e+09\n",
       "AIC:                      21.0103    Det(Omega_mle):     5.50643e+08\n",
       "--------------------------------------------------------------------\n",
       "Results for equation log_ret\n",
       "===================================================================================\n",
       "                      coefficient       std. error           t-stat            prob\n",
       "-----------------------------------------------------------------------------------\n",
       "const                   -0.006399         0.020637           -0.310           0.757\n",
       "L1.log_ret              -0.118499         0.268583           -0.441           0.659\n",
       "L1.rel_sentiment         0.022304         0.065085            0.343           0.732\n",
       "L1.pos                  -0.000000         0.000001           -0.220           0.826\n",
       "L1.neg                   0.000000         0.000002            0.241           0.810\n",
       "===================================================================================\n",
       "\n",
       "Results for equation rel_sentiment\n",
       "===================================================================================\n",
       "                      coefficient       std. error           t-stat            prob\n",
       "-----------------------------------------------------------------------------------\n",
       "const                    0.025089         0.207700            0.121           0.904\n",
       "L1.log_ret              -3.358430         2.703132           -1.242           0.214\n",
       "L1.rel_sentiment         0.925009         0.655045            1.412           0.158\n",
       "L1.pos                  -0.000006         0.000011           -0.565           0.572\n",
       "L1.neg                   0.000010         0.000019            0.530           0.596\n",
       "===================================================================================\n",
       "\n",
       "Results for equation pos\n",
       "===================================================================================\n",
       "                      coefficient       std. error           t-stat            prob\n",
       "-----------------------------------------------------------------------------------\n",
       "const                67962.803305     64004.951837            1.062           0.288\n",
       "L1.log_ret        -1154158.550028    832999.940123           -1.386           0.166\n",
       "L1.rel_sentiment   -220287.678386    201859.276176           -1.091           0.275\n",
       "L1.pos                   4.838412         3.347915            1.445           0.148\n",
       "L1.neg                  -6.328528         5.929943           -1.067           0.286\n",
       "===================================================================================\n",
       "\n",
       "Results for equation neg\n",
       "===================================================================================\n",
       "                      coefficient       std. error           t-stat            prob\n",
       "-----------------------------------------------------------------------------------\n",
       "const                43466.584632     44233.525884            0.983           0.326\n",
       "L1.log_ret         -551833.808870    575682.401988           -0.959           0.338\n",
       "L1.rel_sentiment   -144812.931710    139504.011195           -1.038           0.299\n",
       "L1.pos                   2.920015         2.313729            1.262           0.207\n",
       "L1.neg                  -3.800819         4.098156           -0.927           0.354\n",
       "===================================================================================\n",
       "\n",
       "Correlation matrix of residuals\n",
       "                  log_ret  rel_sentiment       pos       neg\n",
       "log_ret          1.000000      -0.205470  0.170445  0.196612\n",
       "rel_sentiment   -0.205470       1.000000 -0.157053 -0.328667\n",
       "pos              0.170445      -0.157053  1.000000  0.981727\n",
       "neg              0.196612      -0.328667  0.981727  1.000000\n",
       "\n"
      ]
     },
     "execution_count": 101,
     "metadata": {},
     "output_type": "execute_result"
    }
   ],
   "source": [
    "model_fit.summary()"
   ]
  },
  {
   "cell_type": "markdown",
   "metadata": {},
   "source": [
    "# 5. Individual Stock Data (S&P500 Top 50)"
   ]
  },
  {
   "cell_type": "code",
   "execution_count": 70,
   "metadata": {},
   "outputs": [
    {
     "data": {
      "text/plain": [
       "49"
      ]
     },
     "execution_count": 70,
     "metadata": {},
     "output_type": "execute_result"
    }
   ],
   "source": [
    "len(df['ticker'].unique())"
   ]
  },
  {
   "cell_type": "code",
   "execution_count": 71,
   "metadata": {},
   "outputs": [],
   "source": [
    "tickers = list(set(df['ticker'].unique()))"
   ]
  },
  {
   "cell_type": "code",
   "execution_count": 72,
   "metadata": {},
   "outputs": [],
   "source": [
    "tickers.append('BRK-B')\n",
    "tickers.remove('BRK')"
   ]
  },
  {
   "cell_type": "code",
   "execution_count": 73,
   "metadata": {},
   "outputs": [
    {
     "data": {
      "text/plain": [
       "49"
      ]
     },
     "execution_count": 73,
     "metadata": {},
     "output_type": "execute_result"
    }
   ],
   "source": [
    "len(tickers)"
   ]
  },
  {
   "cell_type": "code",
   "execution_count": 82,
   "metadata": {},
   "outputs": [],
   "source": [
    "# import fix_yahoo_finance as yf\n",
    "\n",
    "# complete_panel_data = yf.download(tickers, start=\"2019-03-01\", end=\"2019-03-27\")"
   ]
  },
  {
   "cell_type": "code",
   "execution_count": 77,
   "metadata": {},
   "outputs": [],
   "source": [
    "import pandas_datareader\n",
    "\n",
    "start_date = '2019-03-01'\n",
    "end_date = '2019-03-28'\n",
    "\n",
    "complete_panel_data = pandas_datareader.get_data_yahoo(tickers, start_date, end_date)"
   ]
  },
  {
   "cell_type": "code",
   "execution_count": 80,
   "metadata": {},
   "outputs": [
    {
     "data": {
      "text/html": [
       "<div>\n",
       "<style scoped>\n",
       "    .dataframe tbody tr th:only-of-type {\n",
       "        vertical-align: middle;\n",
       "    }\n",
       "\n",
       "    .dataframe tbody tr th {\n",
       "        vertical-align: top;\n",
       "    }\n",
       "\n",
       "    .dataframe thead tr th {\n",
       "        text-align: left;\n",
       "    }\n",
       "\n",
       "    .dataframe thead tr:last-of-type th {\n",
       "        text-align: right;\n",
       "    }\n",
       "</style>\n",
       "<table border=\"1\" class=\"dataframe\">\n",
       "  <thead>\n",
       "    <tr>\n",
       "      <th>Attributes</th>\n",
       "      <th colspan=\"10\" halign=\"left\">High</th>\n",
       "      <th>...</th>\n",
       "      <th colspan=\"10\" halign=\"left\">Adj Close</th>\n",
       "    </tr>\n",
       "    <tr>\n",
       "      <th>Symbols</th>\n",
       "      <th>AAPL</th>\n",
       "      <th>ABBV</th>\n",
       "      <th>ABT</th>\n",
       "      <th>ADBE</th>\n",
       "      <th>AMGN</th>\n",
       "      <th>AMZN</th>\n",
       "      <th>AVGO</th>\n",
       "      <th>BA</th>\n",
       "      <th>BAC</th>\n",
       "      <th>BRK-B</th>\n",
       "      <th>...</th>\n",
       "      <th>PM</th>\n",
       "      <th>PYPL</th>\n",
       "      <th>T</th>\n",
       "      <th>UNH</th>\n",
       "      <th>UNP</th>\n",
       "      <th>V</th>\n",
       "      <th>VZ</th>\n",
       "      <th>WFC</th>\n",
       "      <th>WMT</th>\n",
       "      <th>XOM</th>\n",
       "    </tr>\n",
       "    <tr>\n",
       "      <th>Date</th>\n",
       "      <th></th>\n",
       "      <th></th>\n",
       "      <th></th>\n",
       "      <th></th>\n",
       "      <th></th>\n",
       "      <th></th>\n",
       "      <th></th>\n",
       "      <th></th>\n",
       "      <th></th>\n",
       "      <th></th>\n",
       "      <th></th>\n",
       "      <th></th>\n",
       "      <th></th>\n",
       "      <th></th>\n",
       "      <th></th>\n",
       "      <th></th>\n",
       "      <th></th>\n",
       "      <th></th>\n",
       "      <th></th>\n",
       "      <th></th>\n",
       "      <th></th>\n",
       "    </tr>\n",
       "  </thead>\n",
       "  <tbody>\n",
       "    <tr>\n",
       "      <th>2019-03-01</th>\n",
       "      <td>175.149994</td>\n",
       "      <td>80.849998</td>\n",
       "      <td>78.739998</td>\n",
       "      <td>266.239990</td>\n",
       "      <td>192.059998</td>\n",
       "      <td>1674.260010</td>\n",
       "      <td>278.160004</td>\n",
       "      <td>446.010010</td>\n",
       "      <td>29.650000</td>\n",
       "      <td>203.839996</td>\n",
       "      <td>...</td>\n",
       "      <td>86.415771</td>\n",
       "      <td>98.800003</td>\n",
       "      <td>30.820000</td>\n",
       "      <td>245.214050</td>\n",
       "      <td>167.440002</td>\n",
       "      <td>149.470001</td>\n",
       "      <td>56.959999</td>\n",
       "      <td>50.029999</td>\n",
       "      <td>97.405891</td>\n",
       "      <td>80.000000</td>\n",
       "    </tr>\n",
       "    <tr>\n",
       "      <th>2019-03-04</th>\n",
       "      <td>177.750000</td>\n",
       "      <td>80.730003</td>\n",
       "      <td>78.970001</td>\n",
       "      <td>267.000000</td>\n",
       "      <td>192.119995</td>\n",
       "      <td>1709.430054</td>\n",
       "      <td>276.579987</td>\n",
       "      <td>444.500000</td>\n",
       "      <td>29.540001</td>\n",
       "      <td>204.869995</td>\n",
       "      <td>...</td>\n",
       "      <td>86.188644</td>\n",
       "      <td>96.570000</td>\n",
       "      <td>29.980000</td>\n",
       "      <td>235.122589</td>\n",
       "      <td>167.369995</td>\n",
       "      <td>147.960007</td>\n",
       "      <td>56.240002</td>\n",
       "      <td>50.110001</td>\n",
       "      <td>97.326317</td>\n",
       "      <td>80.309998</td>\n",
       "    </tr>\n",
       "    <tr>\n",
       "      <th>2019-03-05</th>\n",
       "      <td>176.000000</td>\n",
       "      <td>79.900002</td>\n",
       "      <td>78.910004</td>\n",
       "      <td>259.869995</td>\n",
       "      <td>190.669998</td>\n",
       "      <td>1707.800049</td>\n",
       "      <td>280.440002</td>\n",
       "      <td>433.850006</td>\n",
       "      <td>29.190001</td>\n",
       "      <td>202.000000</td>\n",
       "      <td>...</td>\n",
       "      <td>85.892395</td>\n",
       "      <td>96.529999</td>\n",
       "      <td>29.950001</td>\n",
       "      <td>240.512009</td>\n",
       "      <td>166.779999</td>\n",
       "      <td>147.949997</td>\n",
       "      <td>56.080002</td>\n",
       "      <td>49.889999</td>\n",
       "      <td>97.813690</td>\n",
       "      <td>80.190002</td>\n",
       "    </tr>\n",
       "    <tr>\n",
       "      <th>2019-03-06</th>\n",
       "      <td>175.490005</td>\n",
       "      <td>79.129997</td>\n",
       "      <td>78.220001</td>\n",
       "      <td>259.489990</td>\n",
       "      <td>189.369995</td>\n",
       "      <td>1697.750000</td>\n",
       "      <td>276.929993</td>\n",
       "      <td>432.000000</td>\n",
       "      <td>29.160000</td>\n",
       "      <td>202.300003</td>\n",
       "      <td>...</td>\n",
       "      <td>85.931892</td>\n",
       "      <td>96.459999</td>\n",
       "      <td>29.809999</td>\n",
       "      <td>238.160995</td>\n",
       "      <td>165.910004</td>\n",
       "      <td>147.809998</td>\n",
       "      <td>55.680000</td>\n",
       "      <td>49.820000</td>\n",
       "      <td>97.734123</td>\n",
       "      <td>79.279999</td>\n",
       "    </tr>\n",
       "    <tr>\n",
       "      <th>2019-03-07</th>\n",
       "      <td>174.440002</td>\n",
       "      <td>79.120003</td>\n",
       "      <td>77.949997</td>\n",
       "      <td>257.489990</td>\n",
       "      <td>183.160004</td>\n",
       "      <td>1669.750000</td>\n",
       "      <td>270.329987</td>\n",
       "      <td>434.350006</td>\n",
       "      <td>28.719999</td>\n",
       "      <td>200.580002</td>\n",
       "      <td>...</td>\n",
       "      <td>85.882523</td>\n",
       "      <td>96.209999</td>\n",
       "      <td>29.920000</td>\n",
       "      <td>235.799988</td>\n",
       "      <td>164.940002</td>\n",
       "      <td>146.830002</td>\n",
       "      <td>56.299999</td>\n",
       "      <td>49.680000</td>\n",
       "      <td>96.928452</td>\n",
       "      <td>80.160004</td>\n",
       "    </tr>\n",
       "  </tbody>\n",
       "</table>\n",
       "<p>5 rows × 294 columns</p>\n",
       "</div>"
      ],
      "text/plain": [
       "Attributes        High                                                \\\n",
       "Symbols           AAPL       ABBV        ABT        ADBE        AMGN   \n",
       "Date                                                                   \n",
       "2019-03-01  175.149994  80.849998  78.739998  266.239990  192.059998   \n",
       "2019-03-04  177.750000  80.730003  78.970001  267.000000  192.119995   \n",
       "2019-03-05  176.000000  79.900002  78.910004  259.869995  190.669998   \n",
       "2019-03-06  175.490005  79.129997  78.220001  259.489990  189.369995   \n",
       "2019-03-07  174.440002  79.120003  77.949997  257.489990  183.160004   \n",
       "\n",
       "Attributes                                                              \\\n",
       "Symbols            AMZN        AVGO          BA        BAC       BRK-B   \n",
       "Date                                                                     \n",
       "2019-03-01  1674.260010  278.160004  446.010010  29.650000  203.839996   \n",
       "2019-03-04  1709.430054  276.579987  444.500000  29.540001  204.869995   \n",
       "2019-03-05  1707.800049  280.440002  433.850006  29.190001  202.000000   \n",
       "2019-03-06  1697.750000  276.929993  432.000000  29.160000  202.300003   \n",
       "2019-03-07  1669.750000  270.329987  434.350006  28.719999  200.580002   \n",
       "\n",
       "Attributes    ...      Adj Close                                    \\\n",
       "Symbols       ...             PM       PYPL          T         UNH   \n",
       "Date          ...                                                    \n",
       "2019-03-01    ...      86.415771  98.800003  30.820000  245.214050   \n",
       "2019-03-04    ...      86.188644  96.570000  29.980000  235.122589   \n",
       "2019-03-05    ...      85.892395  96.529999  29.950001  240.512009   \n",
       "2019-03-06    ...      85.931892  96.459999  29.809999  238.160995   \n",
       "2019-03-07    ...      85.882523  96.209999  29.920000  235.799988   \n",
       "\n",
       "Attributes                                                                      \n",
       "Symbols            UNP           V         VZ        WFC        WMT        XOM  \n",
       "Date                                                                            \n",
       "2019-03-01  167.440002  149.470001  56.959999  50.029999  97.405891  80.000000  \n",
       "2019-03-04  167.369995  147.960007  56.240002  50.110001  97.326317  80.309998  \n",
       "2019-03-05  166.779999  147.949997  56.080002  49.889999  97.813690  80.190002  \n",
       "2019-03-06  165.910004  147.809998  55.680000  49.820000  97.734123  79.279999  \n",
       "2019-03-07  164.940002  146.830002  56.299999  49.680000  96.928452  80.160004  \n",
       "\n",
       "[5 rows x 294 columns]"
      ]
     },
     "execution_count": 80,
     "metadata": {},
     "output_type": "execute_result"
    }
   ],
   "source": [
    "complete_panel_data.head()"
   ]
  },
  {
   "cell_type": "code",
   "execution_count": 38,
   "metadata": {},
   "outputs": [
    {
     "data": {
      "text/html": [
       "<div>\n",
       "<style scoped>\n",
       "    .dataframe tbody tr th:only-of-type {\n",
       "        vertical-align: middle;\n",
       "    }\n",
       "\n",
       "    .dataframe tbody tr th {\n",
       "        vertical-align: top;\n",
       "    }\n",
       "\n",
       "    .dataframe thead th {\n",
       "        text-align: right;\n",
       "    }\n",
       "</style>\n",
       "<table border=\"1\" class=\"dataframe\">\n",
       "  <thead>\n",
       "    <tr style=\"text-align: right;\">\n",
       "      <th></th>\n",
       "      <th>AAPL</th>\n",
       "      <th>ABBV</th>\n",
       "      <th>ABT</th>\n",
       "      <th>ADBE</th>\n",
       "      <th>AMGN</th>\n",
       "      <th>AMZN</th>\n",
       "      <th>AVGO</th>\n",
       "      <th>BA</th>\n",
       "      <th>BAC</th>\n",
       "      <th>BRK-B</th>\n",
       "      <th>...</th>\n",
       "      <th>PM</th>\n",
       "      <th>PYPL</th>\n",
       "      <th>T</th>\n",
       "      <th>UNH</th>\n",
       "      <th>UNP</th>\n",
       "      <th>V</th>\n",
       "      <th>VZ</th>\n",
       "      <th>WFC</th>\n",
       "      <th>WMT</th>\n",
       "      <th>XOM</th>\n",
       "    </tr>\n",
       "    <tr>\n",
       "      <th>Date</th>\n",
       "      <th></th>\n",
       "      <th></th>\n",
       "      <th></th>\n",
       "      <th></th>\n",
       "      <th></th>\n",
       "      <th></th>\n",
       "      <th></th>\n",
       "      <th></th>\n",
       "      <th></th>\n",
       "      <th></th>\n",
       "      <th></th>\n",
       "      <th></th>\n",
       "      <th></th>\n",
       "      <th></th>\n",
       "      <th></th>\n",
       "      <th></th>\n",
       "      <th></th>\n",
       "      <th></th>\n",
       "      <th></th>\n",
       "      <th></th>\n",
       "      <th></th>\n",
       "    </tr>\n",
       "  </thead>\n",
       "  <tbody>\n",
       "    <tr>\n",
       "      <th>2019-03-01</th>\n",
       "      <td>174.970001</td>\n",
       "      <td>80.099998</td>\n",
       "      <td>78.589996</td>\n",
       "      <td>264.010010</td>\n",
       "      <td>191.160004</td>\n",
       "      <td>1671.729980</td>\n",
       "      <td>270.335175</td>\n",
       "      <td>440.619995</td>\n",
       "      <td>29.309999</td>\n",
       "      <td>203.130005</td>\n",
       "      <td>...</td>\n",
       "      <td>86.415771</td>\n",
       "      <td>98.800003</td>\n",
       "      <td>30.820000</td>\n",
       "      <td>245.214050</td>\n",
       "      <td>167.440002</td>\n",
       "      <td>149.470001</td>\n",
       "      <td>56.959999</td>\n",
       "      <td>50.029999</td>\n",
       "      <td>97.405891</td>\n",
       "      <td>80.000000</td>\n",
       "    </tr>\n",
       "    <tr>\n",
       "      <th>2019-03-04</th>\n",
       "      <td>175.850006</td>\n",
       "      <td>79.459999</td>\n",
       "      <td>78.620003</td>\n",
       "      <td>258.160004</td>\n",
       "      <td>189.779999</td>\n",
       "      <td>1696.170044</td>\n",
       "      <td>272.456238</td>\n",
       "      <td>432.690002</td>\n",
       "      <td>29.030001</td>\n",
       "      <td>201.809998</td>\n",
       "      <td>...</td>\n",
       "      <td>86.188644</td>\n",
       "      <td>96.570000</td>\n",
       "      <td>29.980000</td>\n",
       "      <td>235.122589</td>\n",
       "      <td>167.369995</td>\n",
       "      <td>147.960007</td>\n",
       "      <td>56.240002</td>\n",
       "      <td>50.110001</td>\n",
       "      <td>97.326317</td>\n",
       "      <td>80.309998</td>\n",
       "    </tr>\n",
       "    <tr>\n",
       "      <th>2019-03-05</th>\n",
       "      <td>175.529999</td>\n",
       "      <td>78.910004</td>\n",
       "      <td>78.220001</td>\n",
       "      <td>257.380005</td>\n",
       "      <td>188.820007</td>\n",
       "      <td>1692.430054</td>\n",
       "      <td>274.557465</td>\n",
       "      <td>430.119995</td>\n",
       "      <td>29.080000</td>\n",
       "      <td>201.470001</td>\n",
       "      <td>...</td>\n",
       "      <td>85.892395</td>\n",
       "      <td>96.529999</td>\n",
       "      <td>29.950001</td>\n",
       "      <td>240.512009</td>\n",
       "      <td>166.779999</td>\n",
       "      <td>147.949997</td>\n",
       "      <td>56.080002</td>\n",
       "      <td>49.889999</td>\n",
       "      <td>97.813690</td>\n",
       "      <td>80.190002</td>\n",
       "    </tr>\n",
       "    <tr>\n",
       "      <th>2019-03-06</th>\n",
       "      <td>174.520004</td>\n",
       "      <td>78.089996</td>\n",
       "      <td>77.699997</td>\n",
       "      <td>256.399994</td>\n",
       "      <td>183.149994</td>\n",
       "      <td>1668.949951</td>\n",
       "      <td>268.947571</td>\n",
       "      <td>424.459991</td>\n",
       "      <td>28.840000</td>\n",
       "      <td>200.669998</td>\n",
       "      <td>...</td>\n",
       "      <td>85.931892</td>\n",
       "      <td>96.459999</td>\n",
       "      <td>29.809999</td>\n",
       "      <td>238.160995</td>\n",
       "      <td>165.910004</td>\n",
       "      <td>147.809998</td>\n",
       "      <td>55.680000</td>\n",
       "      <td>49.820000</td>\n",
       "      <td>97.734123</td>\n",
       "      <td>79.279999</td>\n",
       "    </tr>\n",
       "    <tr>\n",
       "      <th>2019-03-07</th>\n",
       "      <td>172.500000</td>\n",
       "      <td>78.239998</td>\n",
       "      <td>76.800003</td>\n",
       "      <td>255.460007</td>\n",
       "      <td>181.460007</td>\n",
       "      <td>1625.949951</td>\n",
       "      <td>263.159271</td>\n",
       "      <td>422.559998</td>\n",
       "      <td>28.549999</td>\n",
       "      <td>199.300003</td>\n",
       "      <td>...</td>\n",
       "      <td>85.882523</td>\n",
       "      <td>96.209999</td>\n",
       "      <td>29.920000</td>\n",
       "      <td>235.799988</td>\n",
       "      <td>164.940002</td>\n",
       "      <td>146.830002</td>\n",
       "      <td>56.299999</td>\n",
       "      <td>49.680000</td>\n",
       "      <td>96.928452</td>\n",
       "      <td>80.160004</td>\n",
       "    </tr>\n",
       "    <tr>\n",
       "      <th>2019-03-08</th>\n",
       "      <td>172.910004</td>\n",
       "      <td>77.580002</td>\n",
       "      <td>76.629997</td>\n",
       "      <td>254.740005</td>\n",
       "      <td>180.869995</td>\n",
       "      <td>1620.800049</td>\n",
       "      <td>261.850952</td>\n",
       "      <td>422.540009</td>\n",
       "      <td>28.650000</td>\n",
       "      <td>198.699997</td>\n",
       "      <td>...</td>\n",
       "      <td>86.356514</td>\n",
       "      <td>95.690002</td>\n",
       "      <td>29.959999</td>\n",
       "      <td>237.289993</td>\n",
       "      <td>164.300003</td>\n",
       "      <td>147.350006</td>\n",
       "      <td>56.529999</td>\n",
       "      <td>49.799999</td>\n",
       "      <td>97.067703</td>\n",
       "      <td>79.010002</td>\n",
       "    </tr>\n",
       "    <tr>\n",
       "      <th>2019-03-11</th>\n",
       "      <td>178.899994</td>\n",
       "      <td>78.080002</td>\n",
       "      <td>77.809998</td>\n",
       "      <td>260.959991</td>\n",
       "      <td>184.139999</td>\n",
       "      <td>1670.619995</td>\n",
       "      <td>266.677826</td>\n",
       "      <td>400.010010</td>\n",
       "      <td>28.940001</td>\n",
       "      <td>202.089996</td>\n",
       "      <td>...</td>\n",
       "      <td>88.124130</td>\n",
       "      <td>97.449997</td>\n",
       "      <td>30.219999</td>\n",
       "      <td>243.149994</td>\n",
       "      <td>165.600006</td>\n",
       "      <td>150.669998</td>\n",
       "      <td>57.580002</td>\n",
       "      <td>49.759998</td>\n",
       "      <td>97.952950</td>\n",
       "      <td>79.779999</td>\n",
       "    </tr>\n",
       "    <tr>\n",
       "      <th>2019-03-12</th>\n",
       "      <td>180.910004</td>\n",
       "      <td>78.739998</td>\n",
       "      <td>78.239998</td>\n",
       "      <td>263.510010</td>\n",
       "      <td>184.179993</td>\n",
       "      <td>1673.099976</td>\n",
       "      <td>267.242798</td>\n",
       "      <td>375.410004</td>\n",
       "      <td>28.940001</td>\n",
       "      <td>202.500000</td>\n",
       "      <td>...</td>\n",
       "      <td>87.689636</td>\n",
       "      <td>97.500000</td>\n",
       "      <td>30.629999</td>\n",
       "      <td>245.880005</td>\n",
       "      <td>164.830002</td>\n",
       "      <td>151.729996</td>\n",
       "      <td>57.430000</td>\n",
       "      <td>49.650002</td>\n",
       "      <td>97.843536</td>\n",
       "      <td>80.000000</td>\n",
       "    </tr>\n",
       "    <tr>\n",
       "      <th>2019-03-13</th>\n",
       "      <td>181.710007</td>\n",
       "      <td>78.930000</td>\n",
       "      <td>78.620003</td>\n",
       "      <td>264.380005</td>\n",
       "      <td>187.350006</td>\n",
       "      <td>1690.810059</td>\n",
       "      <td>268.808777</td>\n",
       "      <td>377.140015</td>\n",
       "      <td>29.290001</td>\n",
       "      <td>204.059998</td>\n",
       "      <td>...</td>\n",
       "      <td>88.380882</td>\n",
       "      <td>99.309998</td>\n",
       "      <td>30.280001</td>\n",
       "      <td>252.250000</td>\n",
       "      <td>166.830002</td>\n",
       "      <td>152.470001</td>\n",
       "      <td>57.660000</td>\n",
       "      <td>49.919998</td>\n",
       "      <td>98.500000</td>\n",
       "      <td>80.709999</td>\n",
       "    </tr>\n",
       "    <tr>\n",
       "      <th>2019-03-14</th>\n",
       "      <td>183.729996</td>\n",
       "      <td>79.949997</td>\n",
       "      <td>78.980003</td>\n",
       "      <td>267.690002</td>\n",
       "      <td>187.759995</td>\n",
       "      <td>1686.219971</td>\n",
       "      <td>265.825470</td>\n",
       "      <td>373.299988</td>\n",
       "      <td>29.459999</td>\n",
       "      <td>203.380005</td>\n",
       "      <td>...</td>\n",
       "      <td>88.667259</td>\n",
       "      <td>99.029999</td>\n",
       "      <td>30.280001</td>\n",
       "      <td>253.270004</td>\n",
       "      <td>165.169998</td>\n",
       "      <td>154.199997</td>\n",
       "      <td>57.950001</td>\n",
       "      <td>50.349998</td>\n",
       "      <td>98.220001</td>\n",
       "      <td>80.440002</td>\n",
       "    </tr>\n",
       "    <tr>\n",
       "      <th>2019-03-15</th>\n",
       "      <td>186.119995</td>\n",
       "      <td>81.339996</td>\n",
       "      <td>79.860001</td>\n",
       "      <td>257.089996</td>\n",
       "      <td>191.240005</td>\n",
       "      <td>1712.359985</td>\n",
       "      <td>287.719879</td>\n",
       "      <td>378.989990</td>\n",
       "      <td>29.299999</td>\n",
       "      <td>204.309998</td>\n",
       "      <td>...</td>\n",
       "      <td>89.714005</td>\n",
       "      <td>100.730003</td>\n",
       "      <td>30.670000</td>\n",
       "      <td>251.399994</td>\n",
       "      <td>165.000000</td>\n",
       "      <td>155.460007</td>\n",
       "      <td>58.389999</td>\n",
       "      <td>50.660000</td>\n",
       "      <td>98.419998</td>\n",
       "      <td>80.150002</td>\n",
       "    </tr>\n",
       "    <tr>\n",
       "      <th>2019-03-18</th>\n",
       "      <td>188.020004</td>\n",
       "      <td>80.650002</td>\n",
       "      <td>78.830002</td>\n",
       "      <td>257.760010</td>\n",
       "      <td>191.309998</td>\n",
       "      <td>1742.150024</td>\n",
       "      <td>291.238434</td>\n",
       "      <td>372.279999</td>\n",
       "      <td>29.820000</td>\n",
       "      <td>206.679993</td>\n",
       "      <td>...</td>\n",
       "      <td>89.595505</td>\n",
       "      <td>100.269997</td>\n",
       "      <td>30.799999</td>\n",
       "      <td>255.000000</td>\n",
       "      <td>166.240005</td>\n",
       "      <td>154.960007</td>\n",
       "      <td>58.070000</td>\n",
       "      <td>51.730000</td>\n",
       "      <td>99.660004</td>\n",
       "      <td>81.080002</td>\n",
       "    </tr>\n",
       "    <tr>\n",
       "      <th>2019-03-19</th>\n",
       "      <td>186.529999</td>\n",
       "      <td>80.820000</td>\n",
       "      <td>79.959999</td>\n",
       "      <td>260.420013</td>\n",
       "      <td>191.490005</td>\n",
       "      <td>1761.849976</td>\n",
       "      <td>296.660004</td>\n",
       "      <td>373.429993</td>\n",
       "      <td>29.650000</td>\n",
       "      <td>205.149994</td>\n",
       "      <td>...</td>\n",
       "      <td>89.368378</td>\n",
       "      <td>101.540001</td>\n",
       "      <td>30.680000</td>\n",
       "      <td>257.130005</td>\n",
       "      <td>160.750000</td>\n",
       "      <td>154.589996</td>\n",
       "      <td>57.500000</td>\n",
       "      <td>51.410000</td>\n",
       "      <td>99.849998</td>\n",
       "      <td>80.870003</td>\n",
       "    </tr>\n",
       "    <tr>\n",
       "      <th>2019-03-20</th>\n",
       "      <td>188.160004</td>\n",
       "      <td>80.430000</td>\n",
       "      <td>79.940002</td>\n",
       "      <td>259.739990</td>\n",
       "      <td>191.119995</td>\n",
       "      <td>1797.270020</td>\n",
       "      <td>291.029999</td>\n",
       "      <td>376.160004</td>\n",
       "      <td>28.639999</td>\n",
       "      <td>203.270004</td>\n",
       "      <td>...</td>\n",
       "      <td>89.605377</td>\n",
       "      <td>102.309998</td>\n",
       "      <td>30.510000</td>\n",
       "      <td>250.500000</td>\n",
       "      <td>161.000000</td>\n",
       "      <td>153.750000</td>\n",
       "      <td>57.669998</td>\n",
       "      <td>50.400002</td>\n",
       "      <td>98.639999</td>\n",
       "      <td>81.320000</td>\n",
       "    </tr>\n",
       "    <tr>\n",
       "      <th>2019-03-21</th>\n",
       "      <td>195.089996</td>\n",
       "      <td>81.239998</td>\n",
       "      <td>80.059998</td>\n",
       "      <td>264.179993</td>\n",
       "      <td>191.889999</td>\n",
       "      <td>1819.260010</td>\n",
       "      <td>296.799988</td>\n",
       "      <td>372.700012</td>\n",
       "      <td>28.180000</td>\n",
       "      <td>204.429993</td>\n",
       "      <td>...</td>\n",
       "      <td>90.760750</td>\n",
       "      <td>104.150002</td>\n",
       "      <td>31.059999</td>\n",
       "      <td>252.020004</td>\n",
       "      <td>162.610001</td>\n",
       "      <td>155.800003</td>\n",
       "      <td>58.290001</td>\n",
       "      <td>49.860001</td>\n",
       "      <td>99.059998</td>\n",
       "      <td>81.790001</td>\n",
       "    </tr>\n",
       "    <tr>\n",
       "      <th>2019-03-22</th>\n",
       "      <td>191.050003</td>\n",
       "      <td>79.760002</td>\n",
       "      <td>77.970001</td>\n",
       "      <td>259.690002</td>\n",
       "      <td>186.699997</td>\n",
       "      <td>1764.770020</td>\n",
       "      <td>292.649994</td>\n",
       "      <td>362.170013</td>\n",
       "      <td>27.010000</td>\n",
       "      <td>200.550003</td>\n",
       "      <td>...</td>\n",
       "      <td>90.029999</td>\n",
       "      <td>101.269997</td>\n",
       "      <td>31.070000</td>\n",
       "      <td>247.089996</td>\n",
       "      <td>160.619995</td>\n",
       "      <td>153.070007</td>\n",
       "      <td>59.759998</td>\n",
       "      <td>48.310001</td>\n",
       "      <td>98.279999</td>\n",
       "      <td>80.480003</td>\n",
       "    </tr>\n",
       "    <tr>\n",
       "      <th>2019-03-25</th>\n",
       "      <td>188.740005</td>\n",
       "      <td>79.510002</td>\n",
       "      <td>78.230003</td>\n",
       "      <td>262.269989</td>\n",
       "      <td>186.589996</td>\n",
       "      <td>1774.260010</td>\n",
       "      <td>292.160004</td>\n",
       "      <td>370.459991</td>\n",
       "      <td>26.840000</td>\n",
       "      <td>199.440002</td>\n",
       "      <td>...</td>\n",
       "      <td>88.269997</td>\n",
       "      <td>101.550003</td>\n",
       "      <td>30.770000</td>\n",
       "      <td>246.860001</td>\n",
       "      <td>161.500000</td>\n",
       "      <td>153.029999</td>\n",
       "      <td>60.080002</td>\n",
       "      <td>48.080002</td>\n",
       "      <td>98.169998</td>\n",
       "      <td>79.919998</td>\n",
       "    </tr>\n",
       "    <tr>\n",
       "      <th>2019-03-26</th>\n",
       "      <td>186.789993</td>\n",
       "      <td>80.760002</td>\n",
       "      <td>79.000000</td>\n",
       "      <td>265.589996</td>\n",
       "      <td>188.270004</td>\n",
       "      <td>1783.760010</td>\n",
       "      <td>297.029999</td>\n",
       "      <td>370.380005</td>\n",
       "      <td>27.209999</td>\n",
       "      <td>200.619995</td>\n",
       "      <td>...</td>\n",
       "      <td>88.589996</td>\n",
       "      <td>103.150002</td>\n",
       "      <td>31.389999</td>\n",
       "      <td>243.389999</td>\n",
       "      <td>161.809998</td>\n",
       "      <td>155.300003</td>\n",
       "      <td>60.630001</td>\n",
       "      <td>49.009998</td>\n",
       "      <td>98.320000</td>\n",
       "      <td>80.959999</td>\n",
       "    </tr>\n",
       "    <tr>\n",
       "      <th>2019-03-27</th>\n",
       "      <td>187.985001</td>\n",
       "      <td>80.129997</td>\n",
       "      <td>78.410004</td>\n",
       "      <td>261.299988</td>\n",
       "      <td>186.250000</td>\n",
       "      <td>1759.194946</td>\n",
       "      <td>293.239990</td>\n",
       "      <td>368.130005</td>\n",
       "      <td>27.110001</td>\n",
       "      <td>198.970001</td>\n",
       "      <td>...</td>\n",
       "      <td>86.520798</td>\n",
       "      <td>102.559998</td>\n",
       "      <td>31.500000</td>\n",
       "      <td>240.414993</td>\n",
       "      <td>162.610001</td>\n",
       "      <td>154.029999</td>\n",
       "      <td>60.779999</td>\n",
       "      <td>48.740002</td>\n",
       "      <td>97.220001</td>\n",
       "      <td>80.315002</td>\n",
       "    </tr>\n",
       "  </tbody>\n",
       "</table>\n",
       "<p>19 rows × 49 columns</p>\n",
       "</div>"
      ],
      "text/plain": [
       "                  AAPL       ABBV        ABT        ADBE        AMGN  \\\n",
       "Date                                                                   \n",
       "2019-03-01  174.970001  80.099998  78.589996  264.010010  191.160004   \n",
       "2019-03-04  175.850006  79.459999  78.620003  258.160004  189.779999   \n",
       "2019-03-05  175.529999  78.910004  78.220001  257.380005  188.820007   \n",
       "2019-03-06  174.520004  78.089996  77.699997  256.399994  183.149994   \n",
       "2019-03-07  172.500000  78.239998  76.800003  255.460007  181.460007   \n",
       "2019-03-08  172.910004  77.580002  76.629997  254.740005  180.869995   \n",
       "2019-03-11  178.899994  78.080002  77.809998  260.959991  184.139999   \n",
       "2019-03-12  180.910004  78.739998  78.239998  263.510010  184.179993   \n",
       "2019-03-13  181.710007  78.930000  78.620003  264.380005  187.350006   \n",
       "2019-03-14  183.729996  79.949997  78.980003  267.690002  187.759995   \n",
       "2019-03-15  186.119995  81.339996  79.860001  257.089996  191.240005   \n",
       "2019-03-18  188.020004  80.650002  78.830002  257.760010  191.309998   \n",
       "2019-03-19  186.529999  80.820000  79.959999  260.420013  191.490005   \n",
       "2019-03-20  188.160004  80.430000  79.940002  259.739990  191.119995   \n",
       "2019-03-21  195.089996  81.239998  80.059998  264.179993  191.889999   \n",
       "2019-03-22  191.050003  79.760002  77.970001  259.690002  186.699997   \n",
       "2019-03-25  188.740005  79.510002  78.230003  262.269989  186.589996   \n",
       "2019-03-26  186.789993  80.760002  79.000000  265.589996  188.270004   \n",
       "2019-03-27  187.985001  80.129997  78.410004  261.299988  186.250000   \n",
       "\n",
       "                   AMZN        AVGO          BA        BAC       BRK-B  \\\n",
       "Date                                                                     \n",
       "2019-03-01  1671.729980  270.335175  440.619995  29.309999  203.130005   \n",
       "2019-03-04  1696.170044  272.456238  432.690002  29.030001  201.809998   \n",
       "2019-03-05  1692.430054  274.557465  430.119995  29.080000  201.470001   \n",
       "2019-03-06  1668.949951  268.947571  424.459991  28.840000  200.669998   \n",
       "2019-03-07  1625.949951  263.159271  422.559998  28.549999  199.300003   \n",
       "2019-03-08  1620.800049  261.850952  422.540009  28.650000  198.699997   \n",
       "2019-03-11  1670.619995  266.677826  400.010010  28.940001  202.089996   \n",
       "2019-03-12  1673.099976  267.242798  375.410004  28.940001  202.500000   \n",
       "2019-03-13  1690.810059  268.808777  377.140015  29.290001  204.059998   \n",
       "2019-03-14  1686.219971  265.825470  373.299988  29.459999  203.380005   \n",
       "2019-03-15  1712.359985  287.719879  378.989990  29.299999  204.309998   \n",
       "2019-03-18  1742.150024  291.238434  372.279999  29.820000  206.679993   \n",
       "2019-03-19  1761.849976  296.660004  373.429993  29.650000  205.149994   \n",
       "2019-03-20  1797.270020  291.029999  376.160004  28.639999  203.270004   \n",
       "2019-03-21  1819.260010  296.799988  372.700012  28.180000  204.429993   \n",
       "2019-03-22  1764.770020  292.649994  362.170013  27.010000  200.550003   \n",
       "2019-03-25  1774.260010  292.160004  370.459991  26.840000  199.440002   \n",
       "2019-03-26  1783.760010  297.029999  370.380005  27.209999  200.619995   \n",
       "2019-03-27  1759.194946  293.239990  368.130005  27.110001  198.970001   \n",
       "\n",
       "              ...             PM        PYPL          T         UNH  \\\n",
       "Date          ...                                                     \n",
       "2019-03-01    ...      86.415771   98.800003  30.820000  245.214050   \n",
       "2019-03-04    ...      86.188644   96.570000  29.980000  235.122589   \n",
       "2019-03-05    ...      85.892395   96.529999  29.950001  240.512009   \n",
       "2019-03-06    ...      85.931892   96.459999  29.809999  238.160995   \n",
       "2019-03-07    ...      85.882523   96.209999  29.920000  235.799988   \n",
       "2019-03-08    ...      86.356514   95.690002  29.959999  237.289993   \n",
       "2019-03-11    ...      88.124130   97.449997  30.219999  243.149994   \n",
       "2019-03-12    ...      87.689636   97.500000  30.629999  245.880005   \n",
       "2019-03-13    ...      88.380882   99.309998  30.280001  252.250000   \n",
       "2019-03-14    ...      88.667259   99.029999  30.280001  253.270004   \n",
       "2019-03-15    ...      89.714005  100.730003  30.670000  251.399994   \n",
       "2019-03-18    ...      89.595505  100.269997  30.799999  255.000000   \n",
       "2019-03-19    ...      89.368378  101.540001  30.680000  257.130005   \n",
       "2019-03-20    ...      89.605377  102.309998  30.510000  250.500000   \n",
       "2019-03-21    ...      90.760750  104.150002  31.059999  252.020004   \n",
       "2019-03-22    ...      90.029999  101.269997  31.070000  247.089996   \n",
       "2019-03-25    ...      88.269997  101.550003  30.770000  246.860001   \n",
       "2019-03-26    ...      88.589996  103.150002  31.389999  243.389999   \n",
       "2019-03-27    ...      86.520798  102.559998  31.500000  240.414993   \n",
       "\n",
       "                   UNP           V         VZ        WFC        WMT        XOM  \n",
       "Date                                                                            \n",
       "2019-03-01  167.440002  149.470001  56.959999  50.029999  97.405891  80.000000  \n",
       "2019-03-04  167.369995  147.960007  56.240002  50.110001  97.326317  80.309998  \n",
       "2019-03-05  166.779999  147.949997  56.080002  49.889999  97.813690  80.190002  \n",
       "2019-03-06  165.910004  147.809998  55.680000  49.820000  97.734123  79.279999  \n",
       "2019-03-07  164.940002  146.830002  56.299999  49.680000  96.928452  80.160004  \n",
       "2019-03-08  164.300003  147.350006  56.529999  49.799999  97.067703  79.010002  \n",
       "2019-03-11  165.600006  150.669998  57.580002  49.759998  97.952950  79.779999  \n",
       "2019-03-12  164.830002  151.729996  57.430000  49.650002  97.843536  80.000000  \n",
       "2019-03-13  166.830002  152.470001  57.660000  49.919998  98.500000  80.709999  \n",
       "2019-03-14  165.169998  154.199997  57.950001  50.349998  98.220001  80.440002  \n",
       "2019-03-15  165.000000  155.460007  58.389999  50.660000  98.419998  80.150002  \n",
       "2019-03-18  166.240005  154.960007  58.070000  51.730000  99.660004  81.080002  \n",
       "2019-03-19  160.750000  154.589996  57.500000  51.410000  99.849998  80.870003  \n",
       "2019-03-20  161.000000  153.750000  57.669998  50.400002  98.639999  81.320000  \n",
       "2019-03-21  162.610001  155.800003  58.290001  49.860001  99.059998  81.790001  \n",
       "2019-03-22  160.619995  153.070007  59.759998  48.310001  98.279999  80.480003  \n",
       "2019-03-25  161.500000  153.029999  60.080002  48.080002  98.169998  79.919998  \n",
       "2019-03-26  161.809998  155.300003  60.630001  49.009998  98.320000  80.959999  \n",
       "2019-03-27  162.610001  154.029999  60.779999  48.740002  97.220001  80.315002  \n",
       "\n",
       "[19 rows x 49 columns]"
      ]
     },
     "execution_count": 38,
     "metadata": {},
     "output_type": "execute_result"
    }
   ],
   "source": [
    "complete_panel_data.loc[complete_panel_data.index]['Adj Close']"
   ]
  },
  {
   "cell_type": "code",
   "execution_count": 79,
   "metadata": {},
   "outputs": [],
   "source": [
    "#complete_panel_data.to_csv('panel_data')"
   ]
  },
  {
   "cell_type": "code",
   "execution_count": null,
   "metadata": {},
   "outputs": [],
   "source": []
  }
 ],
 "metadata": {
  "kernelspec": {
   "display_name": "Python 3",
   "language": "python",
   "name": "python3"
  },
  "language_info": {
   "codemirror_mode": {
    "name": "ipython",
    "version": 3
   },
   "file_extension": ".py",
   "mimetype": "text/x-python",
   "name": "python",
   "nbconvert_exporter": "python",
   "pygments_lexer": "ipython3",
   "version": "3.6.5"
  }
 },
 "nbformat": 4,
 "nbformat_minor": 2
}
