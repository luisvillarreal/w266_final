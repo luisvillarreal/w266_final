{
 "cells": [
  {
   "cell_type": "code",
   "execution_count": 1,
   "metadata": {},
   "outputs": [],
   "source": [
    "import numpy as np\n",
    "import pandas as pd\n",
    "import os"
   ]
  },
  {
   "cell_type": "code",
   "execution_count": 2,
   "metadata": {},
   "outputs": [],
   "source": [
    "files = []\n",
    "for file in os.listdir('data'):\n",
    "    if file.endswith('.csv'):\n",
    "        files.append(os.path.join('data', file))"
   ]
  },
  {
   "cell_type": "code",
   "execution_count": 3,
   "metadata": {},
   "outputs": [],
   "source": [
    "data = []\n",
    "\n",
    "for filename in files:\n",
    "    \n",
    "    \n",
    "    with open(filename, 'r') as file:\n",
    "        ticker = filename.split('_')[-1][:-4]\n",
    "        line = file.readline()\n",
    "        line = file.readline()\n",
    "        while(line):\n",
    "            ts =line.split(';\"')[0][1:].split(';')[0]\n",
    "            tweet = line.split(';\"')[1].split('\";')[0]\n",
    "            line=file.readline()\n",
    "            data.append([ticker,ts,tweet])\n",
    "        \n",
    "    \n",
    "df = pd.DataFrame(data, columns=['ticker','timestamp','tweet'])\n",
    "#df"
   ]
  },
  {
   "cell_type": "code",
   "execution_count": 9,
   "metadata": {},
   "outputs": [
    {
     "name": "stdout",
     "output_type": "stream",
     "text": [
      "<class 'pandas.core.frame.DataFrame'>\n",
      "RangeIndex: 155011 entries, 0 to 155010\n",
      "Data columns (total 3 columns):\n",
      "ticker       155011 non-null object\n",
      "timestamp    155011 non-null object\n",
      "tweet        155011 non-null object\n",
      "dtypes: object(3)\n",
      "memory usage: 3.5+ MB\n"
     ]
    }
   ],
   "source": [
    "df.info()"
   ]
  },
  {
   "cell_type": "code",
   "execution_count": 10,
   "metadata": {},
   "outputs": [],
   "source": [
    "from vaderSentiment.vaderSentiment import SentimentIntensityAnalyzer"
   ]
  },
  {
   "cell_type": "code",
   "execution_count": 30,
   "metadata": {},
   "outputs": [],
   "source": [
    "analyzer = SentimentIntensityAnalyzer()\n",
    "for tweet in df['tweet']:\n",
    "    vs = analyzer.polarity_scores(tweet)\n",
    "    vs_val = list(vs.values())\n",
    "    df['neg'] = vs_val[0]\n",
    "    df['neu'] = vs_val[1]\n",
    "    df['pos'] = vs_val[2]\n",
    "    df['compound'] = vs_val[3]"
   ]
  },
  {
   "cell_type": "code",
   "execution_count": 31,
   "metadata": {},
   "outputs": [
    {
     "data": {
      "text/html": [
       "<div>\n",
       "<style scoped>\n",
       "    .dataframe tbody tr th:only-of-type {\n",
       "        vertical-align: middle;\n",
       "    }\n",
       "\n",
       "    .dataframe tbody tr th {\n",
       "        vertical-align: top;\n",
       "    }\n",
       "\n",
       "    .dataframe thead th {\n",
       "        text-align: right;\n",
       "    }\n",
       "</style>\n",
       "<table border=\"1\" class=\"dataframe\">\n",
       "  <thead>\n",
       "    <tr style=\"text-align: right;\">\n",
       "      <th></th>\n",
       "      <th>ticker</th>\n",
       "      <th>timestamp</th>\n",
       "      <th>tweet</th>\n",
       "      <th>neg</th>\n",
       "      <th>neu</th>\n",
       "      <th>pos</th>\n",
       "      <th>compound</th>\n",
       "    </tr>\n",
       "  </thead>\n",
       "  <tbody>\n",
       "    <tr>\n",
       "      <th>0</th>\n",
       "      <td>INTC</td>\n",
       "      <td>2019-03-21 23:29</td>\n",
       "      <td>$ AAPL $ TRV $ MSFT $ HD $ DWDP $ INTC $ NKE $...</td>\n",
       "      <td>0.046</td>\n",
       "      <td>0.954</td>\n",
       "      <td>0.0</td>\n",
       "      <td>-0.3034</td>\n",
       "    </tr>\n",
       "    <tr>\n",
       "      <th>1</th>\n",
       "      <td>INTC</td>\n",
       "      <td>2019-03-21 23:25</td>\n",
       "      <td>$ INTC Intel - Q3 2019 Intel Corporation Earni...</td>\n",
       "      <td>0.046</td>\n",
       "      <td>0.954</td>\n",
       "      <td>0.0</td>\n",
       "      <td>-0.3034</td>\n",
       "    </tr>\n",
       "    <tr>\n",
       "      <th>2</th>\n",
       "      <td>INTC</td>\n",
       "      <td>2019-03-21 23:25</td>\n",
       "      <td>$ INTC # Intel # Intelligence # ImplementingCl...</td>\n",
       "      <td>0.046</td>\n",
       "      <td>0.954</td>\n",
       "      <td>0.0</td>\n",
       "      <td>-0.3034</td>\n",
       "    </tr>\n",
       "    <tr>\n",
       "      <th>3</th>\n",
       "      <td>INTC</td>\n",
       "      <td>2019-03-21 23:25</td>\n",
       "      <td>$ INTC Intel - Q2 2019 Intel Corporation Earni...</td>\n",
       "      <td>0.046</td>\n",
       "      <td>0.954</td>\n",
       "      <td>0.0</td>\n",
       "      <td>-0.3034</td>\n",
       "    </tr>\n",
       "    <tr>\n",
       "      <th>4</th>\n",
       "      <td>INTC</td>\n",
       "      <td>2019-03-21 23:24</td>\n",
       "      <td>$ INTC Intel - Q1 2019 Intel Corporation Earni...</td>\n",
       "      <td>0.046</td>\n",
       "      <td>0.954</td>\n",
       "      <td>0.0</td>\n",
       "      <td>-0.3034</td>\n",
       "    </tr>\n",
       "  </tbody>\n",
       "</table>\n",
       "</div>"
      ],
      "text/plain": [
       "  ticker         timestamp                                              tweet  \\\n",
       "0   INTC  2019-03-21 23:29  $ AAPL $ TRV $ MSFT $ HD $ DWDP $ INTC $ NKE $...   \n",
       "1   INTC  2019-03-21 23:25  $ INTC Intel - Q3 2019 Intel Corporation Earni...   \n",
       "2   INTC  2019-03-21 23:25  $ INTC # Intel # Intelligence # ImplementingCl...   \n",
       "3   INTC  2019-03-21 23:25  $ INTC Intel - Q2 2019 Intel Corporation Earni...   \n",
       "4   INTC  2019-03-21 23:24  $ INTC Intel - Q1 2019 Intel Corporation Earni...   \n",
       "\n",
       "     neg    neu  pos  compound  \n",
       "0  0.046  0.954  0.0   -0.3034  \n",
       "1  0.046  0.954  0.0   -0.3034  \n",
       "2  0.046  0.954  0.0   -0.3034  \n",
       "3  0.046  0.954  0.0   -0.3034  \n",
       "4  0.046  0.954  0.0   -0.3034  "
      ]
     },
     "execution_count": 31,
     "metadata": {},
     "output_type": "execute_result"
    }
   ],
   "source": [
    "df.head()"
   ]
  },
  {
   "cell_type": "code",
   "execution_count": 37,
   "metadata": {},
   "outputs": [],
   "source": [
    "df['timestamp'] = pd.to_datetime(df['timestamp'], infer_datetime_format=True)"
   ]
  },
  {
   "cell_type": "code",
   "execution_count": 47,
   "metadata": {},
   "outputs": [],
   "source": [
    "df['day_name'] = df['timestamp'].map(lambda x: x.day_name())\n",
    "df['day'] = df['timestamp'].map(lambda x: x.day)\n",
    "df['day_of_week'] = df['timestamp'].map(lambda x: x.dayofweek)"
   ]
  },
  {
   "cell_type": "code",
   "execution_count": 53,
   "metadata": {},
   "outputs": [],
   "source": [
    "df.to_csv('tweets_with_sentiment.csv')"
   ]
  },
  {
   "cell_type": "code",
   "execution_count": null,
   "metadata": {},
   "outputs": [],
   "source": []
  }
 ],
 "metadata": {
  "kernelspec": {
   "display_name": "Python 3",
   "language": "python",
   "name": "python3"
  },
  "language_info": {
   "codemirror_mode": {
    "name": "ipython",
    "version": 3
   },
   "file_extension": ".py",
   "mimetype": "text/x-python",
   "name": "python",
   "nbconvert_exporter": "python",
   "pygments_lexer": "ipython3",
   "version": "3.6.5"
  }
 },
 "nbformat": 4,
 "nbformat_minor": 2
}
