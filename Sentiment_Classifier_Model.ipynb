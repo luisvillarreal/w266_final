{
 "cells": [
  {
   "cell_type": "markdown",
   "metadata": {},
   "source": [
    "# 0. Importing the Libraries"
   ]
  },
  {
   "cell_type": "code",
   "execution_count": 1,
   "metadata": {},
   "outputs": [
    {
     "name": "stderr",
     "output_type": "stream",
     "text": [
      "/home/s_hamdani/anaconda3/lib/python3.6/site-packages/h5py/__init__.py:36: FutureWarning: Conversion of the second argument of issubdtype from `float` to `np.floating` is deprecated. In future, it will be treated as `np.float64 == np.dtype(float).type`.\n",
      "  from ._conv import register_converters as _register_converters\n"
     ]
    }
   ],
   "source": [
    "import os\n",
    "import numpy as np\n",
    "import pandas as pd\n",
    "import matplotlib.pyplot as plt\n",
    "import os, sys, re, json, time\n",
    "import itertools, collections\n",
    "from importlib import reload\n",
    "from IPython.display import display\n",
    "import scipy.sparse\n",
    "import nltk\n",
    "from w266_common import utils, vocabulary, tf_embed_viz"
   ]
  },
  {
   "cell_type": "markdown",
   "metadata": {},
   "source": [
    "# 1. Getting Data"
   ]
  },
  {
   "cell_type": "code",
   "execution_count": 2,
   "metadata": {},
   "outputs": [],
   "source": [
    "combined_df = pd.read_csv('clean_tweets.csv')"
   ]
  },
  {
   "cell_type": "code",
   "execution_count": 3,
   "metadata": {},
   "outputs": [],
   "source": [
    "# getting the timestamp column in proper format\n",
    "combined_df['timestamp'] = pd.to_datetime(combined_df['timestamp'], infer_datetime_format=True)"
   ]
  },
  {
   "cell_type": "code",
   "execution_count": 4,
   "metadata": {},
   "outputs": [],
   "source": [
    "# extracting date from timestamp\n",
    "combined_df['date'] = combined_df['timestamp'].map(lambda x:x.date())"
   ]
  },
  {
   "cell_type": "markdown",
   "metadata": {},
   "source": [
    "We only want data from 4th March, 2019 onwards. This is the period we have chosen to explore."
   ]
  },
  {
   "cell_type": "code",
   "execution_count": 5,
   "metadata": {},
   "outputs": [],
   "source": [
    "combined_df = combined_df[combined_df['date'] >= pd.to_datetime('2019-03-04').date()]"
   ]
  },
  {
   "cell_type": "code",
   "execution_count": 6,
   "metadata": {},
   "outputs": [
    {
     "data": {
      "text/html": [
       "<div>\n",
       "<style scoped>\n",
       "    .dataframe tbody tr th:only-of-type {\n",
       "        vertical-align: middle;\n",
       "    }\n",
       "\n",
       "    .dataframe tbody tr th {\n",
       "        vertical-align: top;\n",
       "    }\n",
       "\n",
       "    .dataframe thead th {\n",
       "        text-align: right;\n",
       "    }\n",
       "</style>\n",
       "<table border=\"1\" class=\"dataframe\">\n",
       "  <thead>\n",
       "    <tr style=\"text-align: right;\">\n",
       "      <th></th>\n",
       "      <th>tweet_id</th>\n",
       "      <th>ticker</th>\n",
       "      <th>timestamp</th>\n",
       "      <th>tweet</th>\n",
       "      <th>date</th>\n",
       "    </tr>\n",
       "  </thead>\n",
       "  <tbody>\n",
       "    <tr>\n",
       "      <th>0</th>\n",
       "      <td>1105519541147262976</td>\n",
       "      <td>C</td>\n",
       "      <td>2019-03-12 17:22:00</td>\n",
       "      <td>&lt;s&gt;  c  the only big bank i buy  &lt;/s&gt;</td>\n",
       "      <td>2019-03-12</td>\n",
       "    </tr>\n",
       "    <tr>\n",
       "      <th>1</th>\n",
       "      <td>1105519387367227393</td>\n",
       "      <td>C</td>\n",
       "      <td>2019-03-12 17:22:00</td>\n",
       "      <td>&lt;s&gt; on the density of  &lt;/s&gt;</td>\n",
       "      <td>2019-03-12</td>\n",
       "    </tr>\n",
       "    <tr>\n",
       "      <th>2</th>\n",
       "      <td>1105517203074371584</td>\n",
       "      <td>C</td>\n",
       "      <td>2019-03-12 17:13:00</td>\n",
       "      <td>&lt;s&gt; ucla is the of  c is so good at spinning a...</td>\n",
       "      <td>2019-03-12</td>\n",
       "    </tr>\n",
       "    <tr>\n",
       "      <th>3</th>\n",
       "      <td>1105288514155929601</td>\n",
       "      <td>C</td>\n",
       "      <td>2019-03-12 02:04:00</td>\n",
       "      <td>&lt;s&gt; &lt; &lt;/s&gt;</td>\n",
       "      <td>2019-03-12</td>\n",
       "    </tr>\n",
       "    <tr>\n",
       "      <th>4</th>\n",
       "      <td>1104039312251858945</td>\n",
       "      <td>DWDP</td>\n",
       "      <td>2019-03-08 15:20:00</td>\n",
       "      <td>&lt;s&gt; in inc  after decline in shorted  &lt;/s&gt;</td>\n",
       "      <td>2019-03-08</td>\n",
       "    </tr>\n",
       "  </tbody>\n",
       "</table>\n",
       "</div>"
      ],
      "text/plain": [
       "              tweet_id ticker           timestamp  \\\n",
       "0  1105519541147262976      C 2019-03-12 17:22:00   \n",
       "1  1105519387367227393      C 2019-03-12 17:22:00   \n",
       "2  1105517203074371584      C 2019-03-12 17:13:00   \n",
       "3  1105288514155929601      C 2019-03-12 02:04:00   \n",
       "4  1104039312251858945   DWDP 2019-03-08 15:20:00   \n",
       "\n",
       "                                               tweet        date  \n",
       "0              <s>  c  the only big bank i buy  </s>  2019-03-12  \n",
       "1                        <s> on the density of  </s>  2019-03-12  \n",
       "2  <s> ucla is the of  c is so good at spinning a...  2019-03-12  \n",
       "3                                         <s> < </s>  2019-03-12  \n",
       "4         <s> in inc  after decline in shorted  </s>  2019-03-08  "
      ]
     },
     "execution_count": 6,
     "metadata": {},
     "output_type": "execute_result"
    }
   ],
   "source": [
    "combined_df.head()"
   ]
  },
  {
   "cell_type": "code",
   "execution_count": 7,
   "metadata": {},
   "outputs": [
    {
     "data": {
      "text/plain": [
       "(2572925, 5)"
      ]
     },
     "execution_count": 7,
     "metadata": {},
     "output_type": "execute_result"
    }
   ],
   "source": [
    "combined_df.shape"
   ]
  },
  {
   "cell_type": "code",
   "execution_count": 8,
   "metadata": {},
   "outputs": [],
   "source": [
    "# removing all the duplicate tweets\n",
    "combined_df.drop_duplicates(inplace=True)"
   ]
  },
  {
   "cell_type": "code",
   "execution_count": 9,
   "metadata": {},
   "outputs": [
    {
     "data": {
      "text/plain": [
       "(2572925, 5)"
      ]
     },
     "execution_count": 9,
     "metadata": {},
     "output_type": "execute_result"
    }
   ],
   "source": [
    "combined_df.shape"
   ]
  },
  {
   "cell_type": "markdown",
   "metadata": {},
   "source": [
    "# 2. Adding Sentiment Score to Each Tweet"
   ]
  },
  {
   "cell_type": "markdown",
   "metadata": {},
   "source": [
    "For the sentiment score for our tweets, we decided to use 'vaderSentimentAnalyzer'. As per the definition from the creators:\n",
    "\n",
    "**VADER (Valence Aware Dictionary and sEntiment Reasoner) is a lexicon and rule-based sentiment analysis tool that is specifically attuned to sentiments expressed in social media, and works well on texts from other domains.**\n",
    "\n",
    "Since we are exclusively dealing with sentimenn analysis of social media messages (tweets, in our case), VADER seemed the appropriate choice. "
   ]
  },
  {
   "cell_type": "code",
   "execution_count": 10,
   "metadata": {},
   "outputs": [],
   "source": [
    "from vaderSentiment.vaderSentiment import SentimentIntensityAnalyzer"
   ]
  },
  {
   "cell_type": "code",
   "execution_count": 11,
   "metadata": {},
   "outputs": [],
   "source": [
    "# extracting sentiment score for each tweet\n",
    "# we are interested in only the compound polarity score\n",
    "# details about this number can be found in paper accompanying this notebook\n",
    "\n",
    "analyzer = SentimentIntensityAnalyzer()\n",
    "combined_df['compound'] = combined_df['tweet'].map(\n",
    "    lambda x: list(analyzer.polarity_scores(x).values())[3])"
   ]
  },
  {
   "cell_type": "code",
   "execution_count": 12,
   "metadata": {},
   "outputs": [],
   "source": [
    "# # extracting day_name, day, and day_of_week in case we need it for analysis\n",
    "# combined_df['day_name'] = combined_df['timestamp'].map(lambda x: x.day_name())\n",
    "# combined_df['day'] = combined_df['timestamp'].map(lambda x: x.day)\n",
    "# combined_df['day_of_week'] = combined_df['timestamp'].map(lambda x: x.dayofweek)"
   ]
  },
  {
   "cell_type": "code",
   "execution_count": 13,
   "metadata": {},
   "outputs": [],
   "source": [
    "#combined_df.to_csv('tweets_with_sentiment.csv')\n",
    "#combined_df = pd.read_csv('tweets_with_sentiment.csv', index_col=False)"
   ]
  },
  {
   "cell_type": "code",
   "execution_count": 14,
   "metadata": {},
   "outputs": [
    {
     "data": {
      "text/plain": [
       "(2572925, 6)"
      ]
     },
     "execution_count": 14,
     "metadata": {},
     "output_type": "execute_result"
    }
   ],
   "source": [
    "combined_df.shape"
   ]
  },
  {
   "cell_type": "code",
   "execution_count": 15,
   "metadata": {},
   "outputs": [],
   "source": [
    "combined_df.sort_values(by = 'compound', ascending=False, inplace=True)"
   ]
  },
  {
   "cell_type": "code",
   "execution_count": 16,
   "metadata": {},
   "outputs": [
    {
     "data": {
      "text/html": [
       "<div>\n",
       "<style scoped>\n",
       "    .dataframe tbody tr th:only-of-type {\n",
       "        vertical-align: middle;\n",
       "    }\n",
       "\n",
       "    .dataframe tbody tr th {\n",
       "        vertical-align: top;\n",
       "    }\n",
       "\n",
       "    .dataframe thead th {\n",
       "        text-align: right;\n",
       "    }\n",
       "</style>\n",
       "<table border=\"1\" class=\"dataframe\">\n",
       "  <thead>\n",
       "    <tr style=\"text-align: right;\">\n",
       "      <th></th>\n",
       "      <th>tweet_id</th>\n",
       "      <th>ticker</th>\n",
       "      <th>timestamp</th>\n",
       "      <th>tweet</th>\n",
       "      <th>date</th>\n",
       "      <th>compound</th>\n",
       "    </tr>\n",
       "  </thead>\n",
       "  <tbody>\n",
       "    <tr>\n",
       "      <th>2406314</th>\n",
       "      <td>1111066228028772353</td>\n",
       "      <td>MCD</td>\n",
       "      <td>2019-03-28 00:43:00</td>\n",
       "      <td>&lt;s&gt; seth rich seth rich seth rich seth rich se...</td>\n",
       "      <td>2019-03-28</td>\n",
       "      <td>0.9972</td>\n",
       "    </tr>\n",
       "    <tr>\n",
       "      <th>1560917</th>\n",
       "      <td>1108837319778406406</td>\n",
       "      <td>MSFT</td>\n",
       "      <td>2019-03-21 21:06:00</td>\n",
       "      <td>&lt;s&gt; pagar entre 100 y 180 euros al ao por un s...</td>\n",
       "      <td>2019-03-21</td>\n",
       "      <td>0.9944</td>\n",
       "    </tr>\n",
       "    <tr>\n",
       "      <th>2303789</th>\n",
       "      <td>1109127331610853379</td>\n",
       "      <td>V</td>\n",
       "      <td>2019-03-22 16:18:00</td>\n",
       "      <td>&lt;s&gt; charlize sky love i love you my life sky i...</td>\n",
       "      <td>2019-03-22</td>\n",
       "      <td>0.9923</td>\n",
       "    </tr>\n",
       "    <tr>\n",
       "      <th>2303839</th>\n",
       "      <td>1109126400894816258</td>\n",
       "      <td>V</td>\n",
       "      <td>2019-03-22 16:15:00</td>\n",
       "      <td>&lt;s&gt; charlize sky love i love you my life sky i...</td>\n",
       "      <td>2019-03-22</td>\n",
       "      <td>0.9923</td>\n",
       "    </tr>\n",
       "    <tr>\n",
       "      <th>1850356</th>\n",
       "      <td>1110920183894421505</td>\n",
       "      <td>INTC</td>\n",
       "      <td>2019-03-27 15:03:00</td>\n",
       "      <td>&lt;s&gt; apex legends is in apex and they have to b...</td>\n",
       "      <td>2019-03-27</td>\n",
       "      <td>0.9920</td>\n",
       "    </tr>\n",
       "  </tbody>\n",
       "</table>\n",
       "</div>"
      ],
      "text/plain": [
       "                    tweet_id ticker           timestamp  \\\n",
       "2406314  1111066228028772353    MCD 2019-03-28 00:43:00   \n",
       "1560917  1108837319778406406   MSFT 2019-03-21 21:06:00   \n",
       "2303789  1109127331610853379      V 2019-03-22 16:18:00   \n",
       "2303839  1109126400894816258      V 2019-03-22 16:15:00   \n",
       "1850356  1110920183894421505   INTC 2019-03-27 15:03:00   \n",
       "\n",
       "                                                     tweet        date  \\\n",
       "2406314  <s> seth rich seth rich seth rich seth rich se...  2019-03-28   \n",
       "1560917  <s> pagar entre 100 y 180 euros al ao por un s...  2019-03-21   \n",
       "2303789  <s> charlize sky love i love you my life sky i...  2019-03-22   \n",
       "2303839  <s> charlize sky love i love you my life sky i...  2019-03-22   \n",
       "1850356  <s> apex legends is in apex and they have to b...  2019-03-27   \n",
       "\n",
       "         compound  \n",
       "2406314    0.9972  \n",
       "1560917    0.9944  \n",
       "2303789    0.9923  \n",
       "2303839    0.9923  \n",
       "1850356    0.9920  "
      ]
     },
     "execution_count": 16,
     "metadata": {},
     "output_type": "execute_result"
    }
   ],
   "source": [
    "combined_df.head()"
   ]
  },
  {
   "cell_type": "markdown",
   "metadata": {},
   "source": [
    "## 2.1 Sample Tweets to Manually Ascertain Polarity Score Quality"
   ]
  },
  {
   "cell_type": "markdown",
   "metadata": {},
   "source": [
    "This portion is aimed at looking at few samples of tweets and manually see if the polarity scores sit well with the content of the tweet.\n",
    "We will look at all three cases: positive, neutral and negative example tweets."
   ]
  },
  {
   "cell_type": "markdown",
   "metadata": {},
   "source": [
    "#### 2.1.1 Positive Tweets"
   ]
  },
  {
   "cell_type": "code",
   "execution_count": 17,
   "metadata": {},
   "outputs": [
    {
     "name": "stdout",
     "output_type": "stream",
     "text": [
      "<s> seth rich seth rich seth rich seth rich seth rich seth rich seth rich seth rich seth rich seth rich seth rich seth rich seth rich seth rich seth rich seth rich seth rich seth rich seth rich seth rich </s>\n",
      "\n",
      "\n",
      "<s> pagar entre 100 y 180 euros al ao por un servicio de que de ser y encima va como la xd xd xd xd xd xd xd xd xd xd xd xd xd </s>\n",
      "\n",
      "\n",
      "<s> charlize sky love i love you my life sky i do not stop you from thinking love please my life i ask you with love heaven help me with the visa to be able to see the united states i love you i want to be with you love heaven please my name is jose luis noboa giler sky  </s>\n",
      "\n",
      "\n",
      "<s> charlize sky love i love you my life sky i do not stop you from thinking love please my life i ask you with love heaven help me with the visa to be able to see the united states i love you i want to be with you love heaven please my name is jose luis noboa giler  </s>\n",
      "\n",
      "\n",
      "<s> apex legends is in apex and they have to be at least one for a while but i wanna is it gonna was gonna a great time of year to join our clan join join me join join my clan clan today join us join me join us join clan join join me for join me in my clan clan please thank i </s>\n",
      "\n",
      "\n",
      "<s> im in tears  netflix fight me please please please pleas please please please please please please please please please please please i love motley crue please plead powder please please pleas please please please please pleases leale </s>\n",
      "\n",
      "\n",
      "<s> i have just come to the shocking conclusion that windows 7 is actually windows win 10  1 win 20  2 win 30  3 win 95  4 win 98  5 win me  6 win 2000  7 win xp  8 win vista  9 win 7  between this and the xbox i am convinced  microsoft </s>\n",
      "\n",
      "\n",
      "<s> queer eye in conversation okay but like thank you to these amazing humans who spread love and happiness and support to i seriously love how open they all beautiful people and the world needs more of them in the media </s>\n",
      "\n",
      "\n",
      "<s> charlize i love you sky soon have the visa love just have faith speeding up the process of my visa heaven i love you only help me with the letter of invitation love an agency of the united states is helping me with the visa heaven please love  </s>\n",
      "\n",
      "\n",
      "<s> charlize i love you sky soon have the visa love just have faith speeding up the process of my visa heaven i love you only help me with the letter of invitation love an agency of the united states is helping me with the visa heaven please love i  </s>\n",
      "\n",
      "\n"
     ]
    }
   ],
   "source": [
    "for row in combined_df.loc[combined_df['compound'] > 0.05]['tweet'][0:10]:\n",
    "    print(row)\n",
    "    print('\\n')"
   ]
  },
  {
   "cell_type": "markdown",
   "metadata": {},
   "source": [
    "#### 2.1.2 Negative Tweets"
   ]
  },
  {
   "cell_type": "code",
   "execution_count": 18,
   "metadata": {},
   "outputs": [
    {
     "name": "stdout",
     "output_type": "stream",
     "text": [
      "<s> i cant get over someone tweeting how some people survive the and how they would eat their pets okay come talk to me about become rabid after you can order a big mac at without fucking up ok </s>\n",
      "\n",
      "\n",
      "<s> netflix has never had such a great selection of movies impressed </s>\n",
      "\n",
      "\n",
      "<s> we know russia interfered in our election 4 we know everyone surrounding trump met  lied about we know trump took word over american we do not know why this president would do nothing about attacks on our nation by a foreign </s>\n",
      "\n",
      "\n",
      "<s> not so well no so </s>\n",
      "\n",
      "\n",
      "<s> but antitrust fears probably caused ibm not to demand exclusivity on original os for </s>\n",
      "\n",
      "\n",
      "<s> not one party is without conflict within and there are some calling for a general what will that it matter who is in all at if listen to the what is the </s>\n",
      "\n",
      "\n",
      "<s>  verizon this confirms that i will never use your maurice german should be applauded for his not suspended without shame on some rules should be broken if it means saving a  </s>\n",
      "\n",
      "\n",
      "<s> not kidding at all it would play so much on disney back then and we would all sing i went to listen to it because of your tweet and shocked to see it has over 200 million streams on spotify </s>\n",
      "\n",
      "\n",
      "<s> another day of linking roman abramovich to sell  please remember roman had his visa removed for the he is not allowed to work in the how is the man supposed to run his club when not legally allowed this is why our club is such a no </s>\n",
      "\n",
      "\n",
      "<s> how did this boehner made nunes chairman of in jan no fan of but not an nunes crazy enough that anyone put him on the committee in the first no intel a cow how did this </s>\n",
      "\n",
      "\n"
     ]
    }
   ],
   "source": [
    "for row in combined_df.loc[combined_df['compound'] <= -0.05]['tweet'][0:10]:\n",
    "    print(row)\n",
    "    print('\\n')"
   ]
  },
  {
   "cell_type": "markdown",
   "metadata": {},
   "source": [
    "#### 2.1.3 Neutral Tweets"
   ]
  },
  {
   "cell_type": "code",
   "execution_count": 19,
   "metadata": {},
   "outputs": [
    {
     "name": "stdout",
     "output_type": "stream",
     "text": [
      "<s> i fully agree with at the the plane is not safe to fly canada just grounded the but i know that in the when the fix is put out for the system bug that may be causing these i will fly on the that the predecessor to </s>\n",
      "\n",
      "\n",
      "<s> that is the reason of people are now looking hard at that particular approving the as the same type was financially very advantageous to of as they can advertise no pilot type ratings are </s>\n",
      "\n",
      "\n",
      "<s> really glad that this walmart is less then a minute away from my house cause i bought the wrong epoxy </s>\n",
      "\n",
      "\n",
      "<s>  due to weaknesses in the sha1 algorithm and to align to industry standards microsoft will only sign windows updates using the more secure algorithm </s>\n",
      "\n",
      "\n",
      "<s> a family with a  member working in  ireland refused is new zealand really a tolerant  </s>\n",
      "\n",
      "\n",
      "<s> my fatal flaw is thoroughly enjoying the reputation stadium tour movie on netflix </s>\n",
      "\n",
      "\n",
      "<s> the drugmaker eli lilly will begin selling a cheaper version of its most popular in an effort to head off criticism about the rising costs of prescription read more   jdrf  </s>\n",
      "\n",
      "\n",
      "<s> you asked me if i had seen the original dumbo and i said no i again said that i really want disney at all growing the time difference between the films got to do with if you were trying to make a point with that i guess i missed </s>\n",
      "\n",
      "\n",
      "<s> said it once and say it club de cuervos is one of the top 3 netflix shit is fucking hilarious  </s>\n",
      "\n",
      "\n",
      "<s> justin t green writes that the recent crashes of two boeing 737 max 8 airplanes demonstrate that aviation would be even safer if the faa acted more swiftly and decisively after an airline disaster to jussie smollett   </s>\n",
      "\n",
      "\n"
     ]
    }
   ],
   "source": [
    "for row in combined_df.loc[(combined_df['compound'] > -0.05) & (combined_df['compound'] < 0.05)]\\\n",
    "['tweet'][0:10]:\n",
    "    print(row)\n",
    "    print('\\n')"
   ]
  },
  {
   "cell_type": "markdown",
   "metadata": {},
   "source": [
    "## 2.2 Data Exploration with Aggregate Sentiment"
   ]
  },
  {
   "cell_type": "code",
   "execution_count": 20,
   "metadata": {},
   "outputs": [],
   "source": [
    "# get counts of positive, neutral and negative tweets\n",
    "def count_sentiments(sentiment):\n",
    "\n",
    "    if sentiment >= 0.05:\n",
    "        return 1\n",
    "    elif (sentiment > -0.05) and (sentiment < 0.05):\n",
    "        return 0\n",
    "    else:\n",
    "        return -1"
   ]
  },
  {
   "cell_type": "code",
   "execution_count": 21,
   "metadata": {},
   "outputs": [],
   "source": [
    "# new column to determine if tweet is positive or negative\n",
    "combined_df['pos/neg'] = combined_df['compound'].map(count_sentiments)"
   ]
  },
  {
   "cell_type": "code",
   "execution_count": 22,
   "metadata": {},
   "outputs": [],
   "source": [
    "# new dataframe to count individual sentiment tweets per day\n",
    "sentiment_counts = pd.DataFrame(combined_df.groupby(['date', 'pos/neg'])['tweet'].agg('count'))"
   ]
  },
  {
   "cell_type": "code",
   "execution_count": 23,
   "metadata": {},
   "outputs": [
    {
     "data": {
      "text/html": [
       "<div>\n",
       "<style scoped>\n",
       "    .dataframe tbody tr th:only-of-type {\n",
       "        vertical-align: middle;\n",
       "    }\n",
       "\n",
       "    .dataframe tbody tr th {\n",
       "        vertical-align: top;\n",
       "    }\n",
       "\n",
       "    .dataframe thead th {\n",
       "        text-align: right;\n",
       "    }\n",
       "</style>\n",
       "<table border=\"1\" class=\"dataframe\">\n",
       "  <thead>\n",
       "    <tr style=\"text-align: right;\">\n",
       "      <th></th>\n",
       "      <th></th>\n",
       "      <th>tweet</th>\n",
       "    </tr>\n",
       "    <tr>\n",
       "      <th>date</th>\n",
       "      <th>pos/neg</th>\n",
       "      <th></th>\n",
       "    </tr>\n",
       "  </thead>\n",
       "  <tbody>\n",
       "    <tr>\n",
       "      <th rowspan=\"3\" valign=\"top\">2019-03-04</th>\n",
       "      <th>-1</th>\n",
       "      <td>4284</td>\n",
       "    </tr>\n",
       "    <tr>\n",
       "      <th>0</th>\n",
       "      <td>12525</td>\n",
       "    </tr>\n",
       "    <tr>\n",
       "      <th>1</th>\n",
       "      <td>9139</td>\n",
       "    </tr>\n",
       "    <tr>\n",
       "      <th rowspan=\"2\" valign=\"top\">2019-03-05</th>\n",
       "      <th>-1</th>\n",
       "      <td>5208</td>\n",
       "    </tr>\n",
       "    <tr>\n",
       "      <th>0</th>\n",
       "      <td>14300</td>\n",
       "    </tr>\n",
       "  </tbody>\n",
       "</table>\n",
       "</div>"
      ],
      "text/plain": [
       "                    tweet\n",
       "date       pos/neg       \n",
       "2019-03-04 -1        4284\n",
       "            0       12525\n",
       "            1        9139\n",
       "2019-03-05 -1        5208\n",
       "            0       14300"
      ]
     },
     "execution_count": 23,
     "metadata": {},
     "output_type": "execute_result"
    }
   ],
   "source": [
    "sentiment_counts.head()"
   ]
  },
  {
   "cell_type": "code",
   "execution_count": 24,
   "metadata": {},
   "outputs": [],
   "source": [
    "# groupby dates to get counts of tweets by day\n",
    "sent_agg_by_day = pd.DataFrame(combined_df.groupby('date')['compound'].agg('count'))"
   ]
  },
  {
   "cell_type": "code",
   "execution_count": 25,
   "metadata": {},
   "outputs": [
    {
     "data": {
      "text/html": [
       "<div>\n",
       "<style scoped>\n",
       "    .dataframe tbody tr th:only-of-type {\n",
       "        vertical-align: middle;\n",
       "    }\n",
       "\n",
       "    .dataframe tbody tr th {\n",
       "        vertical-align: top;\n",
       "    }\n",
       "\n",
       "    .dataframe thead th {\n",
       "        text-align: right;\n",
       "    }\n",
       "</style>\n",
       "<table border=\"1\" class=\"dataframe\">\n",
       "  <thead>\n",
       "    <tr style=\"text-align: right;\">\n",
       "      <th></th>\n",
       "      <th>compound</th>\n",
       "    </tr>\n",
       "    <tr>\n",
       "      <th>date</th>\n",
       "      <th></th>\n",
       "    </tr>\n",
       "  </thead>\n",
       "  <tbody>\n",
       "    <tr>\n",
       "      <th>2019-03-04</th>\n",
       "      <td>25948</td>\n",
       "    </tr>\n",
       "    <tr>\n",
       "      <th>2019-03-05</th>\n",
       "      <td>30296</td>\n",
       "    </tr>\n",
       "    <tr>\n",
       "      <th>2019-03-06</th>\n",
       "      <td>32652</td>\n",
       "    </tr>\n",
       "    <tr>\n",
       "      <th>2019-03-07</th>\n",
       "      <td>31029</td>\n",
       "    </tr>\n",
       "    <tr>\n",
       "      <th>2019-03-08</th>\n",
       "      <td>26455</td>\n",
       "    </tr>\n",
       "  </tbody>\n",
       "</table>\n",
       "</div>"
      ],
      "text/plain": [
       "            compound\n",
       "date                \n",
       "2019-03-04     25948\n",
       "2019-03-05     30296\n",
       "2019-03-06     32652\n",
       "2019-03-07     31029\n",
       "2019-03-08     26455"
      ]
     },
     "execution_count": 25,
     "metadata": {},
     "output_type": "execute_result"
    }
   ],
   "source": [
    "sent_agg_by_day.head()"
   ]
  },
  {
   "cell_type": "code",
   "execution_count": 26,
   "metadata": {},
   "outputs": [],
   "source": [
    "# merging datasets to get counts of positive, negative and neutral tweets daily\n",
    "merged_dataset = sentiment_counts.merge(sent_agg_by_day, left_index=True, right_index=True)"
   ]
  },
  {
   "cell_type": "code",
   "execution_count": 27,
   "metadata": {},
   "outputs": [],
   "source": [
    "merged_dataset = merged_dataset.reset_index()"
   ]
  },
  {
   "cell_type": "code",
   "execution_count": 28,
   "metadata": {},
   "outputs": [
    {
     "data": {
      "text/html": [
       "<div>\n",
       "<style scoped>\n",
       "    .dataframe tbody tr th:only-of-type {\n",
       "        vertical-align: middle;\n",
       "    }\n",
       "\n",
       "    .dataframe tbody tr th {\n",
       "        vertical-align: top;\n",
       "    }\n",
       "\n",
       "    .dataframe thead th {\n",
       "        text-align: right;\n",
       "    }\n",
       "</style>\n",
       "<table border=\"1\" class=\"dataframe\">\n",
       "  <thead>\n",
       "    <tr style=\"text-align: right;\">\n",
       "      <th></th>\n",
       "      <th>date</th>\n",
       "      <th>pos/neg</th>\n",
       "      <th>tweet</th>\n",
       "      <th>compound</th>\n",
       "    </tr>\n",
       "  </thead>\n",
       "  <tbody>\n",
       "    <tr>\n",
       "      <th>0</th>\n",
       "      <td>2019-03-04</td>\n",
       "      <td>-1</td>\n",
       "      <td>4284</td>\n",
       "      <td>25948</td>\n",
       "    </tr>\n",
       "    <tr>\n",
       "      <th>1</th>\n",
       "      <td>2019-03-04</td>\n",
       "      <td>0</td>\n",
       "      <td>12525</td>\n",
       "      <td>25948</td>\n",
       "    </tr>\n",
       "    <tr>\n",
       "      <th>2</th>\n",
       "      <td>2019-03-04</td>\n",
       "      <td>1</td>\n",
       "      <td>9139</td>\n",
       "      <td>25948</td>\n",
       "    </tr>\n",
       "    <tr>\n",
       "      <th>3</th>\n",
       "      <td>2019-03-05</td>\n",
       "      <td>-1</td>\n",
       "      <td>5208</td>\n",
       "      <td>30296</td>\n",
       "    </tr>\n",
       "    <tr>\n",
       "      <th>4</th>\n",
       "      <td>2019-03-05</td>\n",
       "      <td>0</td>\n",
       "      <td>14300</td>\n",
       "      <td>30296</td>\n",
       "    </tr>\n",
       "  </tbody>\n",
       "</table>\n",
       "</div>"
      ],
      "text/plain": [
       "         date  pos/neg  tweet  compound\n",
       "0  2019-03-04       -1   4284     25948\n",
       "1  2019-03-04        0  12525     25948\n",
       "2  2019-03-04        1   9139     25948\n",
       "3  2019-03-05       -1   5208     30296\n",
       "4  2019-03-05        0  14300     30296"
      ]
     },
     "execution_count": 28,
     "metadata": {},
     "output_type": "execute_result"
    }
   ],
   "source": [
    "merged_dataset.head()"
   ]
  },
  {
   "cell_type": "code",
   "execution_count": 29,
   "metadata": {},
   "outputs": [],
   "source": [
    "#merged_dataset = merged_dataset.unstack()\n",
    "merged_dataset = merged_dataset.pivot_table(index='date', values='tweet', columns='pos/neg')"
   ]
  },
  {
   "cell_type": "code",
   "execution_count": 30,
   "metadata": {},
   "outputs": [],
   "source": [
    "merged_dataset.rename(columns={-1: 'neg', 0:'neutral', 1:'pos'}, inplace=True)"
   ]
  },
  {
   "cell_type": "code",
   "execution_count": 31,
   "metadata": {},
   "outputs": [],
   "source": [
    "merged_dataset['abs_sentiment'] = merged_dataset['pos']-merged_dataset['neg']\n",
    "merged_dataset['rel_sentiment'] = (merged_dataset['pos']-merged_dataset['neg'])/(merged_dataset['pos']+merged_dataset['neg'])"
   ]
  },
  {
   "cell_type": "markdown",
   "metadata": {},
   "source": [
    "The relative and absolute sentiment are calculated using the aggregate number of positive and negative tweets. "
   ]
  },
  {
   "cell_type": "code",
   "execution_count": 32,
   "metadata": {},
   "outputs": [
    {
     "data": {
      "text/html": [
       "<div>\n",
       "<style scoped>\n",
       "    .dataframe tbody tr th:only-of-type {\n",
       "        vertical-align: middle;\n",
       "    }\n",
       "\n",
       "    .dataframe tbody tr th {\n",
       "        vertical-align: top;\n",
       "    }\n",
       "\n",
       "    .dataframe thead th {\n",
       "        text-align: right;\n",
       "    }\n",
       "</style>\n",
       "<table border=\"1\" class=\"dataframe\">\n",
       "  <thead>\n",
       "    <tr style=\"text-align: right;\">\n",
       "      <th>pos/neg</th>\n",
       "      <th>neg</th>\n",
       "      <th>neutral</th>\n",
       "      <th>pos</th>\n",
       "      <th>abs_sentiment</th>\n",
       "      <th>rel_sentiment</th>\n",
       "    </tr>\n",
       "    <tr>\n",
       "      <th>date</th>\n",
       "      <th></th>\n",
       "      <th></th>\n",
       "      <th></th>\n",
       "      <th></th>\n",
       "      <th></th>\n",
       "    </tr>\n",
       "  </thead>\n",
       "  <tbody>\n",
       "    <tr>\n",
       "      <th>2019-03-04</th>\n",
       "      <td>4284</td>\n",
       "      <td>12525</td>\n",
       "      <td>9139</td>\n",
       "      <td>4855</td>\n",
       "      <td>0.361693</td>\n",
       "    </tr>\n",
       "    <tr>\n",
       "      <th>2019-03-05</th>\n",
       "      <td>5208</td>\n",
       "      <td>14300</td>\n",
       "      <td>10788</td>\n",
       "      <td>5580</td>\n",
       "      <td>0.348837</td>\n",
       "    </tr>\n",
       "    <tr>\n",
       "      <th>2019-03-06</th>\n",
       "      <td>5503</td>\n",
       "      <td>15782</td>\n",
       "      <td>11367</td>\n",
       "      <td>5864</td>\n",
       "      <td>0.347599</td>\n",
       "    </tr>\n",
       "    <tr>\n",
       "      <th>2019-03-07</th>\n",
       "      <td>5123</td>\n",
       "      <td>15093</td>\n",
       "      <td>10813</td>\n",
       "      <td>5690</td>\n",
       "      <td>0.357053</td>\n",
       "    </tr>\n",
       "    <tr>\n",
       "      <th>2019-03-08</th>\n",
       "      <td>4127</td>\n",
       "      <td>12941</td>\n",
       "      <td>9387</td>\n",
       "      <td>5260</td>\n",
       "      <td>0.389226</td>\n",
       "    </tr>\n",
       "  </tbody>\n",
       "</table>\n",
       "</div>"
      ],
      "text/plain": [
       "pos/neg      neg  neutral    pos  abs_sentiment  rel_sentiment\n",
       "date                                                          \n",
       "2019-03-04  4284    12525   9139           4855       0.361693\n",
       "2019-03-05  5208    14300  10788           5580       0.348837\n",
       "2019-03-06  5503    15782  11367           5864       0.347599\n",
       "2019-03-07  5123    15093  10813           5690       0.357053\n",
       "2019-03-08  4127    12941   9387           5260       0.389226"
      ]
     },
     "execution_count": 32,
     "metadata": {},
     "output_type": "execute_result"
    }
   ],
   "source": [
    "merged_dataset.head()"
   ]
  },
  {
   "cell_type": "code",
   "execution_count": 33,
   "metadata": {},
   "outputs": [],
   "source": [
    "avg_sent_by_day = combined_df.groupby('date')['compound'].agg('mean')"
   ]
  },
  {
   "cell_type": "code",
   "execution_count": 35,
   "metadata": {},
   "outputs": [
    {
     "data": {
      "image/png": "[encoded data removed]",
      "text/plain": [
       "<Figure size 2160x720 with 1 Axes>"
      ]
     },
     "metadata": {},
     "output_type": "display_data"
    }
   ],
   "source": [
    "plt.figure(figsize=(30,10))\n",
    "plt.ylim(-0.05,0.3)\n",
    "plt.plot(avg_sent_by_day);"
   ]
  },
  {
   "cell_type": "markdown",
   "metadata": {},
   "source": [
    "We notice that, in general, the attitude manifested in the tweets gathered by us has a neutral-positive bend."
   ]
  },
  {
   "cell_type": "code",
   "execution_count": 36,
   "metadata": {},
   "outputs": [],
   "source": [
    "pos_individual_sent_by_day = merged_dataset['pos']\n",
    "neg_individual_sent_by_day = merged_dataset['neg']\n",
    "neutral_individual_sent_by_day = merged_dataset['neutral']"
   ]
  },
  {
   "cell_type": "code",
   "execution_count": 37,
   "metadata": {},
   "outputs": [
    {
     "data": {
      "image/png": "[encoded data removed]",
      "text/plain": [
       "<Figure size 1800x576 with 1 Axes>"
      ]
     },
     "metadata": {},
     "output_type": "display_data"
    }
   ],
   "source": [
    "fig, ax = plt.subplots(figsize=(25,8));\n",
    "ax.plot(pos_individual_sent_by_day, label='positive')\n",
    "ax.plot(neg_individual_sent_by_day, label='negative');\n",
    "ax.plot(neutral_individual_sent_by_day, label='neutral');\n",
    "leg = ax.legend();"
   ]
  },
  {
   "cell_type": "markdown",
   "metadata": {},
   "source": [
    "It is noticed that there are considerable increase in number of tweets as the month went on. This is because of our data gathering strategy which was split in two different ways. In the latter half of our data gathering process, we had much more flexible approach to compiling tweets, and that is reflected in the above trend clearly."
   ]
  },
  {
   "cell_type": "code",
   "execution_count": 38,
   "metadata": {},
   "outputs": [
    {
     "data": {
      "image/png": "[encoded data removed]",
      "text/plain": [
       "<Figure size 1440x576 with 1 Axes>"
      ]
     },
     "metadata": {},
     "output_type": "display_data"
    }
   ],
   "source": [
    "df_for_barplot = merged_dataset[['neg', 'pos', 'neutral']]\n",
    "df_bar_plot_v = df_for_barplot.sum()\n",
    "\n",
    "plt.figure(figsize=(20,8))\n",
    "plt.ylabel('Number of Tweets')\n",
    "plt.xlabel('Category of Tweets')\n",
    "plt.bar(list(df_bar_plot_v.index), list(df_bar_plot_v.values));"
   ]
  },
  {
   "cell_type": "markdown",
   "metadata": {},
   "source": [
    "# 3. Stock Data"
   ]
  },
  {
   "cell_type": "markdown",
   "metadata": {},
   "source": [
    "## 3.1 Aggregate Stock Data (S&P500 Top 500 and S&P500 top 50)"
   ]
  },
  {
   "cell_type": "markdown",
   "metadata": {},
   "source": [
    "We downloaded two different forms of datasets for stocks.\n",
    "\n",
    "1) S&P500 Complete Index\n",
    "\n",
    "2) S&P500 Top 50 Stocks index (the companies we gathered the tweets for)"
   ]
  },
  {
   "cell_type": "code",
   "execution_count": 39,
   "metadata": {},
   "outputs": [
    {
     "data": {
      "text/html": [
       "<div>\n",
       "<style scoped>\n",
       "    .dataframe tbody tr th:only-of-type {\n",
       "        vertical-align: middle;\n",
       "    }\n",
       "\n",
       "    .dataframe tbody tr th {\n",
       "        vertical-align: top;\n",
       "    }\n",
       "\n",
       "    .dataframe thead th {\n",
       "        text-align: right;\n",
       "    }\n",
       "</style>\n",
       "<table border=\"1\" class=\"dataframe\">\n",
       "  <thead>\n",
       "    <tr style=\"text-align: right;\">\n",
       "      <th></th>\n",
       "      <th>Open</th>\n",
       "      <th>High</th>\n",
       "      <th>Low</th>\n",
       "      <th>Close</th>\n",
       "      <th>Adj Close</th>\n",
       "      <th>Volume</th>\n",
       "    </tr>\n",
       "    <tr>\n",
       "      <th>Date</th>\n",
       "      <th></th>\n",
       "      <th></th>\n",
       "      <th></th>\n",
       "      <th></th>\n",
       "      <th></th>\n",
       "      <th></th>\n",
       "    </tr>\n",
       "  </thead>\n",
       "  <tbody>\n",
       "    <tr>\n",
       "      <th>2018-12-28</th>\n",
       "      <td>2498.770020</td>\n",
       "      <td>2520.270020</td>\n",
       "      <td>2472.889893</td>\n",
       "      <td>2485.739990</td>\n",
       "      <td>2485.739990</td>\n",
       "      <td>3702620000</td>\n",
       "    </tr>\n",
       "    <tr>\n",
       "      <th>2018-12-31</th>\n",
       "      <td>2498.939941</td>\n",
       "      <td>2509.239990</td>\n",
       "      <td>2482.820068</td>\n",
       "      <td>2506.850098</td>\n",
       "      <td>2506.850098</td>\n",
       "      <td>3442870000</td>\n",
       "    </tr>\n",
       "    <tr>\n",
       "      <th>2019-01-02</th>\n",
       "      <td>2476.959961</td>\n",
       "      <td>2519.489990</td>\n",
       "      <td>2467.469971</td>\n",
       "      <td>2510.030029</td>\n",
       "      <td>2510.030029</td>\n",
       "      <td>3733160000</td>\n",
       "    </tr>\n",
       "    <tr>\n",
       "      <th>2019-01-03</th>\n",
       "      <td>2491.919922</td>\n",
       "      <td>2493.139893</td>\n",
       "      <td>2443.959961</td>\n",
       "      <td>2447.889893</td>\n",
       "      <td>2447.889893</td>\n",
       "      <td>3822860000</td>\n",
       "    </tr>\n",
       "    <tr>\n",
       "      <th>2019-01-04</th>\n",
       "      <td>2474.330078</td>\n",
       "      <td>2538.070068</td>\n",
       "      <td>2474.330078</td>\n",
       "      <td>2531.939941</td>\n",
       "      <td>2531.939941</td>\n",
       "      <td>4213410000</td>\n",
       "    </tr>\n",
       "  </tbody>\n",
       "</table>\n",
       "</div>"
      ],
      "text/plain": [
       "                   Open         High          Low        Close    Adj Close  \\\n",
       "Date                                                                          \n",
       "2018-12-28  2498.770020  2520.270020  2472.889893  2485.739990  2485.739990   \n",
       "2018-12-31  2498.939941  2509.239990  2482.820068  2506.850098  2506.850098   \n",
       "2019-01-02  2476.959961  2519.489990  2467.469971  2510.030029  2510.030029   \n",
       "2019-01-03  2491.919922  2493.139893  2443.959961  2447.889893  2447.889893   \n",
       "2019-01-04  2474.330078  2538.070068  2474.330078  2531.939941  2531.939941   \n",
       "\n",
       "                Volume  \n",
       "Date                    \n",
       "2018-12-28  3702620000  \n",
       "2018-12-31  3442870000  \n",
       "2019-01-02  3733160000  \n",
       "2019-01-03  3822860000  \n",
       "2019-01-04  4213410000  "
      ]
     },
     "execution_count": 39,
     "metadata": {},
     "output_type": "execute_result"
    }
   ],
   "source": [
    "# data for complete S&P500 index (gathered for analysis)\n",
    "agg_sp500 = pd.read_csv('^GSPC.csv')\n",
    "agg_sp500.set_index('Date', inplace=True)\n",
    "agg_sp500.head()"
   ]
  },
  {
   "cell_type": "code",
   "execution_count": 40,
   "metadata": {},
   "outputs": [],
   "source": [
    "# S&P500 Top 50 Dataset\n",
    "# We will use the values from this dataset for our causality analysis\n",
    "agg_sp50 = pd.read_excel('S&PTop50 Aggregate Data-.xls')\n",
    "agg_sp50.rename(columns={'Effective date ':'date'}, inplace=True)\n",
    "agg_sp50.set_index('date', inplace=True)"
   ]
  },
  {
   "cell_type": "code",
   "execution_count": 41,
   "metadata": {},
   "outputs": [
    {
     "data": {
      "text/html": [
       "<div>\n",
       "<style scoped>\n",
       "    .dataframe tbody tr th:only-of-type {\n",
       "        vertical-align: middle;\n",
       "    }\n",
       "\n",
       "    .dataframe tbody tr th {\n",
       "        vertical-align: top;\n",
       "    }\n",
       "\n",
       "    .dataframe thead th {\n",
       "        text-align: right;\n",
       "    }\n",
       "</style>\n",
       "<table border=\"1\" class=\"dataframe\">\n",
       "  <thead>\n",
       "    <tr style=\"text-align: right;\">\n",
       "      <th></th>\n",
       "      <th>S&amp;P 500 Top 50</th>\n",
       "    </tr>\n",
       "    <tr>\n",
       "      <th>date</th>\n",
       "      <th></th>\n",
       "    </tr>\n",
       "  </thead>\n",
       "  <tbody>\n",
       "    <tr>\n",
       "      <th>2018-12-31</th>\n",
       "      <td>1999.51</td>\n",
       "    </tr>\n",
       "    <tr>\n",
       "      <th>2019-01-02</th>\n",
       "      <td>2008.08</td>\n",
       "    </tr>\n",
       "    <tr>\n",
       "      <th>2019-01-03</th>\n",
       "      <td>1947.96</td>\n",
       "    </tr>\n",
       "    <tr>\n",
       "      <th>2019-01-04</th>\n",
       "      <td>2019.01</td>\n",
       "    </tr>\n",
       "    <tr>\n",
       "      <th>2019-01-07</th>\n",
       "      <td>2029.65</td>\n",
       "    </tr>\n",
       "  </tbody>\n",
       "</table>\n",
       "</div>"
      ],
      "text/plain": [
       "            S&P 500 Top 50\n",
       "date                      \n",
       "2018-12-31         1999.51\n",
       "2019-01-02         2008.08\n",
       "2019-01-03         1947.96\n",
       "2019-01-04         2019.01\n",
       "2019-01-07         2029.65"
      ]
     },
     "execution_count": 41,
     "metadata": {},
     "output_type": "execute_result"
    }
   ],
   "source": [
    "agg_sp50 = pd.DataFrame(agg_sp50['S&P 500 Top 50'])\n",
    "agg_sp50.head()"
   ]
  },
  {
   "cell_type": "markdown",
   "metadata": {},
   "source": [
    "## 3.2 Analyzing Stock Market Behaviour"
   ]
  },
  {
   "cell_type": "code",
   "execution_count": 42,
   "metadata": {},
   "outputs": [],
   "source": [
    "# dataframe constructed that will eventually be used for causality analysis\n",
    "df_for_causality = merged_dataset.merge(agg_sp50, left_index=True, right_index=True)"
   ]
  },
  {
   "cell_type": "markdown",
   "metadata": {},
   "source": [
    "The dataframe captures tweets and their sentiments, along with S&P500 Top 50 Index, from 4th March 2019 to 29th March 2019."
   ]
  },
  {
   "cell_type": "code",
   "execution_count": 43,
   "metadata": {},
   "outputs": [
    {
     "data": {
      "text/html": [
       "<div>\n",
       "<style scoped>\n",
       "    .dataframe tbody tr th:only-of-type {\n",
       "        vertical-align: middle;\n",
       "    }\n",
       "\n",
       "    .dataframe tbody tr th {\n",
       "        vertical-align: top;\n",
       "    }\n",
       "\n",
       "    .dataframe thead th {\n",
       "        text-align: right;\n",
       "    }\n",
       "</style>\n",
       "<table border=\"1\" class=\"dataframe\">\n",
       "  <thead>\n",
       "    <tr style=\"text-align: right;\">\n",
       "      <th></th>\n",
       "      <th>neg</th>\n",
       "      <th>neutral</th>\n",
       "      <th>pos</th>\n",
       "      <th>abs_sentiment</th>\n",
       "      <th>rel_sentiment</th>\n",
       "      <th>S&amp;P 500 Top 50</th>\n",
       "    </tr>\n",
       "    <tr>\n",
       "      <th>date</th>\n",
       "      <th></th>\n",
       "      <th></th>\n",
       "      <th></th>\n",
       "      <th></th>\n",
       "      <th></th>\n",
       "      <th></th>\n",
       "    </tr>\n",
       "  </thead>\n",
       "  <tbody>\n",
       "    <tr>\n",
       "      <th>2019-03-04</th>\n",
       "      <td>4284</td>\n",
       "      <td>12525</td>\n",
       "      <td>9139</td>\n",
       "      <td>4855</td>\n",
       "      <td>0.361693</td>\n",
       "      <td>2208.68</td>\n",
       "    </tr>\n",
       "    <tr>\n",
       "      <th>2019-03-05</th>\n",
       "      <td>5208</td>\n",
       "      <td>14300</td>\n",
       "      <td>10788</td>\n",
       "      <td>5580</td>\n",
       "      <td>0.348837</td>\n",
       "      <td>2210.25</td>\n",
       "    </tr>\n",
       "    <tr>\n",
       "      <th>2019-03-06</th>\n",
       "      <td>5503</td>\n",
       "      <td>15782</td>\n",
       "      <td>11367</td>\n",
       "      <td>5864</td>\n",
       "      <td>0.347599</td>\n",
       "      <td>2199.74</td>\n",
       "    </tr>\n",
       "    <tr>\n",
       "      <th>2019-03-07</th>\n",
       "      <td>5123</td>\n",
       "      <td>15093</td>\n",
       "      <td>10813</td>\n",
       "      <td>5690</td>\n",
       "      <td>0.357053</td>\n",
       "      <td>2180.94</td>\n",
       "    </tr>\n",
       "    <tr>\n",
       "      <th>2019-03-08</th>\n",
       "      <td>4127</td>\n",
       "      <td>12941</td>\n",
       "      <td>9387</td>\n",
       "      <td>5260</td>\n",
       "      <td>0.389226</td>\n",
       "      <td>2177.70</td>\n",
       "    </tr>\n",
       "  </tbody>\n",
       "</table>\n",
       "</div>"
      ],
      "text/plain": [
       "             neg  neutral    pos  abs_sentiment  rel_sentiment  S&P 500 Top 50\n",
       "date                                                                          \n",
       "2019-03-04  4284    12525   9139           4855       0.361693         2208.68\n",
       "2019-03-05  5208    14300  10788           5580       0.348837         2210.25\n",
       "2019-03-06  5503    15782  11367           5864       0.347599         2199.74\n",
       "2019-03-07  5123    15093  10813           5690       0.357053         2180.94\n",
       "2019-03-08  4127    12941   9387           5260       0.389226         2177.70"
      ]
     },
     "execution_count": 43,
     "metadata": {},
     "output_type": "execute_result"
    }
   ],
   "source": [
    "df_for_causality.head()"
   ]
  },
  {
   "cell_type": "markdown",
   "metadata": {},
   "source": [
    "### 3.2.1 With Absolute Closing Price Values"
   ]
  },
  {
   "cell_type": "code",
   "execution_count": 44,
   "metadata": {},
   "outputs": [],
   "source": [
    "stocks = df_for_causality['S&P 500 Top 50']"
   ]
  },
  {
   "cell_type": "code",
   "execution_count": 45,
   "metadata": {},
   "outputs": [
    {
     "data": {
      "image/png": "[encoded data removed]",
      "text/plain": [
       "<Figure size 1296x432 with 1 Axes>"
      ]
     },
     "metadata": {},
     "output_type": "display_data"
    }
   ],
   "source": [
    "# Plotting stocks behaviour time series\n",
    "plt.figure(figsize=(18,6))\n",
    "plt.plot(stocks)\n",
    "plt.show();"
   ]
  },
  {
   "cell_type": "markdown",
   "metadata": {},
   "source": [
    "We draw an autocorrelation plot to determine how much does the stock price correlate with its lagged value."
   ]
  },
  {
   "cell_type": "code",
   "execution_count": 46,
   "metadata": {},
   "outputs": [
    {
     "data": {
      "image/png": "[encoded data removed]",
      "text/plain": [
       "<Figure size 720x432 with 1 Axes>"
      ]
     },
     "metadata": {},
     "output_type": "display_data"
    }
   ],
   "source": [
    "# Creating Autocorrelation plot\n",
    "from pandas.plotting import lag_plot\n",
    "plt.figure(figsize=(10,6))\n",
    "lag_plot(stocks)\n",
    "plt.show();"
   ]
  },
  {
   "cell_type": "code",
   "execution_count": 48,
   "metadata": {},
   "outputs": [
    {
     "name": "stdout",
     "output_type": "stream",
     "text": [
      "          t-1       t+1\n",
      "t-1  1.000000  0.803534\n",
      "t+1  0.803534  1.000000\n"
     ]
    }
   ],
   "source": [
    "# getting correlation matrix for lagged values\n",
    "values = pd.DataFrame(stocks.values)\n",
    "dataframe = pd.concat([values.shift(1), values], axis=1)\n",
    "dataframe.columns = ['t-1', 't+1']\n",
    "result = dataframe.corr()\n",
    "print(result)"
   ]
  },
  {
   "cell_type": "code",
   "execution_count": 49,
   "metadata": {},
   "outputs": [
    {
     "data": {
      "image/png": "[encoded data removed]",
      "text/plain": [
       "<Figure size 720x432 with 1 Axes>"
      ]
     },
     "metadata": {},
     "output_type": "display_data"
    }
   ],
   "source": [
    "# autocorrelation plot\n",
    "from pandas.plotting import autocorrelation_plot\n",
    "plt.figure(figsize=(10,6))\n",
    "autocorrelation_plot(stocks)\n",
    "plt.show();"
   ]
  },
  {
   "cell_type": "markdown",
   "metadata": {},
   "source": [
    "We can clearly see that there is a definite relationship between lagged values of stock price and stock price on certain day.\n",
    "\n",
    "Further connection is established by an Autoregressive model, which is used for Univariate Time Series."
   ]
  },
  {
   "cell_type": "code",
   "execution_count": 50,
   "metadata": {},
   "outputs": [
    {
     "name": "stdout",
     "output_type": "stream",
     "text": [
      "Lag: 8\n",
      "Coefficients: [ 2.19249637e+03  1.05702162e-01 -1.17341363e-01  2.45042828e-01\n",
      " -4.22081749e-02 -4.44440521e-02  3.69473989e-01 -4.61602602e-01\n",
      " -3.15810014e-02]\n"
     ]
    }
   ],
   "source": [
    "from statsmodels.tsa.ar_model import AR\n",
    "\n",
    "# split dataset\n",
    "X = stocks.values\n",
    "# train autoregression\n",
    "model = AR(X)\n",
    "model_fit = model.fit()\n",
    "print('Lag: %s' % model_fit.k_ar)\n",
    "print('Coefficients: %s' % model_fit.params)\n",
    "\n",
    "model_fit.summary()"
   ]
  },
  {
   "cell_type": "markdown",
   "metadata": {},
   "source": [
    "### 3.2.2 Using Log-Return values"
   ]
  },
  {
   "cell_type": "markdown",
   "metadata": {},
   "source": [
    "In finance, it is a common practice to use log-return values of stock price instead of absolute value. We transform our dataset to include log-return values (and corresponding percentage changes, just for comparison)"
   ]
  },
  {
   "cell_type": "code",
   "execution_count": 51,
   "metadata": {},
   "outputs": [],
   "source": [
    "stocks = pd.DataFrame(stocks)"
   ]
  },
  {
   "cell_type": "code",
   "execution_count": 52,
   "metadata": {},
   "outputs": [],
   "source": [
    "stocks['pct_change'] = stocks['S&P 500 Top 50'].pct_change()\n",
    "stocks['log_ret'] = np.log(stocks['S&P 500 Top 50'])\\\n",
    "- np.log(stocks['S&P 500 Top 50'].shift(1))"
   ]
  },
  {
   "cell_type": "code",
   "execution_count": 53,
   "metadata": {},
   "outputs": [],
   "source": [
    "stocks.fillna(0, inplace=True)"
   ]
  },
  {
   "cell_type": "code",
   "execution_count": 54,
   "metadata": {},
   "outputs": [],
   "source": [
    "log_return = stocks['log_ret']"
   ]
  },
  {
   "cell_type": "code",
   "execution_count": 55,
   "metadata": {},
   "outputs": [
    {
     "data": {
      "image/png": "[encoded data removed]",
      "text/plain": [
       "<Figure size 1296x432 with 1 Axes>"
      ]
     },
     "metadata": {},
     "output_type": "display_data"
    }
   ],
   "source": [
    "plt.figure(figsize=(18,6))\n",
    "plt.plot(log_return)\n",
    "plt.show();"
   ]
  },
  {
   "cell_type": "code",
   "execution_count": 56,
   "metadata": {},
   "outputs": [
    {
     "data": {
      "image/png": "[encoded data removed]",
      "text/plain": [
       "<Figure size 720x432 with 1 Axes>"
      ]
     },
     "metadata": {},
     "output_type": "display_data"
    }
   ],
   "source": [
    "# Creating Autocorrelation plot\n",
    "from pandas.plotting import lag_plot\n",
    "plt.figure(figsize=(10,6))\n",
    "lag_plot(log_return)\n",
    "plt.show();"
   ]
  },
  {
   "cell_type": "code",
   "execution_count": 57,
   "metadata": {},
   "outputs": [
    {
     "name": "stdout",
     "output_type": "stream",
     "text": [
      "          t-1       t+1\n",
      "t-1  1.000000 -0.112558\n",
      "t+1 -0.112558  1.000000\n"
     ]
    }
   ],
   "source": [
    "# getting correlation matrix for lagged values\n",
    "values = pd.DataFrame(log_return.values)\n",
    "dataframe = pd.concat([values.shift(1), values], axis=1)\n",
    "dataframe.columns = ['t-1', 't+1']\n",
    "result = dataframe.corr()\n",
    "print(result)"
   ]
  },
  {
   "cell_type": "code",
   "execution_count": 58,
   "metadata": {},
   "outputs": [
    {
     "data": {
      "image/png": "[encoded data removed]",
      "text/plain": [
       "<Figure size 720x432 with 1 Axes>"
      ]
     },
     "metadata": {},
     "output_type": "display_data"
    }
   ],
   "source": [
    "from pandas.plotting import autocorrelation_plot\n",
    "plt.figure(figsize=(10,6))\n",
    "autocorrelation_plot(log_return)\n",
    "plt.show();"
   ]
  },
  {
   "cell_type": "code",
   "execution_count": 59,
   "metadata": {},
   "outputs": [
    {
     "name": "stdout",
     "output_type": "stream",
     "text": [
      "Lag: 8\n",
      "Coefficients: [ 2.56513270e-04 -3.17672122e-01 -2.52004437e-01  2.82283059e-01\n",
      "  6.05762046e-02 -4.44729778e-02  2.19733362e-01 -3.98043964e-01\n",
      "  2.17318146e-01]\n"
     ]
    }
   ],
   "source": [
    "from statsmodels.tsa.ar_model import AR\n",
    "# split dataset\n",
    "X = log_return.values\n",
    "# train autoregression\n",
    "model = AR(X)\n",
    "model_fit = model.fit()\n",
    "print('Lag: %s' % model_fit.k_ar)\n",
    "print('Coefficients: %s' % model_fit.params)\n",
    "\n",
    "model_fit.summary()"
   ]
  },
  {
   "cell_type": "markdown",
   "metadata": {},
   "source": [
    "# 4. Causality Analysis"
   ]
  },
  {
   "cell_type": "code",
   "execution_count": 60,
   "metadata": {},
   "outputs": [],
   "source": [
    "df_for_causality['pct_change'] = df_for_causality['S&P 500 Top 50'].pct_change()\n",
    "df_for_causality['log_ret'] = np.log(df_for_causality['S&P 500 Top 50'])\\\n",
    "- np.log(df_for_causality['S&P 500 Top 50'].shift(1))"
   ]
  },
  {
   "cell_type": "code",
   "execution_count": 61,
   "metadata": {},
   "outputs": [],
   "source": [
    "df_for_causality.fillna(value=0, inplace=True)"
   ]
  },
  {
   "cell_type": "code",
   "execution_count": 62,
   "metadata": {},
   "outputs": [
    {
     "data": {
      "text/html": [
       "<div>\n",
       "<style scoped>\n",
       "    .dataframe tbody tr th:only-of-type {\n",
       "        vertical-align: middle;\n",
       "    }\n",
       "\n",
       "    .dataframe tbody tr th {\n",
       "        vertical-align: top;\n",
       "    }\n",
       "\n",
       "    .dataframe thead th {\n",
       "        text-align: right;\n",
       "    }\n",
       "</style>\n",
       "<table border=\"1\" class=\"dataframe\">\n",
       "  <thead>\n",
       "    <tr style=\"text-align: right;\">\n",
       "      <th></th>\n",
       "      <th>neg</th>\n",
       "      <th>neutral</th>\n",
       "      <th>pos</th>\n",
       "      <th>abs_sentiment</th>\n",
       "      <th>rel_sentiment</th>\n",
       "      <th>S&amp;P 500 Top 50</th>\n",
       "      <th>pct_change</th>\n",
       "      <th>log_ret</th>\n",
       "    </tr>\n",
       "    <tr>\n",
       "      <th>date</th>\n",
       "      <th></th>\n",
       "      <th></th>\n",
       "      <th></th>\n",
       "      <th></th>\n",
       "      <th></th>\n",
       "      <th></th>\n",
       "      <th></th>\n",
       "      <th></th>\n",
       "    </tr>\n",
       "  </thead>\n",
       "  <tbody>\n",
       "    <tr>\n",
       "      <th>2019-03-04</th>\n",
       "      <td>4284</td>\n",
       "      <td>12525</td>\n",
       "      <td>9139</td>\n",
       "      <td>4855</td>\n",
       "      <td>0.361693</td>\n",
       "      <td>2208.68</td>\n",
       "      <td>0.000000</td>\n",
       "      <td>0.000000</td>\n",
       "    </tr>\n",
       "    <tr>\n",
       "      <th>2019-03-05</th>\n",
       "      <td>5208</td>\n",
       "      <td>14300</td>\n",
       "      <td>10788</td>\n",
       "      <td>5580</td>\n",
       "      <td>0.348837</td>\n",
       "      <td>2210.25</td>\n",
       "      <td>0.000711</td>\n",
       "      <td>0.000711</td>\n",
       "    </tr>\n",
       "    <tr>\n",
       "      <th>2019-03-06</th>\n",
       "      <td>5503</td>\n",
       "      <td>15782</td>\n",
       "      <td>11367</td>\n",
       "      <td>5864</td>\n",
       "      <td>0.347599</td>\n",
       "      <td>2199.74</td>\n",
       "      <td>-0.004755</td>\n",
       "      <td>-0.004766</td>\n",
       "    </tr>\n",
       "    <tr>\n",
       "      <th>2019-03-07</th>\n",
       "      <td>5123</td>\n",
       "      <td>15093</td>\n",
       "      <td>10813</td>\n",
       "      <td>5690</td>\n",
       "      <td>0.357053</td>\n",
       "      <td>2180.94</td>\n",
       "      <td>-0.008546</td>\n",
       "      <td>-0.008583</td>\n",
       "    </tr>\n",
       "    <tr>\n",
       "      <th>2019-03-08</th>\n",
       "      <td>4127</td>\n",
       "      <td>12941</td>\n",
       "      <td>9387</td>\n",
       "      <td>5260</td>\n",
       "      <td>0.389226</td>\n",
       "      <td>2177.70</td>\n",
       "      <td>-0.001486</td>\n",
       "      <td>-0.001487</td>\n",
       "    </tr>\n",
       "  </tbody>\n",
       "</table>\n",
       "</div>"
      ],
      "text/plain": [
       "             neg  neutral    pos  abs_sentiment  rel_sentiment  \\\n",
       "date                                                             \n",
       "2019-03-04  4284    12525   9139           4855       0.361693   \n",
       "2019-03-05  5208    14300  10788           5580       0.348837   \n",
       "2019-03-06  5503    15782  11367           5864       0.347599   \n",
       "2019-03-07  5123    15093  10813           5690       0.357053   \n",
       "2019-03-08  4127    12941   9387           5260       0.389226   \n",
       "\n",
       "            S&P 500 Top 50  pct_change   log_ret  \n",
       "date                                              \n",
       "2019-03-04         2208.68    0.000000  0.000000  \n",
       "2019-03-05         2210.25    0.000711  0.000711  \n",
       "2019-03-06         2199.74   -0.004755 -0.004766  \n",
       "2019-03-07         2180.94   -0.008546 -0.008583  \n",
       "2019-03-08         2177.70   -0.001486 -0.001487  "
      ]
     },
     "execution_count": 62,
     "metadata": {},
     "output_type": "execute_result"
    }
   ],
   "source": [
    "df_for_causality.head()"
   ]
  },
  {
   "cell_type": "markdown",
   "metadata": {},
   "source": [
    "### 4.1 Check if time series are stationary"
   ]
  },
  {
   "cell_type": "markdown",
   "metadata": {},
   "source": [
    "We test if our time series are stationary. For this purpose we utilise the ADF test, applied to a single series at a time (univariate time series). We utilised the python implementation available via statsmodel."
   ]
  },
  {
   "cell_type": "code",
   "execution_count": 63,
   "metadata": {},
   "outputs": [],
   "source": [
    "# ADF (Augmented Dickey Fuller) Test\n",
    "#define function for ADF test\n",
    "from statsmodels.tsa.stattools import adfuller\n",
    "def adf_test(timeseries):\n",
    "    #Perform Dickey-Fuller test:\n",
    "    print('Results of Dickey-Fuller Test:')\n",
    "    dftest = adfuller(timeseries, autolag='AIC', maxlag=8)\n",
    "    dfoutput = pd.Series(dftest[0:4], index=['Test Statistic',\n",
    "                                             'p-value','#Lags Used',\n",
    "                                             'Number of Observations Used'])\n",
    "    for key,value in dftest[4].items():\n",
    "        dfoutput['Critical Value (%s)'%key] = value\n",
    "    print(dfoutput)"
   ]
  },
  {
   "cell_type": "code",
   "execution_count": 64,
   "metadata": {},
   "outputs": [
    {
     "name": "stdout",
     "output_type": "stream",
     "text": [
      "Results of Dickey-Fuller Test:\n",
      "Test Statistic                -1.485676e+01\n",
      "p-value                        1.743628e-27\n",
      "#Lags Used                     8.000000e+00\n",
      "Number of Observations Used    1.100000e+01\n",
      "Critical Value (1%)           -4.223238e+00\n",
      "Critical Value (5%)           -3.189369e+00\n",
      "Critical Value (10%)          -2.729839e+00\n",
      "dtype: float64\n"
     ]
    }
   ],
   "source": [
    "adf_test(df_for_causality['S&P 500 Top 50'])"
   ]
  },
  {
   "cell_type": "code",
   "execution_count": 65,
   "metadata": {},
   "outputs": [
    {
     "name": "stdout",
     "output_type": "stream",
     "text": [
      "Results of Dickey-Fuller Test:\n",
      "Test Statistic                 -3.020101\n",
      "p-value                         0.033059\n",
      "#Lags Used                      8.000000\n",
      "Number of Observations Used    11.000000\n",
      "Critical Value (1%)            -4.223238\n",
      "Critical Value (5%)            -3.189369\n",
      "Critical Value (10%)           -2.729839\n",
      "dtype: float64\n"
     ]
    }
   ],
   "source": [
    "adf_test(df_for_causality['log_ret'])"
   ]
  },
  {
   "cell_type": "markdown",
   "metadata": {},
   "source": [
    "From the above tests, we see that the time series for absolute and log returns are stationary. Log return values are significant at the 5% level. It suffices for our case, since we do not have a lot of data to play around with, and results are bound to be weak."
   ]
  },
  {
   "cell_type": "code",
   "execution_count": 66,
   "metadata": {},
   "outputs": [
    {
     "name": "stdout",
     "output_type": "stream",
     "text": [
      "Results of Dickey-Fuller Test:\n",
      "Test Statistic                 -0.015922\n",
      "p-value                         0.957195\n",
      "#Lags Used                      8.000000\n",
      "Number of Observations Used    11.000000\n",
      "Critical Value (1%)            -4.223238\n",
      "Critical Value (5%)            -3.189369\n",
      "Critical Value (10%)           -2.729839\n",
      "dtype: float64\n"
     ]
    }
   ],
   "source": [
    "adf_test(df_for_causality['rel_sentiment'])"
   ]
  },
  {
   "cell_type": "code",
   "execution_count": 68,
   "metadata": {},
   "outputs": [
    {
     "name": "stdout",
     "output_type": "stream",
     "text": [
      "Results of Dickey-Fuller Test:\n",
      "Test Statistic                  1.688485\n",
      "p-value                         0.998100\n",
      "#Lags Used                      8.000000\n",
      "Number of Observations Used    11.000000\n",
      "Critical Value (1%)            -4.223238\n",
      "Critical Value (5%)            -3.189369\n",
      "Critical Value (10%)           -2.729839\n",
      "dtype: float64\n"
     ]
    }
   ],
   "source": [
    "adf_test(df_for_causality['abs_sentiment'])"
   ]
  },
  {
   "cell_type": "markdown",
   "metadata": {},
   "source": [
    "The relative and absolute sentiment ADFuller tests show that relative sentiment is stationary, but absolute sentiment is not."
   ]
  },
  {
   "cell_type": "code",
   "execution_count": 69,
   "metadata": {},
   "outputs": [
    {
     "name": "stdout",
     "output_type": "stream",
     "text": [
      "Results of Dickey-Fuller Test:\n",
      "Test Statistic                  5.962889\n",
      "p-value                         1.000000\n",
      "#Lags Used                      8.000000\n",
      "Number of Observations Used    11.000000\n",
      "Critical Value (1%)            -4.223238\n",
      "Critical Value (5%)            -3.189369\n",
      "Critical Value (10%)           -2.729839\n",
      "dtype: float64\n"
     ]
    }
   ],
   "source": [
    "adf_test(df_for_causality['pos'])"
   ]
  },
  {
   "cell_type": "code",
   "execution_count": 70,
   "metadata": {},
   "outputs": [
    {
     "name": "stdout",
     "output_type": "stream",
     "text": [
      "Results of Dickey-Fuller Test:\n",
      "Test Statistic                  3.165187\n",
      "p-value                         1.000000\n",
      "#Lags Used                      7.000000\n",
      "Number of Observations Used    12.000000\n",
      "Critical Value (1%)            -4.137829\n",
      "Critical Value (5%)            -3.154972\n",
      "Critical Value (10%)           -2.714477\n",
      "dtype: float64\n"
     ]
    }
   ],
   "source": [
    "adf_test(df_for_causality['neg'])"
   ]
  },
  {
   "cell_type": "markdown",
   "metadata": {},
   "source": [
    "The numbers of positive and negative tweets are not stationary. We log transform the positive and negative tweets columns in order to make them stationary."
   ]
  },
  {
   "cell_type": "code",
   "execution_count": 71,
   "metadata": {},
   "outputs": [],
   "source": [
    "df_for_causality['log_pos'] = np.log(df_for_causality['pos'])\\\n",
    "- np.log(df_for_causality['pos'].shift(1))\n",
    "df_for_causality['log_neg'] = np.log(df_for_causality['neg'])\\\n",
    "- np.log(df_for_causality['neg'].shift(1))"
   ]
  },
  {
   "cell_type": "code",
   "execution_count": 72,
   "metadata": {},
   "outputs": [],
   "source": [
    "df_for_causality.fillna(0, inplace=True)"
   ]
  },
  {
   "cell_type": "code",
   "execution_count": 73,
   "metadata": {},
   "outputs": [
    {
     "name": "stdout",
     "output_type": "stream",
     "text": [
      "Results of Dickey-Fuller Test:\n",
      "Test Statistic                  0.464289\n",
      "p-value                         0.983746\n",
      "#Lags Used                      7.000000\n",
      "Number of Observations Used    12.000000\n",
      "Critical Value (1%)            -4.137829\n",
      "Critical Value (5%)            -3.154972\n",
      "Critical Value (10%)           -2.714477\n",
      "dtype: float64\n"
     ]
    }
   ],
   "source": [
    "adf_test(df_for_causality['log_pos'])"
   ]
  },
  {
   "cell_type": "code",
   "execution_count": 74,
   "metadata": {},
   "outputs": [
    {
     "name": "stdout",
     "output_type": "stream",
     "text": [
      "Results of Dickey-Fuller Test:\n",
      "Test Statistic                 -4.701106\n",
      "p-value                         0.000084\n",
      "#Lags Used                      0.000000\n",
      "Number of Observations Used    19.000000\n",
      "Critical Value (1%)            -3.832603\n",
      "Critical Value (5%)            -3.031227\n",
      "Critical Value (10%)           -2.655520\n",
      "dtype: float64\n"
     ]
    }
   ],
   "source": [
    "adf_test(df_for_causality['log_neg'])"
   ]
  },
  {
   "cell_type": "markdown",
   "metadata": {},
   "source": [
    "The results have improved, but still we do not have complete stationarity. We will have to continue with current values, since we do not have a lot of data to play around with."
   ]
  },
  {
   "cell_type": "markdown",
   "metadata": {},
   "source": [
    "### 4.2 Granger-Causality of Stock Price with different variables"
   ]
  },
  {
   "cell_type": "markdown",
   "metadata": {},
   "source": [
    "We utilise Python's built-in implementation of granger causality to determine if the stock price is causally affected by different variables. We will go one by one through all the variables, with different lags. Since we have barely a month of day (less than 30 trading days), we will utilise 6 lag days."
   ]
  },
  {
   "cell_type": "code",
   "execution_count": 75,
   "metadata": {},
   "outputs": [],
   "source": [
    "from statsmodels.tsa.stattools import grangercausalitytests"
   ]
  },
  {
   "cell_type": "markdown",
   "metadata": {},
   "source": [
    "#### 4.2.1 Absolute Stock Price and Sentiment Variables"
   ]
  },
  {
   "cell_type": "code",
   "execution_count": 76,
   "metadata": {},
   "outputs": [
    {
     "name": "stdout",
     "output_type": "stream",
     "text": [
      "\n",
      "Granger Causality\n",
      "number of lags (no zero) 1\n",
      "ssr based F test:         F=0.7203  , p=0.4086  , df_denom=16, df_num=1\n",
      "ssr based chi2 test:   chi2=0.8554  , p=0.3550  , df=1\n",
      "likelihood ratio test: chi2=0.8367  , p=0.3603  , df=1\n",
      "parameter F test:         F=0.7203  , p=0.4086  , df_denom=16, df_num=1\n",
      "\n",
      "Granger Causality\n",
      "number of lags (no zero) 2\n",
      "ssr based F test:         F=0.8195  , p=0.4622  , df_denom=13, df_num=2\n",
      "ssr based chi2 test:   chi2=2.2695  , p=0.3215  , df=2\n",
      "likelihood ratio test: chi2=2.1374  , p=0.3435  , df=2\n",
      "parameter F test:         F=0.8195  , p=0.4622  , df_denom=13, df_num=2\n",
      "\n",
      "Granger Causality\n",
      "number of lags (no zero) 3\n",
      "ssr based F test:         F=0.4646  , p=0.7134  , df_denom=10, df_num=3\n",
      "ssr based chi2 test:   chi2=2.3693  , p=0.4994  , df=3\n",
      "likelihood ratio test: chi2=2.2181  , p=0.5284  , df=3\n",
      "parameter F test:         F=0.4646  , p=0.7134  , df_denom=10, df_num=3\n",
      "\n",
      "Granger Causality\n",
      "number of lags (no zero) 4\n",
      "ssr based F test:         F=0.2993  , p=0.8696  , df_denom=7, df_num=4\n",
      "ssr based chi2 test:   chi2=2.7362  , p=0.6029  , df=4\n",
      "likelihood ratio test: chi2=2.5259  , p=0.6400  , df=4\n",
      "parameter F test:         F=0.2993  , p=0.8696  , df_denom=7, df_num=4\n",
      "\n",
      "Granger Causality\n",
      "number of lags (no zero) 5\n",
      "ssr based F test:         F=0.5135  , p=0.7589  , df_denom=4, df_num=5\n",
      "ssr based chi2 test:   chi2=9.6277  , p=0.0865  , df=5\n",
      "likelihood ratio test: chi2=7.4373  , p=0.1901  , df=5\n",
      "parameter F test:         F=0.5135  , p=0.7589  , df_denom=4, df_num=5\n",
      "\n",
      "Granger Causality\n",
      "number of lags (no zero) 6\n",
      "ssr based F test:         F=0.8744  , p=0.6740  , df_denom=1, df_num=6\n",
      "ssr based chi2 test:   chi2=73.4512 , p=0.0000  , df=6\n",
      "likelihood ratio test: chi2=25.6483 , p=0.0003  , df=6\n",
      "parameter F test:         F=0.8744  , p=0.6740  , df_denom=1, df_num=6\n"
     ]
    }
   ],
   "source": [
    "granger_test_result = grangercausalitytests(\n",
    "    df_for_causality[['S&P 500 Top 50','rel_sentiment']].values,maxlag=6)"
   ]
  },
  {
   "cell_type": "code",
   "execution_count": 77,
   "metadata": {},
   "outputs": [
    {
     "name": "stdout",
     "output_type": "stream",
     "text": [
      "\n",
      "Granger Causality\n",
      "number of lags (no zero) 1\n",
      "ssr based F test:         F=0.2494  , p=0.6243  , df_denom=16, df_num=1\n",
      "ssr based chi2 test:   chi2=0.2962  , p=0.5863  , df=1\n",
      "likelihood ratio test: chi2=0.2939  , p=0.5877  , df=1\n",
      "parameter F test:         F=0.2494  , p=0.6243  , df_denom=16, df_num=1\n",
      "\n",
      "Granger Causality\n",
      "number of lags (no zero) 2\n",
      "ssr based F test:         F=0.2519  , p=0.7810  , df_denom=13, df_num=2\n",
      "ssr based chi2 test:   chi2=0.6975  , p=0.7056  , df=2\n",
      "likelihood ratio test: chi2=0.6844  , p=0.7102  , df=2\n",
      "parameter F test:         F=0.2519  , p=0.7810  , df_denom=13, df_num=2\n",
      "\n",
      "Granger Causality\n",
      "number of lags (no zero) 3\n",
      "ssr based F test:         F=0.1804  , p=0.9073  , df_denom=10, df_num=3\n",
      "ssr based chi2 test:   chi2=0.9200  , p=0.8206  , df=3\n",
      "likelihood ratio test: chi2=0.8960  , p=0.8264  , df=3\n",
      "parameter F test:         F=0.1804  , p=0.9073  , df_denom=10, df_num=3\n",
      "\n",
      "Granger Causality\n",
      "number of lags (no zero) 4\n",
      "ssr based F test:         F=0.1277  , p=0.9675  , df_denom=7, df_num=4\n",
      "ssr based chi2 test:   chi2=1.1677  , p=0.8834  , df=4\n",
      "likelihood ratio test: chi2=1.1271  , p=0.8900  , df=4\n",
      "parameter F test:         F=0.1277  , p=0.9675  , df_denom=7, df_num=4\n",
      "\n",
      "Granger Causality\n",
      "number of lags (no zero) 5\n",
      "ssr based F test:         F=0.3650  , p=0.8507  , df_denom=4, df_num=5\n",
      "ssr based chi2 test:   chi2=6.8433  , p=0.2326  , df=5\n",
      "likelihood ratio test: chi2=5.6376  , p=0.3431  , df=5\n",
      "parameter F test:         F=0.3650  , p=0.8507  , df_denom=4, df_num=5\n",
      "\n",
      "Granger Causality\n",
      "number of lags (no zero) 6\n",
      "ssr based F test:         F=0.1216  , p=0.9715  , df_denom=1, df_num=6\n",
      "ssr based chi2 test:   chi2=10.2106 , p=0.1161  , df=6\n",
      "likelihood ratio test: chi2=7.6683  , p=0.2634  , df=6\n",
      "parameter F test:         F=0.1216  , p=0.9715  , df_denom=1, df_num=6\n"
     ]
    }
   ],
   "source": [
    "granger_test_result = grangercausalitytests(\n",
    "    df_for_causality[['S&P 500 Top 50','abs_sentiment']].values,maxlag=6)"
   ]
  },
  {
   "cell_type": "code",
   "execution_count": 78,
   "metadata": {},
   "outputs": [
    {
     "name": "stdout",
     "output_type": "stream",
     "text": [
      "\n",
      "Granger Causality\n",
      "number of lags (no zero) 1\n",
      "ssr based F test:         F=0.5036  , p=0.4881  , df_denom=16, df_num=1\n",
      "ssr based chi2 test:   chi2=0.5980  , p=0.4393  , df=1\n",
      "likelihood ratio test: chi2=0.5888  , p=0.4429  , df=1\n",
      "parameter F test:         F=0.5036  , p=0.4881  , df_denom=16, df_num=1\n",
      "\n",
      "Granger Causality\n",
      "number of lags (no zero) 2\n",
      "ssr based F test:         F=0.2143  , p=0.8099  , df_denom=13, df_num=2\n",
      "ssr based chi2 test:   chi2=0.5935  , p=0.7432  , df=2\n",
      "likelihood ratio test: chi2=0.5840  , p=0.7468  , df=2\n",
      "parameter F test:         F=0.2143  , p=0.8099  , df_denom=13, df_num=2\n",
      "\n",
      "Granger Causality\n",
      "number of lags (no zero) 3\n",
      "ssr based F test:         F=0.2310  , p=0.8727  , df_denom=10, df_num=3\n",
      "ssr based chi2 test:   chi2=1.1782  , p=0.7582  , df=3\n",
      "likelihood ratio test: chi2=1.1391  , p=0.7676  , df=3\n",
      "parameter F test:         F=0.2310  , p=0.8727  , df_denom=10, df_num=3\n",
      "\n",
      "Granger Causality\n",
      "number of lags (no zero) 4\n",
      "ssr based F test:         F=0.0935  , p=0.9814  , df_denom=7, df_num=4\n",
      "ssr based chi2 test:   chi2=0.8545  , p=0.9310  , df=4\n",
      "likelihood ratio test: chi2=0.8324  , p=0.9340  , df=4\n",
      "parameter F test:         F=0.0935  , p=0.9814  , df_denom=7, df_num=4\n",
      "\n",
      "Granger Causality\n",
      "number of lags (no zero) 5\n",
      "ssr based F test:         F=0.4437  , p=0.8017  , df_denom=4, df_num=5\n",
      "ssr based chi2 test:   chi2=8.3189  , p=0.1395  , df=5\n",
      "likelihood ratio test: chi2=6.6182  , p=0.2506  , df=5\n",
      "parameter F test:         F=0.4437  , p=0.8017  , df_denom=4, df_num=5\n",
      "\n",
      "Granger Causality\n",
      "number of lags (no zero) 6\n",
      "ssr based F test:         F=0.9518  , p=0.6551  , df_denom=1, df_num=6\n",
      "ssr based chi2 test:   chi2=79.9530 , p=0.0000  , df=6\n",
      "likelihood ratio test: chi2=26.6523 , p=0.0002  , df=6\n",
      "parameter F test:         F=0.9518  , p=0.6551  , df_denom=1, df_num=6\n"
     ]
    }
   ],
   "source": [
    "granger_test_result = grangercausalitytests(\n",
    "    df_for_causality[['S&P 500 Top 50','pos']].values,maxlag=6)"
   ]
  },
  {
   "cell_type": "code",
   "execution_count": 79,
   "metadata": {},
   "outputs": [
    {
     "name": "stdout",
     "output_type": "stream",
     "text": [
      "\n",
      "Granger Causality\n",
      "number of lags (no zero) 1\n",
      "ssr based F test:         F=0.6617  , p=0.4279  , df_denom=16, df_num=1\n",
      "ssr based chi2 test:   chi2=0.7857  , p=0.3754  , df=1\n",
      "likelihood ratio test: chi2=0.7699  , p=0.3802  , df=1\n",
      "parameter F test:         F=0.6617  , p=0.4279  , df_denom=16, df_num=1\n",
      "\n",
      "Granger Causality\n",
      "number of lags (no zero) 2\n",
      "ssr based F test:         F=0.2401  , p=0.7900  , df_denom=13, df_num=2\n",
      "ssr based chi2 test:   chi2=0.6648  , p=0.7172  , df=2\n",
      "likelihood ratio test: chi2=0.6528  , p=0.7215  , df=2\n",
      "parameter F test:         F=0.2401  , p=0.7900  , df_denom=13, df_num=2\n",
      "\n",
      "Granger Causality\n",
      "number of lags (no zero) 3\n",
      "ssr based F test:         F=0.2726  , p=0.8438  , df_denom=10, df_num=3\n",
      "ssr based chi2 test:   chi2=1.3904  , p=0.7078  , df=3\n",
      "likelihood ratio test: chi2=1.3365  , p=0.7205  , df=3\n",
      "parameter F test:         F=0.2726  , p=0.8438  , df_denom=10, df_num=3\n",
      "\n",
      "Granger Causality\n",
      "number of lags (no zero) 4\n",
      "ssr based F test:         F=0.1317  , p=0.9657  , df_denom=7, df_num=4\n",
      "ssr based chi2 test:   chi2=1.2042  , p=0.8774  , df=4\n",
      "likelihood ratio test: chi2=1.1611  , p=0.8845  , df=4\n",
      "parameter F test:         F=0.1317  , p=0.9657  , df_denom=7, df_num=4\n",
      "\n",
      "Granger Causality\n",
      "number of lags (no zero) 5\n",
      "ssr based F test:         F=2.2401  , p=0.2273  , df_denom=4, df_num=5\n",
      "ssr based chi2 test:   chi2=42.0013 , p=0.0000  , df=5\n",
      "likelihood ratio test: chi2=20.0253 , p=0.0012  , df=5\n",
      "parameter F test:         F=2.2401  , p=0.2273  , df_denom=4, df_num=5\n",
      "\n",
      "Granger Causality\n",
      "number of lags (no zero) 6\n",
      "ssr based F test:         F=26.8417 , p=0.1467  , df_denom=1, df_num=6\n",
      "ssr based chi2 test:   chi2=2254.7065, p=0.0000  , df=6\n",
      "likelihood ratio test: chi2=71.2307 , p=0.0000  , df=6\n",
      "parameter F test:         F=26.8417 , p=0.1467  , df_denom=1, df_num=6\n"
     ]
    }
   ],
   "source": [
    "granger_test_result = grangercausalitytests(\n",
    "    df_for_causality[['S&P 500 Top 50','neg']].values,maxlag=6)"
   ]
  },
  {
   "cell_type": "markdown",
   "metadata": {},
   "source": [
    "The Granger-Causality F-test shows that we can not conclude absolute stock price is caused by absolute or relative sentiment, as well as number of positive and negative tweets, for any lag number."
   ]
  },
  {
   "cell_type": "markdown",
   "metadata": {},
   "source": [
    "#### 4.2.2 Log-Return Stock Price and Sentiment Variables"
   ]
  },
  {
   "cell_type": "code",
   "execution_count": 80,
   "metadata": {},
   "outputs": [
    {
     "name": "stdout",
     "output_type": "stream",
     "text": [
      "\n",
      "Granger Causality\n",
      "number of lags (no zero) 1\n",
      "ssr based F test:         F=0.0038  , p=0.9514  , df_denom=16, df_num=1\n",
      "ssr based chi2 test:   chi2=0.0045  , p=0.9463  , df=1\n",
      "likelihood ratio test: chi2=0.0045  , p=0.9463  , df=1\n",
      "parameter F test:         F=0.0038  , p=0.9514  , df_denom=16, df_num=1\n",
      "\n",
      "Granger Causality\n",
      "number of lags (no zero) 2\n",
      "ssr based F test:         F=0.0503  , p=0.9511  , df_denom=13, df_num=2\n",
      "ssr based chi2 test:   chi2=0.1392  , p=0.9327  , df=2\n",
      "likelihood ratio test: chi2=0.1387  , p=0.9330  , df=2\n",
      "parameter F test:         F=0.0503  , p=0.9511  , df_denom=13, df_num=2\n",
      "\n",
      "Granger Causality\n",
      "number of lags (no zero) 3\n",
      "ssr based F test:         F=0.0515  , p=0.9837  , df_denom=10, df_num=3\n",
      "ssr based chi2 test:   chi2=0.2627  , p=0.9669  , df=3\n",
      "likelihood ratio test: chi2=0.2607  , p=0.9672  , df=3\n",
      "parameter F test:         F=0.0515  , p=0.9837  , df_denom=10, df_num=3\n",
      "\n",
      "Granger Causality\n",
      "number of lags (no zero) 4\n",
      "ssr based F test:         F=0.2261  , p=0.9153  , df_denom=7, df_num=4\n",
      "ssr based chi2 test:   chi2=2.0669  , p=0.7235  , df=4\n",
      "likelihood ratio test: chi2=1.9439  , p=0.7461  , df=4\n",
      "parameter F test:         F=0.2261  , p=0.9153  , df_denom=7, df_num=4\n",
      "\n",
      "Granger Causality\n",
      "number of lags (no zero) 5\n",
      "ssr based F test:         F=0.5461  , p=0.7394  , df_denom=4, df_num=5\n",
      "ssr based chi2 test:   chi2=10.2385 , p=0.0688  , df=5\n",
      "likelihood ratio test: chi2=7.8048  , p=0.1673  , df=5\n",
      "parameter F test:         F=0.5461  , p=0.7394  , df_denom=4, df_num=5\n",
      "\n",
      "Granger Causality\n",
      "number of lags (no zero) 6\n",
      "ssr based F test:         F=0.0902  , p=0.9842  , df_denom=1, df_num=6\n",
      "ssr based chi2 test:   chi2=7.5747  , p=0.2709  , df=6\n",
      "likelihood ratio test: chi2=6.0545  , p=0.4171  , df=6\n",
      "parameter F test:         F=0.0902  , p=0.9842  , df_denom=1, df_num=6\n"
     ]
    }
   ],
   "source": [
    "granger_test_result = grangercausalitytests(\n",
    "    df_for_causality[['log_ret','rel_sentiment']].values,maxlag=6)"
   ]
  },
  {
   "cell_type": "code",
   "execution_count": 81,
   "metadata": {},
   "outputs": [
    {
     "name": "stdout",
     "output_type": "stream",
     "text": [
      "\n",
      "Granger Causality\n",
      "number of lags (no zero) 1\n",
      "ssr based F test:         F=0.0303  , p=0.8640  , df_denom=16, df_num=1\n",
      "ssr based chi2 test:   chi2=0.0360  , p=0.8496  , df=1\n",
      "likelihood ratio test: chi2=0.0359  , p=0.8497  , df=1\n",
      "parameter F test:         F=0.0303  , p=0.8640  , df_denom=16, df_num=1\n",
      "\n",
      "Granger Causality\n",
      "number of lags (no zero) 2\n",
      "ssr based F test:         F=0.0521  , p=0.9494  , df_denom=13, df_num=2\n",
      "ssr based chi2 test:   chi2=0.1444  , p=0.9304  , df=2\n",
      "likelihood ratio test: chi2=0.1438  , p=0.9306  , df=2\n",
      "parameter F test:         F=0.0521  , p=0.9494  , df_denom=13, df_num=2\n",
      "\n",
      "Granger Causality\n",
      "number of lags (no zero) 3\n",
      "ssr based F test:         F=0.1394  , p=0.9341  , df_denom=10, df_num=3\n",
      "ssr based chi2 test:   chi2=0.7109  , p=0.8706  , df=3\n",
      "likelihood ratio test: chi2=0.6965  , p=0.8740  , df=3\n",
      "parameter F test:         F=0.1394  , p=0.9341  , df_denom=10, df_num=3\n",
      "\n",
      "Granger Causality\n",
      "number of lags (no zero) 4\n",
      "ssr based F test:         F=0.1916  , p=0.9353  , df_denom=7, df_num=4\n",
      "ssr based chi2 test:   chi2=1.7514  , p=0.7814  , df=4\n",
      "likelihood ratio test: chi2=1.6620  , p=0.7976  , df=4\n",
      "parameter F test:         F=0.1916  , p=0.9353  , df_denom=7, df_num=4\n",
      "\n",
      "Granger Causality\n",
      "number of lags (no zero) 5\n",
      "ssr based F test:         F=0.2252  , p=0.9333  , df_denom=4, df_num=5\n",
      "ssr based chi2 test:   chi2=4.2228  , p=0.5178  , df=5\n",
      "likelihood ratio test: chi2=3.7207  , p=0.5903  , df=5\n",
      "parameter F test:         F=0.2252  , p=0.9333  , df_denom=4, df_num=5\n",
      "\n",
      "Granger Causality\n",
      "number of lags (no zero) 6\n",
      "ssr based F test:         F=0.0507  , p=0.9956  , df_denom=1, df_num=6\n",
      "ssr based chi2 test:   chi2=4.2621  , p=0.6413  , df=6\n",
      "likelihood ratio test: chi2=3.7208  , p=0.7144  , df=6\n",
      "parameter F test:         F=0.0507  , p=0.9956  , df_denom=1, df_num=6\n"
     ]
    }
   ],
   "source": [
    "granger_test_result = grangercausalitytests(\n",
    "    df_for_causality[['log_ret','abs_sentiment']].values,maxlag=6)"
   ]
  },
  {
   "cell_type": "code",
   "execution_count": 82,
   "metadata": {},
   "outputs": [
    {
     "name": "stdout",
     "output_type": "stream",
     "text": [
      "\n",
      "Granger Causality\n",
      "number of lags (no zero) 1\n",
      "ssr based F test:         F=0.0401  , p=0.8439  , df_denom=16, df_num=1\n",
      "ssr based chi2 test:   chi2=0.0476  , p=0.8273  , df=1\n",
      "likelihood ratio test: chi2=0.0475  , p=0.8274  , df=1\n",
      "parameter F test:         F=0.0401  , p=0.8439  , df_denom=16, df_num=1\n",
      "\n",
      "Granger Causality\n",
      "number of lags (no zero) 2\n",
      "ssr based F test:         F=0.0039  , p=0.9961  , df_denom=13, df_num=2\n",
      "ssr based chi2 test:   chi2=0.0107  , p=0.9947  , df=2\n",
      "likelihood ratio test: chi2=0.0107  , p=0.9947  , df=2\n",
      "parameter F test:         F=0.0039  , p=0.9961  , df_denom=13, df_num=2\n",
      "\n",
      "Granger Causality\n",
      "number of lags (no zero) 3\n",
      "ssr based F test:         F=0.1386  , p=0.9346  , df_denom=10, df_num=3\n",
      "ssr based chi2 test:   chi2=0.7068  , p=0.8716  , df=3\n",
      "likelihood ratio test: chi2=0.6925  , p=0.8750  , df=3\n",
      "parameter F test:         F=0.1386  , p=0.9346  , df_denom=10, df_num=3\n",
      "\n",
      "Granger Causality\n",
      "number of lags (no zero) 4\n",
      "ssr based F test:         F=0.1008  , p=0.9787  , df_denom=7, df_num=4\n",
      "ssr based chi2 test:   chi2=0.9212  , p=0.9215  , df=4\n",
      "likelihood ratio test: chi2=0.8956  , p=0.9252  , df=4\n",
      "parameter F test:         F=0.1008  , p=0.9787  , df_denom=7, df_num=4\n",
      "\n",
      "Granger Causality\n",
      "number of lags (no zero) 5\n",
      "ssr based F test:         F=0.3105  , p=0.8842  , df_denom=4, df_num=5\n",
      "ssr based chi2 test:   chi2=5.8225  , p=0.3239  , df=5\n",
      "likelihood ratio test: chi2=4.9197  , p=0.4258  , df=5\n",
      "parameter F test:         F=0.3105  , p=0.8842  , df_denom=4, df_num=5\n",
      "\n",
      "Granger Causality\n",
      "number of lags (no zero) 6\n",
      "ssr based F test:         F=0.0305  , p=0.9988  , df_denom=1, df_num=6\n",
      "ssr based chi2 test:   chi2=2.5598  , p=0.8617  , df=6\n",
      "likelihood ratio test: chi2=2.3509  , p=0.8848  , df=6\n",
      "parameter F test:         F=0.0305  , p=0.9988  , df_denom=1, df_num=6\n"
     ]
    }
   ],
   "source": [
    "granger_test_result = grangercausalitytests(\n",
    "    df_for_causality[['log_ret','pos']].values,maxlag=6)"
   ]
  },
  {
   "cell_type": "code",
   "execution_count": 83,
   "metadata": {},
   "outputs": [
    {
     "name": "stdout",
     "output_type": "stream",
     "text": [
      "\n",
      "Granger Causality\n",
      "number of lags (no zero) 1\n",
      "ssr based F test:         F=0.0428  , p=0.8387  , df_denom=16, df_num=1\n",
      "ssr based chi2 test:   chi2=0.0509  , p=0.8216  , df=1\n",
      "likelihood ratio test: chi2=0.0508  , p=0.8217  , df=1\n",
      "parameter F test:         F=0.0428  , p=0.8387  , df_denom=16, df_num=1\n",
      "\n",
      "Granger Causality\n",
      "number of lags (no zero) 2\n",
      "ssr based F test:         F=0.0034  , p=0.9966  , df_denom=13, df_num=2\n",
      "ssr based chi2 test:   chi2=0.0093  , p=0.9954  , df=2\n",
      "likelihood ratio test: chi2=0.0093  , p=0.9954  , df=2\n",
      "parameter F test:         F=0.0034  , p=0.9966  , df_denom=13, df_num=2\n",
      "\n",
      "Granger Causality\n",
      "number of lags (no zero) 3\n",
      "ssr based F test:         F=0.0977  , p=0.9595  , df_denom=10, df_num=3\n",
      "ssr based chi2 test:   chi2=0.4983  , p=0.9193  , df=3\n",
      "likelihood ratio test: chi2=0.4911  , p=0.9208  , df=3\n",
      "parameter F test:         F=0.0977  , p=0.9595  , df_denom=10, df_num=3\n",
      "\n",
      "Granger Causality\n",
      "number of lags (no zero) 4\n",
      "ssr based F test:         F=0.0755  , p=0.9874  , df_denom=7, df_num=4\n",
      "ssr based chi2 test:   chi2=0.6906  , p=0.9525  , df=4\n",
      "likelihood ratio test: chi2=0.6761  , p=0.9542  , df=4\n",
      "parameter F test:         F=0.0755  , p=0.9874  , df_denom=7, df_num=4\n",
      "\n",
      "Granger Causality\n",
      "number of lags (no zero) 5\n",
      "ssr based F test:         F=0.5270  , p=0.7508  , df_denom=4, df_num=5\n",
      "ssr based chi2 test:   chi2=9.8821  , p=0.0786  , df=5\n",
      "likelihood ratio test: chi2=7.5915  , p=0.1802  , df=5\n",
      "parameter F test:         F=0.5270  , p=0.7508  , df_denom=4, df_num=5\n",
      "\n",
      "Granger Causality\n",
      "number of lags (no zero) 6\n",
      "ssr based F test:         F=0.6473  , p=0.7397  , df_denom=1, df_num=6\n",
      "ssr based chi2 test:   chi2=54.3713 , p=0.0000  , df=6\n",
      "likelihood ratio test: chi2=22.2025 , p=0.0011  , df=6\n",
      "parameter F test:         F=0.6473  , p=0.7397  , df_denom=1, df_num=6\n"
     ]
    }
   ],
   "source": [
    "granger_test_result = grangercausalitytests(\n",
    "    df_for_causality[['log_ret','neg']].values,maxlag=6)"
   ]
  },
  {
   "cell_type": "code",
   "execution_count": 84,
   "metadata": {},
   "outputs": [
    {
     "name": "stdout",
     "output_type": "stream",
     "text": [
      "\n",
      "Granger Causality\n",
      "number of lags (no zero) 1\n",
      "ssr based F test:         F=0.0213  , p=0.8858  , df_denom=16, df_num=1\n",
      "ssr based chi2 test:   chi2=0.0253  , p=0.8737  , df=1\n",
      "likelihood ratio test: chi2=0.0252  , p=0.8737  , df=1\n",
      "parameter F test:         F=0.0213  , p=0.8858  , df_denom=16, df_num=1\n",
      "\n",
      "Granger Causality\n",
      "number of lags (no zero) 2\n",
      "ssr based F test:         F=0.2480  , p=0.7839  , df_denom=13, df_num=2\n",
      "ssr based chi2 test:   chi2=0.6869  , p=0.7093  , df=2\n",
      "likelihood ratio test: chi2=0.6741  , p=0.7139  , df=2\n",
      "parameter F test:         F=0.2480  , p=0.7839  , df_denom=13, df_num=2\n",
      "\n",
      "Granger Causality\n",
      "number of lags (no zero) 3\n",
      "ssr based F test:         F=0.1377  , p=0.9352  , df_denom=10, df_num=3\n",
      "ssr based chi2 test:   chi2=0.7023  , p=0.8727  , df=3\n",
      "likelihood ratio test: chi2=0.6881  , p=0.8760  , df=3\n",
      "parameter F test:         F=0.1377  , p=0.9352  , df_denom=10, df_num=3\n",
      "\n",
      "Granger Causality\n",
      "number of lags (no zero) 4\n",
      "ssr based F test:         F=0.1120  , p=0.9743  , df_denom=7, df_num=4\n",
      "ssr based chi2 test:   chi2=1.0243  , p=0.9061  , df=4\n",
      "likelihood ratio test: chi2=0.9929  , p=0.9109  , df=4\n",
      "parameter F test:         F=0.1120  , p=0.9743  , df_denom=7, df_num=4\n",
      "\n",
      "Granger Causality\n",
      "number of lags (no zero) 5\n",
      "ssr based F test:         F=0.6165  , p=0.6986  , df_denom=4, df_num=5\n",
      "ssr based chi2 test:   chi2=11.5590 , p=0.0414  , df=5\n",
      "likelihood ratio test: chi2=8.5698  , p=0.1275  , df=5\n",
      "parameter F test:         F=0.6165  , p=0.6986  , df_denom=4, df_num=5\n",
      "\n",
      "Granger Causality\n",
      "number of lags (no zero) 6\n",
      "ssr based F test:         F=0.9675  , p=0.6515  , df_denom=1, df_num=6\n",
      "ssr based chi2 test:   chi2=81.2681 , p=0.0000  , df=6\n",
      "likelihood ratio test: chi2=26.8469 , p=0.0002  , df=6\n",
      "parameter F test:         F=0.9675  , p=0.6515  , df_denom=1, df_num=6\n"
     ]
    }
   ],
   "source": [
    "granger_test_result = grangercausalitytests(\n",
    "    df_for_causality[['log_ret','log_pos']].values,maxlag=6)"
   ]
  },
  {
   "cell_type": "code",
   "execution_count": 85,
   "metadata": {},
   "outputs": [
    {
     "name": "stdout",
     "output_type": "stream",
     "text": [
      "\n",
      "Granger Causality\n",
      "number of lags (no zero) 1\n",
      "ssr based F test:         F=0.0031  , p=0.9566  , df_denom=16, df_num=1\n",
      "ssr based chi2 test:   chi2=0.0036  , p=0.9519  , df=1\n",
      "likelihood ratio test: chi2=0.0036  , p=0.9519  , df=1\n",
      "parameter F test:         F=0.0031  , p=0.9566  , df_denom=16, df_num=1\n",
      "\n",
      "Granger Causality\n",
      "number of lags (no zero) 2\n",
      "ssr based F test:         F=0.1579  , p=0.8556  , df_denom=13, df_num=2\n",
      "ssr based chi2 test:   chi2=0.4372  , p=0.8037  , df=2\n",
      "likelihood ratio test: chi2=0.4319  , p=0.8058  , df=2\n",
      "parameter F test:         F=0.1579  , p=0.8556  , df_denom=13, df_num=2\n",
      "\n",
      "Granger Causality\n",
      "number of lags (no zero) 3\n",
      "ssr based F test:         F=0.1015  , p=0.9573  , df_denom=10, df_num=3\n",
      "ssr based chi2 test:   chi2=0.5175  , p=0.9150  , df=3\n",
      "likelihood ratio test: chi2=0.5098  , p=0.9167  , df=3\n",
      "parameter F test:         F=0.1015  , p=0.9573  , df_denom=10, df_num=3\n",
      "\n",
      "Granger Causality\n",
      "number of lags (no zero) 4\n",
      "ssr based F test:         F=0.0560  , p=0.9928  , df_denom=7, df_num=4\n",
      "ssr based chi2 test:   chi2=0.5117  , p=0.9723  , df=4\n",
      "likelihood ratio test: chi2=0.5037  , p=0.9731  , df=4\n",
      "parameter F test:         F=0.0560  , p=0.9928  , df_denom=7, df_num=4\n",
      "\n",
      "Granger Causality\n",
      "number of lags (no zero) 5\n",
      "ssr based F test:         F=1.3459  , p=0.3981  , df_denom=4, df_num=5\n",
      "ssr based chi2 test:   chi2=25.2352 , p=0.0001  , df=5\n",
      "likelihood ratio test: chi2=14.8004 , p=0.0113  , df=5\n",
      "parameter F test:         F=1.3459  , p=0.3981  , df_denom=4, df_num=5\n",
      "\n",
      "Granger Causality\n",
      "number of lags (no zero) 6\n",
      "ssr based F test:         F=15.4213 , p=0.1925  , df_denom=1, df_num=6\n",
      "ssr based chi2 test:   chi2=1295.3927, p=0.0000  , df=6\n",
      "likelihood ratio test: chi2=63.5357 , p=0.0000  , df=6\n",
      "parameter F test:         F=15.4213 , p=0.1925  , df_denom=1, df_num=6\n"
     ]
    }
   ],
   "source": [
    "granger_test_result = grangercausalitytests(\n",
    "    df_for_causality[['log_ret','log_neg']].values,maxlag=6)"
   ]
  },
  {
   "cell_type": "markdown",
   "metadata": {},
   "source": [
    "Similar to absolute stock price case, we cannot reject the null hypothesis that log return of stock prices is not granger-caused by sentiment variables."
   ]
  },
  {
   "cell_type": "markdown",
   "metadata": {},
   "source": [
    "### 4.3 Vector Autoregressive (VAR) model for Multivariate Timeseries"
   ]
  },
  {
   "cell_type": "markdown",
   "metadata": {},
   "source": [
    "A Vector Autoregressive model is used to determine linear regression equation for multivariate time series, depending on number of lag days."
   ]
  },
  {
   "cell_type": "markdown",
   "metadata": {},
   "source": [
    "#### 4.3.1 Model with Log-Return and Log-Variables"
   ]
  },
  {
   "cell_type": "code",
   "execution_count": 106,
   "metadata": {},
   "outputs": [],
   "source": [
    "var_model = df_for_causality[['log_ret', 'rel_sentiment', 'log_pos', 'log_neg']]"
   ]
  },
  {
   "cell_type": "code",
   "execution_count": 107,
   "metadata": {},
   "outputs": [],
   "source": [
    "from statsmodels.tsa.vector_ar.var_model import VAR\n",
    "from statsmodels.tsa.vector_ar.var_model import VARResults\n",
    "\n",
    "model = VAR(endog=var_model, freq='B')\n",
    "model_fit = model.fit(2)"
   ]
  },
  {
   "cell_type": "code",
   "execution_count": 108,
   "metadata": {},
   "outputs": [
    {
     "data": {
      "text/html": [
       "<table class=\"simpletable\">\n",
       "<caption>Granger causality F-test. H_0: %s do not Granger-cause log_ret. Conclusion: fail to reject H_0 at 5% significance level.</caption>\n",
       "<tr>\n",
       "  <th>Test statistic</th> <th>Critical value</th> <th>p-value</th>   <th>df</th>   \n",
       "</tr>\n",
       "<tr>\n",
       "      <td>0.09423</td>         <td>2.364</td>      <td>0.997</td>  <td>(6, 36)</td>\n",
       "</tr>\n",
       "</table>"
      ],
      "text/plain": [
       "<class 'statsmodels.iolib.table.SimpleTable'>"
      ]
     },
     "execution_count": 108,
     "metadata": {},
     "output_type": "execute_result"
    }
   ],
   "source": [
    "model_fit.test_causality('log_ret', ['rel_sentiment', 'log_pos', 'log_neg']\n",
    "                         , kind='f').summary()"
   ]
  },
  {
   "cell_type": "code",
   "execution_count": 109,
   "metadata": {},
   "outputs": [
    {
     "data": {
      "text/plain": [
       "  Summary of Regression Results   \n",
       "==================================\n",
       "Model:                         VAR\n",
       "Method:                        OLS\n",
       "Date:           Tue, 09, Apr, 2019\n",
       "Time:                     08:41:20\n",
       "--------------------------------------------------------------------\n",
       "No. of Equations:         4.00000    BIC:                   -25.0054\n",
       "Nobs:                     18.0000    HQIC:                  -26.5406\n",
       "Log likelihood:           174.912    FPE:                3.45334e-12\n",
       "AIC:                     -26.7861    Det(Omega_mle):     6.82141e-13\n",
       "--------------------------------------------------------------------\n",
       "Results for equation log_ret\n",
       "===================================================================================\n",
       "                      coefficient       std. error           t-stat            prob\n",
       "-----------------------------------------------------------------------------------\n",
       "const                    0.003497         0.006630            0.527           0.598\n",
       "L1.log_ret              -0.020005         0.408699           -0.049           0.961\n",
       "L1.rel_sentiment        -0.571278         1.499868           -0.381           0.703\n",
       "L1.log_pos               0.272352         0.720989            0.378           0.706\n",
       "L1.log_neg              -0.274828         0.722578           -0.380           0.704\n",
       "L2.log_ret              -0.180499         0.393379           -0.459           0.646\n",
       "L2.rel_sentiment         0.566346         1.496945            0.378           0.705\n",
       "L2.log_pos              -0.005597         0.015027           -0.372           0.710\n",
       "L2.log_neg               0.001305         0.013547            0.096           0.923\n",
       "===================================================================================\n",
       "\n",
       "Results for equation rel_sentiment\n",
       "===================================================================================\n",
       "                      coefficient       std. error           t-stat            prob\n",
       "-----------------------------------------------------------------------------------\n",
       "const                    0.130115         0.043886            2.965           0.003\n",
       "L1.log_ret              -6.668896         2.705442           -2.465           0.014\n",
       "L1.rel_sentiment        18.387918         9.928594            1.852           0.064\n",
       "L1.log_pos              -8.741857         4.772693           -1.832           0.067\n",
       "L1.log_neg               8.652567         4.783214            1.809           0.070\n",
       "L2.log_ret              -8.527775         2.604028           -3.275           0.001\n",
       "L2.rel_sentiment       -17.938214         9.909249           -1.810           0.070\n",
       "L2.log_pos               0.100246         0.099474            1.008           0.314\n",
       "L2.log_neg              -0.091309         0.089674           -1.018           0.309\n",
       "===================================================================================\n",
       "\n",
       "Results for equation log_pos\n",
       "===================================================================================\n",
       "                      coefficient       std. error           t-stat            prob\n",
       "-----------------------------------------------------------------------------------\n",
       "const                    0.135352         0.276947            0.489           0.625\n",
       "L1.log_ret             -36.752022        17.072921           -2.153           0.031\n",
       "L1.rel_sentiment        80.629195        62.655249            1.287           0.198\n",
       "L1.log_pos             -38.822338        30.118487           -1.289           0.197\n",
       "L1.log_neg              38.814169        30.184885            1.286           0.198\n",
       "L2.log_ret              19.273538        16.432944            1.173           0.241\n",
       "L2.rel_sentiment       -80.571870        62.533168           -1.288           0.198\n",
       "L2.log_pos               0.479895         0.627738            0.764           0.445\n",
       "L2.log_neg              -0.579491         0.565896           -1.024           0.306\n",
       "===================================================================================\n",
       "\n",
       "Results for equation log_neg\n",
       "===================================================================================\n",
       "                      coefficient       std. error           t-stat            prob\n",
       "-----------------------------------------------------------------------------------\n",
       "const                   -0.131181         0.334239           -0.392           0.695\n",
       "L1.log_ret             -22.661738        20.604841           -1.100           0.271\n",
       "L1.rel_sentiment        43.384963        75.616902            0.574           0.566\n",
       "L1.log_pos             -20.128602        36.349177           -0.554           0.580\n",
       "L1.log_neg              20.300524        36.429310            0.557           0.577\n",
       "L2.log_ret              36.784057        19.832469            1.855           0.064\n",
       "L2.rel_sentiment       -42.192473        75.469566           -0.559           0.576\n",
       "L2.log_pos               0.265029         0.757600            0.350           0.726\n",
       "L2.log_neg              -0.385015         0.682964           -0.564           0.573\n",
       "===================================================================================\n",
       "\n",
       "Correlation matrix of residuals\n",
       "                  log_ret  rel_sentiment   log_pos   log_neg\n",
       "log_ret          1.000000      -0.361675  0.311036  0.361437\n",
       "rel_sentiment   -0.361675       1.000000 -0.518254 -0.702409\n",
       "log_pos          0.311036      -0.518254  1.000000  0.972711\n",
       "log_neg          0.361437      -0.702409  0.972711  1.000000\n",
       "\n"
      ]
     },
     "execution_count": 109,
     "metadata": {},
     "output_type": "execute_result"
    }
   ],
   "source": [
    "model_fit.summary()"
   ]
  },
  {
   "cell_type": "markdown",
   "metadata": {},
   "source": [
    "We see that log return is not statistically significant with any of our chosen variables. However, their predict power cannot be ruled out."
   ]
  },
  {
   "cell_type": "markdown",
   "metadata": {},
   "source": [
    "#### 4.3.2 Model with Log Return and Absolute Sentiment Variables"
   ]
  },
  {
   "cell_type": "code",
   "execution_count": 110,
   "metadata": {},
   "outputs": [],
   "source": [
    "var_model = df_for_causality[['log_ret', 'rel_sentiment', 'pos', 'neg']]"
   ]
  },
  {
   "cell_type": "code",
   "execution_count": 111,
   "metadata": {},
   "outputs": [],
   "source": [
    "from statsmodels.tsa.vector_ar.var_model import VAR\n",
    "from statsmodels.tsa.vector_ar.var_model import VARResults\n",
    "\n",
    "model = VAR(endog=var_model, freq='B')\n",
    "model_fit = model.fit(2)"
   ]
  },
  {
   "cell_type": "code",
   "execution_count": 112,
   "metadata": {},
   "outputs": [
    {
     "data": {
      "text/html": [
       "<table class=\"simpletable\">\n",
       "<caption>Granger causality F-test. H_0: %s do not Granger-cause log_ret. Conclusion: fail to reject H_0 at 5% significance level.</caption>\n",
       "<tr>\n",
       "  <th>Test statistic</th> <th>Critical value</th> <th>p-value</th>   <th>df</th>   \n",
       "</tr>\n",
       "<tr>\n",
       "      <td>0.1653</td>          <td>2.364</td>      <td>0.984</td>  <td>(6, 36)</td>\n",
       "</tr>\n",
       "</table>"
      ],
      "text/plain": [
       "<class 'statsmodels.iolib.table.SimpleTable'>"
      ]
     },
     "execution_count": 112,
     "metadata": {},
     "output_type": "execute_result"
    }
   ],
   "source": [
    "model_fit.test_causality('log_ret', ['rel_sentiment', 'pos', 'neg']\n",
    "                         , kind='f').summary()"
   ]
  },
  {
   "cell_type": "code",
   "execution_count": 113,
   "metadata": {},
   "outputs": [
    {
     "data": {
      "text/plain": [
       "  Summary of Regression Results   \n",
       "==================================\n",
       "Model:                         VAR\n",
       "Method:                        OLS\n",
       "Date:           Tue, 09, Apr, 2019\n",
       "Time:                     08:43:24\n",
       "--------------------------------------------------------------------\n",
       "No. of Equations:         4.00000    BIC:                    21.6825\n",
       "Nobs:                     18.0000    HQIC:                   20.1473\n",
       "Log likelihood:          -245.280    FPE:                6.52444e+08\n",
       "AIC:                      19.9018    Det(Omega_mle):     1.28878e+08\n",
       "--------------------------------------------------------------------\n",
       "Results for equation log_ret\n",
       "===================================================================================\n",
       "                      coefficient       std. error           t-stat            prob\n",
       "-----------------------------------------------------------------------------------\n",
       "const                   -0.021482         0.026468           -0.812           0.417\n",
       "L1.log_ret              -0.130181         0.322207           -0.404           0.686\n",
       "L1.rel_sentiment         0.099462         0.160168            0.621           0.535\n",
       "L1.pos                  -0.000002         0.000003           -0.564           0.572\n",
       "L1.neg                   0.000003         0.000005            0.587           0.557\n",
       "L2.log_ret              -0.020666         0.457934           -0.045           0.964\n",
       "L2.rel_sentiment        -0.015231         0.110023           -0.138           0.890\n",
       "L2.pos                  -0.000001         0.000002           -0.291           0.771\n",
       "L2.neg                   0.000001         0.000003            0.285           0.775\n",
       "===================================================================================\n",
       "\n",
       "Results for equation rel_sentiment\n",
       "===================================================================================\n",
       "                      coefficient       std. error           t-stat            prob\n",
       "-----------------------------------------------------------------------------------\n",
       "const                    0.327001         0.207546            1.576           0.115\n",
       "L1.log_ret              -4.372570         2.526585           -1.731           0.084\n",
       "L1.rel_sentiment        -0.404856         1.255959           -0.322           0.747\n",
       "L1.pos                   0.000014         0.000025            0.560           0.575\n",
       "L1.neg                  -0.000029         0.000040           -0.725           0.469\n",
       "L2.log_ret             -10.956133         3.590884           -3.051           0.002\n",
       "L2.rel_sentiment         0.201023         0.862748            0.233           0.816\n",
       "L2.pos                   0.000003         0.000016            0.206           0.836\n",
       "L2.neg                   0.000000         0.000024            0.007           0.994\n",
       "===================================================================================\n",
       "\n",
       "Results for equation pos\n",
       "===================================================================================\n",
       "                      coefficient       std. error           t-stat            prob\n",
       "-----------------------------------------------------------------------------------\n",
       "const                61840.736425     53912.274105            1.147           0.251\n",
       "L1.log_ret        -1067685.864911    656308.538472           -1.627           0.104\n",
       "L1.rel_sentiment   -447274.969607    326249.391572           -1.371           0.170\n",
       "L1.pos                   9.827099         6.607103            1.487           0.137\n",
       "L1.neg                 -14.184674        10.432188           -1.360           0.174\n",
       "L2.log_ret         -115341.843426    932771.864165           -0.124           0.902\n",
       "L2.rel_sentiment    217658.957256    224108.352406            0.971           0.331\n",
       "L2.pos                  -1.593644         4.122726           -0.387           0.699\n",
       "L2.neg                   3.067165         6.319779            0.485           0.627\n",
       "===================================================================================\n",
       "\n",
       "Results for equation neg\n",
       "===================================================================================\n",
       "                      coefficient       std. error           t-stat            prob\n",
       "-----------------------------------------------------------------------------------\n",
       "const                31776.380023     37538.717505            0.846           0.397\n",
       "L1.log_ret         -558150.510757    456982.778611           -1.221           0.222\n",
       "L1.rel_sentiment   -254686.482991    227165.037085           -1.121           0.262\n",
       "L1.pos                   5.593234         4.600477            1.216           0.224\n",
       "L1.neg                  -7.791925         7.263856           -1.073           0.283\n",
       "L2.log_ret          261703.100554    649482.146444            0.403           0.687\n",
       "L2.rel_sentiment    135184.557237    156044.987363            0.866           0.386\n",
       "L2.pos                  -1.163836         2.870623           -0.405           0.685\n",
       "L2.neg                   2.047336         4.400416            0.465           0.642\n",
       "===================================================================================\n",
       "\n",
       "Correlation matrix of residuals\n",
       "                  log_ret  rel_sentiment       pos       neg\n",
       "log_ret          1.000000      -0.260114  0.305568  0.329276\n",
       "rel_sentiment   -0.260114       1.000000 -0.193844 -0.346908\n",
       "pos              0.305568      -0.193844  1.000000  0.985757\n",
       "neg              0.329276      -0.346908  0.985757  1.000000\n",
       "\n"
      ]
     },
     "execution_count": 113,
     "metadata": {},
     "output_type": "execute_result"
    }
   ],
   "source": [
    "model_fit.summary()"
   ]
  },
  {
   "cell_type": "markdown",
   "metadata": {},
   "source": [
    "#### 4.3.3 Model with Absolute Stock Price and Log Variables"
   ]
  },
  {
   "cell_type": "code",
   "execution_count": 114,
   "metadata": {},
   "outputs": [],
   "source": [
    "var_model = df_for_causality[['S&P 500 Top 50', 'rel_sentiment', 'log_pos', 'log_neg']]\n",
    "\n",
    "from statsmodels.tsa.vector_ar.var_model import VAR\n",
    "from statsmodels.tsa.vector_ar.var_model import VARResults\n",
    "\n",
    "model = VAR(endog=var_model, freq='B')\n",
    "model_fit = model.fit(2)"
   ]
  },
  {
   "cell_type": "code",
   "execution_count": 115,
   "metadata": {},
   "outputs": [
    {
     "data": {
      "text/html": [
       "<table class=\"simpletable\">\n",
       "<caption>Granger causality F-test. H_0: %s do not Granger-cause S&P 500 Top 50. Conclusion: fail to reject H_0 at 5% significance level.</caption>\n",
       "<tr>\n",
       "  <th>Test statistic</th> <th>Critical value</th> <th>p-value</th>   <th>df</th>   \n",
       "</tr>\n",
       "<tr>\n",
       "      <td>0.3562</td>          <td>2.364</td>      <td>0.902</td>  <td>(6, 36)</td>\n",
       "</tr>\n",
       "</table>"
      ],
      "text/plain": [
       "<class 'statsmodels.iolib.table.SimpleTable'>"
      ]
     },
     "execution_count": 115,
     "metadata": {},
     "output_type": "execute_result"
    }
   ],
   "source": [
    "model_fit.test_causality('S&P 500 Top 50', ['rel_sentiment', 'log_pos', 'log_neg'],\n",
    "                         kind='f').summary()"
   ]
  },
  {
   "cell_type": "code",
   "execution_count": 116,
   "metadata": {},
   "outputs": [
    {
     "data": {
      "text/plain": [
       "  Summary of Regression Results   \n",
       "==================================\n",
       "Model:                         VAR\n",
       "Method:                        OLS\n",
       "Date:           Tue, 09, Apr, 2019\n",
       "Time:                     08:44:01\n",
       "--------------------------------------------------------------------\n",
       "No. of Equations:         4.00000    BIC:                   -9.26057\n",
       "Nobs:                     18.0000    HQIC:                  -10.7958\n",
       "Log likelihood:           33.2082    FPE:                2.37753e-05\n",
       "AIC:                     -11.0413    Det(Omega_mle):     4.69637e-06\n",
       "--------------------------------------------------------------------\n",
       "Results for equation S&P 500 Top 50\n",
       "====================================================================================\n",
       "                       coefficient       std. error           t-stat            prob\n",
       "------------------------------------------------------------------------------------\n",
       "const                  1060.898672       669.729772            1.584           0.113\n",
       "L1.S&P 500 Top 50         0.677424         0.410737            1.649           0.099\n",
       "L1.rel_sentiment      -1246.078769      2976.339275           -0.419           0.675\n",
       "L1.log_pos              590.549679      1429.158977            0.413           0.679\n",
       "L1.log_neg             -588.717917      1432.957604           -0.411           0.681\n",
       "L2.S&P 500 Top 50        -0.141451         0.375020           -0.377           0.706\n",
       "L2.rel_sentiment       1152.620125      2970.676095            0.388           0.698\n",
       "L2.log_pos               16.789870        34.876701            0.481           0.630\n",
       "L2.log_neg              -22.195609        31.109147           -0.713           0.476\n",
       "====================================================================================\n",
       "\n",
       "Results for equation rel_sentiment\n",
       "====================================================================================\n",
       "                       coefficient       std. error           t-stat            prob\n",
       "------------------------------------------------------------------------------------\n",
       "const                     3.928791         3.021187            1.300           0.193\n",
       "L1.S&P 500 Top 50        -0.003589         0.001853           -1.937           0.053\n",
       "L1.rel_sentiment         15.533966        13.426427            1.157           0.247\n",
       "L1.log_pos               -7.225722         6.447013           -1.121           0.262\n",
       "L1.log_neg                7.219057         6.464149            1.117           0.264\n",
       "L2.S&P 500 Top 50         0.001904         0.001692            1.125           0.260\n",
       "L2.rel_sentiment        -15.314568        13.400880           -1.143           0.253\n",
       "L2.log_pos                0.221675         0.157331            1.409           0.159\n",
       "L2.log_neg               -0.196185         0.140335           -1.398           0.162\n",
       "====================================================================================\n",
       "\n",
       "Results for equation log_pos\n",
       "====================================================================================\n",
       "                       coefficient       std. error           t-stat            prob\n",
       "------------------------------------------------------------------------------------\n",
       "const                   -13.677580        14.167776           -0.965           0.334\n",
       "L1.S&P 500 Top 50        -0.013587         0.008689           -1.564           0.118\n",
       "L1.rel_sentiment         85.680923        62.962871            1.361           0.174\n",
       "L1.log_pos              -41.505365        30.233097           -1.373           0.170\n",
       "L1.log_neg               41.293003        30.313454            1.362           0.173\n",
       "L2.S&P 500 Top 50         0.019696         0.007933            2.483           0.013\n",
       "L2.rel_sentiment        -84.677809        62.843070           -1.347           0.178\n",
       "L2.log_pos                0.068717         0.737798            0.093           0.926\n",
       "L2.log_neg               -0.223685         0.658097           -0.340           0.734\n",
       "====================================================================================\n",
       "\n",
       "Results for equation log_neg\n",
       "====================================================================================\n",
       "                       coefficient       std. error           t-stat            prob\n",
       "------------------------------------------------------------------------------------\n",
       "const                   -21.676353        18.390345           -1.179           0.239\n",
       "L1.S&P 500 Top 50        -0.006063         0.011279           -0.538           0.591\n",
       "L1.rel_sentiment         54.327398        81.728345            0.665           0.506\n",
       "L1.log_pos              -25.940335        39.243778           -0.661           0.509\n",
       "L1.log_neg               25.738684        39.348086            0.654           0.513\n",
       "L2.S&P 500 Top 50         0.015602         0.010298            1.515           0.130\n",
       "L2.rel_sentiment        -51.721736        81.572838           -0.634           0.526\n",
       "L2.log_pos               -0.393650         0.957692           -0.411           0.681\n",
       "L2.log_neg                0.184573         0.854237            0.216           0.829\n",
       "====================================================================================\n",
       "\n",
       "Correlation matrix of residuals\n",
       "                  S&P 500 Top 50  rel_sentiment   log_pos   log_neg\n",
       "S&P 500 Top 50          1.000000      -0.385234  0.438195  0.473241\n",
       "rel_sentiment          -0.385234       1.000000 -0.546409 -0.761129\n",
       "log_pos                 0.438195      -0.546409  1.000000  0.959065\n",
       "log_neg                 0.473241      -0.761129  0.959065  1.000000\n",
       "\n"
      ]
     },
     "execution_count": 116,
     "metadata": {},
     "output_type": "execute_result"
    }
   ],
   "source": [
    "model_fit.summary()"
   ]
  },
  {
   "cell_type": "markdown",
   "metadata": {},
   "source": [
    "Significance could not be established."
   ]
  },
  {
   "cell_type": "markdown",
   "metadata": {},
   "source": [
    "#### 4.3.4 Model with Absolute Stock Price and Absolute Variables"
   ]
  },
  {
   "cell_type": "code",
   "execution_count": 117,
   "metadata": {},
   "outputs": [],
   "source": [
    "var_model = df_for_causality[['S&P 500 Top 50', 'rel_sentiment', 'pos', 'neg']]\n",
    "\n",
    "from statsmodels.tsa.vector_ar.var_model import VAR\n",
    "from statsmodels.tsa.vector_ar.var_model import VARResults\n",
    "\n",
    "model = VAR(endog=var_model, freq='B')\n",
    "model_fit = model.fit(2)"
   ]
  },
  {
   "cell_type": "code",
   "execution_count": 118,
   "metadata": {},
   "outputs": [
    {
     "data": {
      "text/html": [
       "<table class=\"simpletable\">\n",
       "<caption>Granger causality F-test. H_0: %s do not Granger-cause S&P 500 Top 50. Conclusion: fail to reject H_0 at 5% significance level.</caption>\n",
       "<tr>\n",
       "  <th>Test statistic</th> <th>Critical value</th> <th>p-value</th>   <th>df</th>   \n",
       "</tr>\n",
       "<tr>\n",
       "      <td>0.2973</td>          <td>2.364</td>      <td>0.934</td>  <td>(6, 36)</td>\n",
       "</tr>\n",
       "</table>"
      ],
      "text/plain": [
       "<class 'statsmodels.iolib.table.SimpleTable'>"
      ]
     },
     "execution_count": 118,
     "metadata": {},
     "output_type": "execute_result"
    }
   ],
   "source": [
    "model_fit.test_causality('S&P 500 Top 50', ['rel_sentiment', 'pos', 'neg'],\n",
    "                         kind='f').summary()"
   ]
  },
  {
   "cell_type": "code",
   "execution_count": 119,
   "metadata": {},
   "outputs": [
    {
     "data": {
      "text/plain": [
       "  Summary of Regression Results   \n",
       "==================================\n",
       "Model:                         VAR\n",
       "Method:                        OLS\n",
       "Date:           Tue, 09, Apr, 2019\n",
       "Time:                     08:45:00\n",
       "--------------------------------------------------------------------\n",
       "No. of Equations:         4.00000    BIC:                    37.2980\n",
       "Nobs:                     18.0000    HQIC:                   35.7628\n",
       "Log likelihood:          -385.819    FPE:                3.94699e+15\n",
       "AIC:                      35.5173    Det(Omega_mle):     7.79652e+14\n",
       "--------------------------------------------------------------------\n",
       "Results for equation S&P 500 Top 50\n",
       "====================================================================================\n",
       "                       coefficient       std. error           t-stat            prob\n",
       "------------------------------------------------------------------------------------\n",
       "const                  1367.922105      1209.651807            1.131           0.258\n",
       "L1.S&P 500 Top 50         0.584371         0.379639            1.539           0.124\n",
       "L1.rel_sentiment       -106.343321       422.443502           -0.252           0.801\n",
       "L1.pos                    0.001834         0.008292            0.221           0.825\n",
       "L1.neg                   -0.002710         0.013053           -0.208           0.836\n",
       "L2.S&P 500 Top 50        -0.173922         0.397423           -0.438           0.662\n",
       "L2.rel_sentiment       -106.267934       235.392912           -0.451           0.652\n",
       "L2.pos                    0.001709         0.004958            0.345           0.730\n",
       "L2.neg                   -0.002765         0.007652           -0.361           0.718\n",
       "====================================================================================\n",
       "\n",
       "Results for equation rel_sentiment\n",
       "====================================================================================\n",
       "                       coefficient       std. error           t-stat            prob\n",
       "------------------------------------------------------------------------------------\n",
       "const                     6.388761         6.147004            1.039           0.299\n",
       "L1.S&P 500 Top 50        -0.002649         0.001929           -1.373           0.170\n",
       "L1.rel_sentiment         -0.641701         2.146702           -0.299           0.765\n",
       "L1.pos                    0.000024         0.000042            0.565           0.572\n",
       "L1.neg                   -0.000039         0.000066           -0.587           0.557\n",
       "L2.S&P 500 Top 50         0.000018         0.002020            0.009           0.993\n",
       "L2.rel_sentiment         -0.484796         1.196180           -0.405           0.685\n",
       "L2.pos                    0.000014         0.000025            0.545           0.586\n",
       "L2.neg                   -0.000020         0.000039           -0.526           0.599\n",
       "====================================================================================\n",
       "\n",
       "Results for equation pos\n",
       "====================================================================================\n",
       "                       coefficient       std. error           t-stat            prob\n",
       "------------------------------------------------------------------------------------\n",
       "const                359326.675903   1178050.010833            0.305           0.760\n",
       "L1.S&P 500 Top 50      -534.595924       369.720927           -1.446           0.148\n",
       "L1.rel_sentiment    -500425.423760    411407.289884           -1.216           0.224\n",
       "L1.pos                   10.828870         8.075527            1.341           0.180\n",
       "L1.neg                  -15.729608        12.712472           -1.237           0.216\n",
       "L2.S&P 500 Top 50       409.517470       387.040847            1.058           0.290\n",
       "L2.rel_sentiment     195818.946330    229243.342112            0.854           0.393\n",
       "L2.pos                   -0.941761         4.828425           -0.195           0.845\n",
       "L2.neg                    2.005233         7.452073            0.269           0.788\n",
       "====================================================================================\n",
       "\n",
       "Results for equation neg\n",
       "====================================================================================\n",
       "                       coefficient       std. error           t-stat            prob\n",
       "------------------------------------------------------------------------------------\n",
       "const                 95327.521681    830422.018199            0.115           0.909\n",
       "L1.S&P 500 Top 50      -276.412030       260.620853           -1.061           0.289\n",
       "L1.rel_sentiment    -295059.850099    290006.085332           -1.017           0.309\n",
       "L1.pos                    6.185978         5.692539            1.087           0.277\n",
       "L1.neg                   -8.868876         8.961179           -0.990           0.322\n",
       "L2.S&P 500 Top 50       252.459410       272.829878            0.925           0.355\n",
       "L2.rel_sentiment     139109.115425    161596.466249            0.861           0.389\n",
       "L2.pos                   -0.938013         3.403617           -0.276           0.783\n",
       "L2.neg                    1.798669         5.253059            0.342           0.732\n",
       "====================================================================================\n",
       "\n",
       "Correlation matrix of residuals\n",
       "                  S&P 500 Top 50  rel_sentiment       pos       neg\n",
       "S&P 500 Top 50          1.000000      -0.327911  0.290946  0.334364\n",
       "rel_sentiment          -0.327911       1.000000 -0.144671 -0.365679\n",
       "pos                     0.290946      -0.144671  1.000000  0.972462\n",
       "neg                     0.334364      -0.365679  0.972462  1.000000\n",
       "\n"
      ]
     },
     "execution_count": 119,
     "metadata": {},
     "output_type": "execute_result"
    }
   ],
   "source": [
    "model_fit.summary()"
   ]
  },
  {
   "cell_type": "markdown",
   "metadata": {},
   "source": [
    "#### 4.3.5 Model with Log Return and All Variables"
   ]
  },
  {
   "cell_type": "code",
   "execution_count": 130,
   "metadata": {},
   "outputs": [],
   "source": [
    "var_model = df_for_causality[['log_ret', 'rel_sentiment', 'pos', 'neg', 'log_neg', 'log_pos']]"
   ]
  },
  {
   "cell_type": "code",
   "execution_count": 131,
   "metadata": {},
   "outputs": [],
   "source": [
    "from statsmodels.tsa.vector_ar.var_model import VAR\n",
    "from statsmodels.tsa.vector_ar.var_model import VARResults\n",
    "\n",
    "model = VAR(endog=var_model, freq='B')\n",
    "model_fit = model.fit(2)"
   ]
  },
  {
   "cell_type": "code",
   "execution_count": 132,
   "metadata": {},
   "outputs": [
    {
     "data": {
      "text/html": [
       "<table class=\"simpletable\">\n",
       "<caption>Granger causality F-test. H_0: %s do not Granger-cause log_ret. Conclusion: reject H_0 at 5% significance level.</caption>\n",
       "<tr>\n",
       "  <th>Test statistic</th> <th>Critical value</th> <th>p-value</th>    <th>df</th>   \n",
       "</tr>\n",
       "<tr>\n",
       "       <td>2.195</td>          <td>2.165</td>      <td>0.047</td>  <td>(10, 30)</td>\n",
       "</tr>\n",
       "</table>"
      ],
      "text/plain": [
       "<class 'statsmodels.iolib.table.SimpleTable'>"
      ]
     },
     "execution_count": 132,
     "metadata": {},
     "output_type": "execute_result"
    }
   ],
   "source": [
    "model_fit.test_causality('log_ret', ['rel_sentiment', 'pos', 'neg', 'log_pos', 'log_neg']\n",
    "                         , kind='f').summary()"
   ]
  },
  {
   "cell_type": "code",
   "execution_count": 133,
   "metadata": {},
   "outputs": [
    {
     "data": {
      "text/plain": [
       "  Summary of Regression Results   \n",
       "==================================\n",
       "Model:                         VAR\n",
       "Method:                        OLS\n",
       "Date:           Tue, 09, Apr, 2019\n",
       "Time:                     08:47:52\n",
       "--------------------------------------------------------------------\n",
       "No. of Equations:         6.00000    BIC:                   -21.3824\n",
       "Nobs:                     18.0000    HQIC:                  -24.7087\n",
       "Log likelihood:           151.921    FPE:                1.06796e-10\n",
       "AIC:                     -25.2407    Det(Omega_mle):     3.16801e-12\n",
       "--------------------------------------------------------------------\n",
       "Results for equation log_ret\n",
       "===================================================================================\n",
       "                      coefficient       std. error           t-stat            prob\n",
       "-----------------------------------------------------------------------------------\n",
       "const                   -0.115351         0.029843           -3.865           0.000\n",
       "L1.log_ret               0.664397         0.366513            1.813           0.070\n",
       "L1.rel_sentiment        -6.263032         2.312806           -2.708           0.007\n",
       "L1.pos                   0.000005         0.000004            1.257           0.209\n",
       "L1.neg                  -0.000004         0.000007           -0.575           0.565\n",
       "L1.log_neg              -2.952011         1.032592           -2.859           0.004\n",
       "L1.log_pos               2.893069         1.034500            2.797           0.005\n",
       "L2.log_ret               1.655562         0.559456            2.959           0.003\n",
       "L2.rel_sentiment         6.687747         2.331791            2.868           0.004\n",
       "L2.pos                  -0.000017         0.000005           -3.612           0.000\n",
       "L2.neg                   0.000024         0.000008            3.084           0.002\n",
       "L2.log_neg              -0.117105         0.029716           -3.941           0.000\n",
       "L2.log_pos               0.108269         0.028254            3.832           0.000\n",
       "===================================================================================\n",
       "\n",
       "Results for equation rel_sentiment\n",
       "===================================================================================\n",
       "                      coefficient       std. error           t-stat            prob\n",
       "-----------------------------------------------------------------------------------\n",
       "const                    0.269625         0.295691            0.912           0.362\n",
       "L1.log_ret             -12.474768         3.631434           -3.435           0.001\n",
       "L1.rel_sentiment        61.627743        22.915453            2.689           0.007\n",
       "L1.pos                  -0.000075         0.000042           -1.782           0.075\n",
       "L1.neg                   0.000100         0.000072            1.384           0.166\n",
       "L1.log_neg              28.000165        10.230995            2.737           0.006\n",
       "L1.log_pos             -27.808326        10.249907           -2.713           0.007\n",
       "L2.log_ret             -15.322979         5.543137           -2.764           0.006\n",
       "L2.rel_sentiment       -61.625190        23.103563           -2.667           0.008\n",
       "L2.pos                   0.000084         0.000048            1.761           0.078\n",
       "L2.neg                  -0.000115         0.000076           -1.514           0.130\n",
       "L2.log_neg               0.344431         0.294433            1.170           0.242\n",
       "L2.log_pos              -0.286113         0.279939           -1.022           0.307\n",
       "===================================================================================\n",
       "\n",
       "Results for equation pos\n",
       "===================================================================================\n",
       "                      coefficient       std. error           t-stat            prob\n",
       "-----------------------------------------------------------------------------------\n",
       "const                39870.808144    110107.809309            0.362           0.717\n",
       "L1.log_ret         -450859.546972   1352254.430193           -0.333           0.739\n",
       "L1.rel_sentiment  -8246668.698189   8533136.333826           -0.966           0.334\n",
       "L1.pos                  22.052374        15.754860            1.400           0.162\n",
       "L1.neg                 -33.542857        26.840176           -1.250           0.211\n",
       "L1.log_neg        -3467170.368758   3809764.500742           -0.910           0.363\n",
       "L1.log_pos         3478180.703906   3816806.742056            0.911           0.362\n",
       "L2.log_ret          186839.317197   2064124.270101            0.091           0.928\n",
       "L2.rel_sentiment   8086975.099522   8603183.805971            0.940           0.347\n",
       "L2.pos                 -15.659973        17.804309           -0.880           0.379\n",
       "L2.neg                  25.775594        28.285160            0.911           0.362\n",
       "L2.log_neg          -71073.957081    109639.314162           -0.648           0.517\n",
       "L2.log_pos           40657.359525    104242.136950            0.390           0.697\n",
       "===================================================================================\n",
       "\n",
       "Results for equation neg\n",
       "===================================================================================\n",
       "                      coefficient       std. error           t-stat            prob\n",
       "-----------------------------------------------------------------------------------\n",
       "const                19670.719758     73854.706496            0.266           0.790\n",
       "L1.log_ret           31572.393305    907023.349904            0.035           0.972\n",
       "L1.rel_sentiment  -7218510.018148   5723592.934794           -1.261           0.207\n",
       "L1.pos                  16.501868        10.567557            1.562           0.118\n",
       "L1.neg                 -24.992821        18.003022           -1.388           0.165\n",
       "L1.log_neg        -3099173.654740   2555395.850554           -1.213           0.225\n",
       "L1.log_pos         3107170.208746   2560119.427098            1.214           0.225\n",
       "L2.log_ret          512630.004763   1384509.355846            0.370           0.711\n",
       "L2.rel_sentiment   7135821.845043   5770577.208921            1.237           0.216\n",
       "L2.pos                 -12.972345        11.942223           -1.086           0.277\n",
       "L2.neg                  20.975720        18.972244            1.106           0.269\n",
       "L2.log_neg          -57604.784693     73540.463830           -0.783           0.433\n",
       "L2.log_pos           35202.564715     69920.312440            0.503           0.615\n",
       "===================================================================================\n",
       "\n",
       "Results for equation log_neg\n",
       "===================================================================================\n",
       "                      coefficient       std. error           t-stat            prob\n",
       "-----------------------------------------------------------------------------------\n",
       "const                   -1.113626         2.059125           -0.541           0.589\n",
       "L1.log_ret              25.747061        25.288497            1.018           0.309\n",
       "L1.rel_sentiment      -273.898182       159.578099           -1.716           0.086\n",
       "L1.pos                   0.000547         0.000295            1.856           0.064\n",
       "L1.neg                  -0.000691         0.000502           -1.376           0.169\n",
       "L1.log_neg            -122.199188        71.246368           -1.715           0.086\n",
       "L1.log_pos             119.673661        71.378065            1.677           0.094\n",
       "L2.log_ret              94.329056        38.601168            2.444           0.015\n",
       "L2.rel_sentiment       278.166059       160.888056            1.729           0.084\n",
       "L2.pos                  -0.000599         0.000333           -1.798           0.072\n",
       "L2.neg                   0.000783         0.000529            1.480           0.139\n",
       "L2.log_neg              -3.453265         2.050364           -1.684           0.092\n",
       "L2.log_pos               2.982067         1.949431            1.530           0.126\n",
       "===================================================================================\n",
       "\n",
       "Results for equation log_pos\n",
       "===================================================================================\n",
       "                      coefficient       std. error           t-stat            prob\n",
       "-----------------------------------------------------------------------------------\n",
       "const                   -0.515905         1.975075           -0.261           0.794\n",
       "L1.log_ret              -0.750951        24.256258           -0.031           0.975\n",
       "L1.rel_sentiment      -145.153538       153.064356           -0.948           0.343\n",
       "L1.pos                   0.000389         0.000283            1.377           0.168\n",
       "L1.neg                  -0.000484         0.000481           -1.006           0.315\n",
       "L1.log_neg             -62.677383        68.338197           -0.917           0.359\n",
       "L1.log_pos              60.592460        68.464518            0.885           0.376\n",
       "L2.log_ret              61.880446        37.025525            1.671           0.095\n",
       "L2.rel_sentiment       147.203792       154.320843            0.954           0.340\n",
       "L2.pos                  -0.000418         0.000319           -1.310           0.190\n",
       "L2.neg                   0.000538         0.000507            1.060           0.289\n",
       "L2.log_neg              -2.704167         1.966671           -1.375           0.169\n",
       "L2.log_pos               2.355137         1.869858            1.260           0.208\n",
       "===================================================================================\n",
       "\n",
       "Correlation matrix of residuals\n",
       "                  log_ret  rel_sentiment       pos       neg   log_neg   log_pos\n",
       "log_ret          1.000000       0.106047  0.064174  0.059728 -0.099624 -0.068687\n",
       "rel_sentiment    0.106047       1.000000 -0.000506 -0.145122 -0.281178  0.011084\n",
       "pos              0.064174      -0.000506  1.000000  0.988217  0.934998  0.973982\n",
       "neg              0.059728      -0.145122  0.988217  1.000000  0.963970  0.960548\n",
       "log_neg         -0.099624      -0.281178  0.934998  0.963970  1.000000  0.956454\n",
       "log_pos         -0.068687       0.011084  0.973982  0.960548  0.956454  1.000000\n",
       "\n"
      ]
     },
     "execution_count": 133,
     "metadata": {},
     "output_type": "execute_result"
    }
   ],
   "source": [
    "model_fit.summary()"
   ]
  },
  {
   "cell_type": "markdown",
   "metadata": {},
   "source": [
    "We were able to establish statistical significance using log returns and all other variables (log and absolute) for sentiment analysis. However, our standard errors are quite high, possibly due to scarcity of data.\n",
    "More data would help in establishing more concrete results."
   ]
  },
  {
   "cell_type": "markdown",
   "metadata": {},
   "source": [
    "# 5. Individual Stock Data (S&P500 Top 50)"
   ]
  },
  {
   "cell_type": "code",
   "execution_count": 136,
   "metadata": {},
   "outputs": [
    {
     "data": {
      "text/plain": [
       "51"
      ]
     },
     "execution_count": 136,
     "metadata": {},
     "output_type": "execute_result"
    }
   ],
   "source": [
    "len(combined_df['ticker'].unique())"
   ]
  },
  {
   "cell_type": "code",
   "execution_count": 137,
   "metadata": {},
   "outputs": [],
   "source": [
    "tickers = list(set(combined_df['ticker'].unique()))"
   ]
  },
  {
   "cell_type": "code",
   "execution_count": 138,
   "metadata": {},
   "outputs": [],
   "source": [
    "tickers.append('BRK-B')\n",
    "tickers.remove('BRK')"
   ]
  },
  {
   "cell_type": "code",
   "execution_count": 139,
   "metadata": {},
   "outputs": [
    {
     "data": {
      "text/plain": [
       "51"
      ]
     },
     "execution_count": 139,
     "metadata": {},
     "output_type": "execute_result"
    }
   ],
   "source": [
    "len(tickers)"
   ]
  },
  {
   "cell_type": "code",
   "execution_count": null,
   "metadata": {},
   "outputs": [],
   "source": [
    "# import fix_yahoo_finance as yf\n",
    "\n",
    "# complete_panel_data = yf.download(tickers, start=\"2019-03-01\", end=\"2019-03-27\")"
   ]
  },
  {
   "cell_type": "code",
   "execution_count": 140,
   "metadata": {},
   "outputs": [
    {
     "name": "stderr",
     "output_type": "stream",
     "text": [
      "/home/s_hamdani/anaconda3/lib/python3.6/site-packages/pandas_datareader/base.py:230: SymbolWarning: Failed to read symbol: 'WFG', replacing with NaN.\n",
      "  warnings.warn(msg.format(sym), SymbolWarning)\n",
      "/home/s_hamdani/anaconda3/lib/python3.6/site-packages/pandas_datareader/base.py:230: SymbolWarning: Failed to read symbol: 'ABBT', replacing with NaN.\n",
      "  warnings.warn(msg.format(sym), SymbolWarning)\n"
     ]
    }
   ],
   "source": [
    "import pandas_datareader\n",
    "\n",
    "start_date = '2019-03-04'\n",
    "end_date = '2019-03-29'\n",
    "\n",
    "complete_panel_data = pandas_datareader.get_data_yahoo(tickers, start_date, end_date)"
   ]
  },
  {
   "cell_type": "code",
   "execution_count": 141,
   "metadata": {},
   "outputs": [
    {
     "data": {
      "text/html": [
       "<div>\n",
       "<style scoped>\n",
       "    .dataframe tbody tr th:only-of-type {\n",
       "        vertical-align: middle;\n",
       "    }\n",
       "\n",
       "    .dataframe tbody tr th {\n",
       "        vertical-align: top;\n",
       "    }\n",
       "\n",
       "    .dataframe thead tr th {\n",
       "        text-align: left;\n",
       "    }\n",
       "\n",
       "    .dataframe thead tr:last-of-type th {\n",
       "        text-align: right;\n",
       "    }\n",
       "</style>\n",
       "<table border=\"1\" class=\"dataframe\">\n",
       "  <thead>\n",
       "    <tr>\n",
       "      <th>Attributes</th>\n",
       "      <th colspan=\"10\" halign=\"left\">High</th>\n",
       "      <th>...</th>\n",
       "      <th colspan=\"10\" halign=\"left\">Adj Close</th>\n",
       "    </tr>\n",
       "    <tr>\n",
       "      <th>Symbols</th>\n",
       "      <th>AAPL</th>\n",
       "      <th>ABBT</th>\n",
       "      <th>ABBV</th>\n",
       "      <th>ABT</th>\n",
       "      <th>ADBE</th>\n",
       "      <th>AMGN</th>\n",
       "      <th>AMZN</th>\n",
       "      <th>AVGO</th>\n",
       "      <th>BA</th>\n",
       "      <th>BAC</th>\n",
       "      <th>...</th>\n",
       "      <th>PYPL</th>\n",
       "      <th>T</th>\n",
       "      <th>UNH</th>\n",
       "      <th>UNP</th>\n",
       "      <th>V</th>\n",
       "      <th>VZ</th>\n",
       "      <th>WFC</th>\n",
       "      <th>WFG</th>\n",
       "      <th>WMT</th>\n",
       "      <th>XOM</th>\n",
       "    </tr>\n",
       "    <tr>\n",
       "      <th>Date</th>\n",
       "      <th></th>\n",
       "      <th></th>\n",
       "      <th></th>\n",
       "      <th></th>\n",
       "      <th></th>\n",
       "      <th></th>\n",
       "      <th></th>\n",
       "      <th></th>\n",
       "      <th></th>\n",
       "      <th></th>\n",
       "      <th></th>\n",
       "      <th></th>\n",
       "      <th></th>\n",
       "      <th></th>\n",
       "      <th></th>\n",
       "      <th></th>\n",
       "      <th></th>\n",
       "      <th></th>\n",
       "      <th></th>\n",
       "      <th></th>\n",
       "      <th></th>\n",
       "    </tr>\n",
       "  </thead>\n",
       "  <tbody>\n",
       "    <tr>\n",
       "      <th>2019-03-04</th>\n",
       "      <td>177.750000</td>\n",
       "      <td>NaN</td>\n",
       "      <td>80.730003</td>\n",
       "      <td>78.970001</td>\n",
       "      <td>267.000000</td>\n",
       "      <td>192.119995</td>\n",
       "      <td>1709.430054</td>\n",
       "      <td>276.579987</td>\n",
       "      <td>444.500000</td>\n",
       "      <td>29.540001</td>\n",
       "      <td>...</td>\n",
       "      <td>96.570000</td>\n",
       "      <td>29.507948</td>\n",
       "      <td>235.122589</td>\n",
       "      <td>167.369995</td>\n",
       "      <td>147.960007</td>\n",
       "      <td>56.240002</td>\n",
       "      <td>50.110001</td>\n",
       "      <td>NaN</td>\n",
       "      <td>97.326317</td>\n",
       "      <td>80.309998</td>\n",
       "    </tr>\n",
       "    <tr>\n",
       "      <th>2019-03-05</th>\n",
       "      <td>176.000000</td>\n",
       "      <td>NaN</td>\n",
       "      <td>79.900002</td>\n",
       "      <td>78.910004</td>\n",
       "      <td>259.869995</td>\n",
       "      <td>190.669998</td>\n",
       "      <td>1707.800049</td>\n",
       "      <td>280.440002</td>\n",
       "      <td>433.850006</td>\n",
       "      <td>29.190001</td>\n",
       "      <td>...</td>\n",
       "      <td>96.529999</td>\n",
       "      <td>29.478420</td>\n",
       "      <td>240.512009</td>\n",
       "      <td>166.779999</td>\n",
       "      <td>147.949997</td>\n",
       "      <td>56.080002</td>\n",
       "      <td>49.889999</td>\n",
       "      <td>NaN</td>\n",
       "      <td>97.813690</td>\n",
       "      <td>80.190002</td>\n",
       "    </tr>\n",
       "    <tr>\n",
       "      <th>2019-03-06</th>\n",
       "      <td>175.490005</td>\n",
       "      <td>NaN</td>\n",
       "      <td>79.129997</td>\n",
       "      <td>78.220001</td>\n",
       "      <td>259.489990</td>\n",
       "      <td>189.369995</td>\n",
       "      <td>1697.750000</td>\n",
       "      <td>276.929993</td>\n",
       "      <td>432.000000</td>\n",
       "      <td>29.160000</td>\n",
       "      <td>...</td>\n",
       "      <td>96.459999</td>\n",
       "      <td>29.340624</td>\n",
       "      <td>238.160995</td>\n",
       "      <td>165.910004</td>\n",
       "      <td>147.809998</td>\n",
       "      <td>55.680000</td>\n",
       "      <td>49.820000</td>\n",
       "      <td>NaN</td>\n",
       "      <td>97.734123</td>\n",
       "      <td>79.279999</td>\n",
       "    </tr>\n",
       "    <tr>\n",
       "      <th>2019-03-07</th>\n",
       "      <td>174.440002</td>\n",
       "      <td>NaN</td>\n",
       "      <td>79.120003</td>\n",
       "      <td>77.949997</td>\n",
       "      <td>257.489990</td>\n",
       "      <td>183.160004</td>\n",
       "      <td>1669.750000</td>\n",
       "      <td>270.329987</td>\n",
       "      <td>434.350006</td>\n",
       "      <td>28.719999</td>\n",
       "      <td>...</td>\n",
       "      <td>96.209999</td>\n",
       "      <td>29.448893</td>\n",
       "      <td>235.799988</td>\n",
       "      <td>164.940002</td>\n",
       "      <td>146.830002</td>\n",
       "      <td>56.299999</td>\n",
       "      <td>49.680000</td>\n",
       "      <td>NaN</td>\n",
       "      <td>96.928452</td>\n",
       "      <td>80.160004</td>\n",
       "    </tr>\n",
       "    <tr>\n",
       "      <th>2019-03-08</th>\n",
       "      <td>173.070007</td>\n",
       "      <td>NaN</td>\n",
       "      <td>78.040001</td>\n",
       "      <td>76.680000</td>\n",
       "      <td>255.020004</td>\n",
       "      <td>181.309998</td>\n",
       "      <td>1622.719971</td>\n",
       "      <td>264.760010</td>\n",
       "      <td>423.429993</td>\n",
       "      <td>28.670000</td>\n",
       "      <td>...</td>\n",
       "      <td>95.690002</td>\n",
       "      <td>29.488262</td>\n",
       "      <td>237.289993</td>\n",
       "      <td>164.300003</td>\n",
       "      <td>147.350006</td>\n",
       "      <td>56.529999</td>\n",
       "      <td>49.799999</td>\n",
       "      <td>NaN</td>\n",
       "      <td>97.067703</td>\n",
       "      <td>79.010002</td>\n",
       "    </tr>\n",
       "  </tbody>\n",
       "</table>\n",
       "<p>5 rows × 306 columns</p>\n",
       "</div>"
      ],
      "text/plain": [
       "Attributes        High                                                     \\\n",
       "Symbols           AAPL ABBT       ABBV        ABT        ADBE        AMGN   \n",
       "Date                                                                        \n",
       "2019-03-04  177.750000  NaN  80.730003  78.970001  267.000000  192.119995   \n",
       "2019-03-05  176.000000  NaN  79.900002  78.910004  259.869995  190.669998   \n",
       "2019-03-06  175.490005  NaN  79.129997  78.220001  259.489990  189.369995   \n",
       "2019-03-07  174.440002  NaN  79.120003  77.949997  257.489990  183.160004   \n",
       "2019-03-08  173.070007  NaN  78.040001  76.680000  255.020004  181.309998   \n",
       "\n",
       "Attributes                                                    ...      \\\n",
       "Symbols            AMZN        AVGO          BA        BAC    ...       \n",
       "Date                                                          ...       \n",
       "2019-03-04  1709.430054  276.579987  444.500000  29.540001    ...       \n",
       "2019-03-05  1707.800049  280.440002  433.850006  29.190001    ...       \n",
       "2019-03-06  1697.750000  276.929993  432.000000  29.160000    ...       \n",
       "2019-03-07  1669.750000  270.329987  434.350006  28.719999    ...       \n",
       "2019-03-08  1622.719971  264.760010  423.429993  28.670000    ...       \n",
       "\n",
       "Attributes  Adj Close                                                 \\\n",
       "Symbols          PYPL          T         UNH         UNP           V   \n",
       "Date                                                                   \n",
       "2019-03-04  96.570000  29.507948  235.122589  167.369995  147.960007   \n",
       "2019-03-05  96.529999  29.478420  240.512009  166.779999  147.949997   \n",
       "2019-03-06  96.459999  29.340624  238.160995  165.910004  147.809998   \n",
       "2019-03-07  96.209999  29.448893  235.799988  164.940002  146.830002   \n",
       "2019-03-08  95.690002  29.488262  237.289993  164.300003  147.350006   \n",
       "\n",
       "Attributes                                                  \n",
       "Symbols            VZ        WFC WFG        WMT        XOM  \n",
       "Date                                                        \n",
       "2019-03-04  56.240002  50.110001 NaN  97.326317  80.309998  \n",
       "2019-03-05  56.080002  49.889999 NaN  97.813690  80.190002  \n",
       "2019-03-06  55.680000  49.820000 NaN  97.734123  79.279999  \n",
       "2019-03-07  56.299999  49.680000 NaN  96.928452  80.160004  \n",
       "2019-03-08  56.529999  49.799999 NaN  97.067703  79.010002  \n",
       "\n",
       "[5 rows x 306 columns]"
      ]
     },
     "execution_count": 141,
     "metadata": {},
     "output_type": "execute_result"
    }
   ],
   "source": [
    "complete_panel_data.head()"
   ]
  },
  {
   "cell_type": "code",
   "execution_count": null,
   "metadata": {},
   "outputs": [],
   "source": [
    "complete_panel_data.loc[complete_panel_data.index]['Adj Close']"
   ]
  },
  {
   "cell_type": "code",
   "execution_count": null,
   "metadata": {},
   "outputs": [],
   "source": [
    "#complete_panel_data.to_csv('panel_data')"
   ]
  },
  {
   "cell_type": "code",
   "execution_count": null,
   "metadata": {},
   "outputs": [],
   "source": []
  }
 ],
 "metadata": {
  "kernelspec": {
   "display_name": "Python 3",
   "language": "python",
   "name": "python3"
  },
  "language_info": {
   "codemirror_mode": {
    "name": "ipython",
    "version": 3
   },
   "file_extension": ".py",
   "mimetype": "text/x-python",
   "name": "python",
   "nbconvert_exporter": "python",
   "pygments_lexer": "ipython3",
   "version": "3.6.5"
  }
 },
 "nbformat": 4,
 "nbformat_minor": 2
}
